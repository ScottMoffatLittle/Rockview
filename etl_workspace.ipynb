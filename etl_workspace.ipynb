{
 "cells": [
  {
   "cell_type": "code",
   "execution_count": 156,
   "id": "cf0506be",
   "metadata": {},
   "outputs": [],
   "source": [
    "import os\n",
    "import time\n",
    "import json\n",
    "import requests\n",
    "import random\n",
    "import string\n",
    "from google.cloud import bigquery\n",
    "from google.cloud.bigquery import SchemaField\n",
    "import urllib.parse\n",
    "import hmac\n",
    "import hashlib\n",
    "import base64\n",
    "import dlt\n",
    "from dotenv import load_dotenv\n",
    "from datetime import datetime, timedelta"
   ]
  },
  {
   "cell_type": "code",
   "execution_count": 41,
   "id": "8dafcbb8-5f8f-4d9f-b6d5-32c51acdd23a",
   "metadata": {},
   "outputs": [],
   "source": [
    "# Load environment variables from secrets.env\n",
    "load_dotenv(\"secrets.env\")\n",
    "\n",
    "# Authenticate with google cloud\n",
    "os.environ[\"GOOGLE_APPLICATION_CREDENTIALS\"] = os.getenv(\"GCP_KEY_PATH\")\n",
    "\n",
    "# BigQuery account info\n",
    "PROJECT_ID = os.getenv(\"PROJECT_ID\")\n",
    "DATASET_ID = os.getenv(\"DATASET_ID\")\n",
    "DATASET_ID_STAGING = os.getenv(\"DATASET_ID_STAGING\")\n",
    "\n",
    "# NetSuite access secrets\n",
    "NETSUITE_ACCOUNT_ID = os.getenv(\"NETSUITE_ACCOUNT_ID\")\n",
    "NETSUITE_REALM = os.getenv(\"NETSUITE_REALM\")\n",
    "NETSUITE_CONSUMER_KEY = os.getenv(\"NETSUITE_CONSUMER_KEY\")\n",
    "NETSUITE_CONSUMER_SECRET = os.getenv(\"NETSUITE_CONSUMER_SECRET\")\n",
    "NETSUITE_TOKEN = os.getenv(\"NETSUITE_TOKEN\")\n",
    "NETSUITE_TOKEN_SECRET = os.getenv(\"NETSUITE_TOKEN_SECRET\")"
   ]
  },
  {
   "cell_type": "code",
   "execution_count": 42,
   "id": "fcdd5b34-7a50-40b5-9591-869ad6bbea44",
   "metadata": {},
   "outputs": [],
   "source": [
    "# Initialize BigQuery client\n",
    "client = bigquery.Client()"
   ]
  },
  {
   "cell_type": "code",
   "execution_count": 57,
   "id": "ea8ffa0f-16e4-4801-ac18-d56666e7c670",
   "metadata": {},
   "outputs": [],
   "source": [
    "# Get BigQuery table IDs\n",
    "ACCOUNT_TABLE = f\"{PROJECT_ID}.{DATASET_ID}.Account\"\n",
    "ACCOUNT_TABLE_TEST = f\"{PROJECT_ID}.{DATASET_ID}.Account_test\"\n",
    "ACCOUNT_TABLE_STAGING = f\"{PROJECT_ID}.{DATASET_ID_STAGING}.Account_staging\"\n",
    "\n",
    "# TODO: Add all tables to dict of tables sharing the same keys in TABLE_COLUMNS\n",
    "# Order is BQ table ID, BQ staging table ID\n",
    "BIGQUERY_TABLE_IDS = {\n",
    "    \"account\": [f\"{PROJECT_ID}.{DATASET_ID}.Account\", f\"{PROJECT_ID}.{DATASET_ID_STAGING}.Account_staging\"]\n",
    "    # \"transaction\": [f\"{PROJECT_ID}.{DATASET_ID}.Transaction\", f\"{PROJECT_ID}.{DATASET_ID_STAGING}.Transaction_staging\"],\n",
    "}"
   ]
  },
  {
   "cell_type": "code",
   "execution_count": 145,
   "id": "800b0437-d265-4458-91ea-e8de65ca84d2",
   "metadata": {},
   "outputs": [],
   "source": [
    "NETSUITE_TABLE_COLUMNS = {\n",
    "    \"account\": [\"fullname\", \"acctnumber\", \"generalrate\", \"currency\", \"lastmodifieddate\", \"id\",\n",
    "                \"accountsearchdisplayname\", \"accountsearchdisplaynamecopy\", \"isinactive]\n",
    "\n",
    "    # \"transaction\": [\"sample\", \"transaction\", \"columns\", \"currency\", \"date\", \"status\"],\n",
    "\n",
    "}\n",
    "\n",
    "\n",
    "all_test_columns = [\"fullname\", \"acctnumber\", \"generalrate\", \"currency\", \"lastmodifieddate\", \"id\", \"accountsearchdisplayname\", \"accountsearchdisplaynamecopy\", \"isinactive\"]\n"
   ]
  },
  {
   "cell_type": "code",
   "execution_count": null,
   "id": "319262f7-19cd-4ee4-83d7-cea0230c3cf8",
   "metadata": {},
   "outputs": [],
   "source": [
    "for table, col in my_dict.items():\n",
    "    print(f\"Key: {table}, Value: {col}\")\n",
    "# Output:\n",
    "# Key: a, Value: 1\n",
    "# Key: b, Value: 2\n",
    "# Key: c, Value: 3"
   ]
  },
  {
   "cell_type": "code",
   "execution_count": 44,
   "id": "4fd31edf-f859-4274-b327-885265c0b25a",
   "metadata": {},
   "outputs": [],
   "source": [
    "# NetSuite API Endpoint\n",
    "HTTP_METHOD = \"POST\"\n",
    "BASE_URL = f\"https://{NETSUITE_ACCOUNT_ID}.suitetalk.api.netsuite.com/services/rest/query/v1/suiteql\""
   ]
  },
  {
   "cell_type": "code",
   "execution_count": 140,
   "id": "5add39d2-e60c-40d0-8462-5aa46fc4f238",
   "metadata": {},
   "outputs": [],
   "source": [
    "\"\"\"\n",
    "Input params in the form of:\n",
    "params = {\n",
    "    \"limit\": \"5\",\n",
    "    \"offset\": \"0\"\n",
    "}\n",
    "\n",
    "Input SQL query in the form of:\n",
    "query_body = {\n",
    "    \"q\": \"SELECT acctnumber, fullname, generalrate, currency FROM account\"\n",
    "}\n",
    "\n",
    "\"\"\"\n",
    "def get_netsuite_data(params, query):\n",
    "    \n",
    "    # Encode parameters for URL\n",
    "    encoded_params = urllib.parse.urlencode(params)\n",
    "    \n",
    "    # Full URL with encoccquery params, used in post request\n",
    "    url = f\"{BASE_URL}?{encoded_params}\"\n",
    "    \n",
    "    # Generate OAuth Parameters\n",
    "    timestamp = str(int(time.time()))\n",
    "    nonce = ''.join(random.choices(string.ascii_letters + string.digits, k=11))\n",
    "    \n",
    "    oauth_params = {\n",
    "        \"oauth_consumer_key\": NETSUITE_CONSUMER_KEY,\n",
    "        \"oauth_token\": NETSUITE_TOKEN,\n",
    "        \"oauth_signature_method\": \"HMAC-SHA256\",\n",
    "        \"oauth_timestamp\": timestamp,\n",
    "        \"oauth_nonce\": nonce,\n",
    "        \"oauth_version\": \"1.0\"\n",
    "    }\n",
    "    \n",
    "    # Merge OAuth parameters with query parameters for signature\n",
    "    all_params = {**oauth_params, **params}\n",
    "    \n",
    "    # Sort all parameters alphabetically (important for signature)\n",
    "    sorted_params = sorted(all_params.items())\n",
    "    encoded_param_string = \"&\".join([f\"{urllib.parse.quote(k, safe='')}={urllib.parse.quote(v, safe='')}\" for k, v in sorted_params])\n",
    "    \n",
    "    # Construct the Signature Base String\n",
    "    base_string = f\"{HTTP_METHOD}&{urllib.parse.quote(BASE_URL, safe='')}&{urllib.parse.quote(encoded_param_string, safe='')}\"\n",
    "    \n",
    "    # Generate the HMAC-SHA256 Signature\n",
    "    signing_key = f\"{NETSUITE_CONSUMER_SECRET}&{NETSUITE_TOKEN_SECRET}\"\n",
    "    hashed = hmac.new(signing_key.encode(), base_string.encode(), hashlib.sha256)\n",
    "    signature = base64.b64encode(hashed.digest()).decode()\n",
    "    \n",
    "    # URL Encode Signature Before Sending\n",
    "    encoded_signature = urllib.parse.quote(signature, safe=\"\")\n",
    "    \n",
    "    # Construct OAuth Header\n",
    "    auth_header = (\n",
    "        f'OAuth realm=\"{NETSUITE_REALM}\", '\n",
    "        f'oauth_consumer_key=\"{NETSUITE_CONSUMER_KEY}\", '\n",
    "        f'oauth_token=\"{NETSUITE_TOKEN}\", '\n",
    "        f'oauth_signature_method=\"HMAC-SHA256\", '\n",
    "        f'oauth_timestamp=\"{timestamp}\", '\n",
    "        f'oauth_nonce=\"{nonce}\", '\n",
    "        f'oauth_version=\"1.0\", '\n",
    "        f'oauth_signature=\"{encoded_signature}\"'\n",
    "    )\n",
    "    \n",
    "    # Headers\n",
    "    headers = {\n",
    "        \"Authorization\": auth_header,\n",
    "        \"Content-Type\": \"application/json\",\n",
    "        \"Prefer\": \"transient\",\n",
    "        \"Cache-Control\": \"no-cache\",\n",
    "        \"Accept\": \"*/*\",\n",
    "        \"Accept-Encoding\": \"gzip, deflate, br\",\n",
    "        \"Connection\": \"keep-alive\",\n",
    "    }\n",
    "    \n",
    "    # Send Request\n",
    "    response = requests.post(url, json=query, headers=headers)\n",
    "\n",
    "    if response.status_code == 200:\n",
    "        # return response.json().get(\"links\", []), response.json().get(\"items\", [])\n",
    "        return response\n",
    "    # Handle response error\n",
    "    else:\n",
    "        raise Exception(f\"NetSuite API Error: {response.text}\")\n",
    "    \n",
    "    # Check the response\n",
    "    #print(\"\\n🔹 Response Status Code:\", response.status_code)\n",
    "    #print(\"\\n🔹 Response Body:\", response.json())"
   ]
  },
  {
   "cell_type": "code",
   "execution_count": 132,
   "id": "7f7e5e8b-729b-4bfd-a6bf-63557f227530",
   "metadata": {},
   "outputs": [],
   "source": [
    "LIMIT = 20"
   ]
  },
  {
   "cell_type": "code",
   "execution_count": 133,
   "id": "59d7b82d-dae8-4722-beb5-c9b16cc59d74",
   "metadata": {},
   "outputs": [],
   "source": [
    "def load_data_to_bq(query):\n",
    "    #TODO: remove noted lines, and instead stream to bigQuery after each batch\n",
    "    \n",
    "    \n",
    "    timestamp = time.time()\n",
    "    all_data = [] #REMOVE THIS\n",
    "\n",
    "    # Initial parameters for request\n",
    "    offset = 0\n",
    "    params = {\n",
    "        \"limit\": str(LIMIT),\n",
    "        \"offset\": str(offset)\n",
    "    }\n",
    "\n",
    "    # Stop requesting data when this is false, and table has been fully retreived\n",
    "    has_more = True\n",
    "    \n",
    "    while has_more:   \n",
    "        \n",
    "        response = get_netsuite_data(params, query)\n",
    "        response.raise_for_status() # Make sure request was successful\n",
    "        response_json = response.json()\n",
    "\n",
    "        # Reached end of data table\n",
    "        if response_json.get(\"hasMore\") == False:\n",
    "            has_more = False\n",
    "        # Table has more data, need to request new batch\n",
    "        else:\n",
    "            offset += LIMIT\n",
    "            params[\"offset\"] = str(offset)\n",
    "            \n",
    "\n",
    "        # Delete 'link' column for each record, which seems to be sent over empty no matter what\n",
    "        batch = response_json.get(\"items\", [])\n",
    "        for record in batch:\n",
    "            if 'links' in record:\n",
    "                del record['links']\n",
    "            record['updated_at'] = timestamp\n",
    "        \n",
    "        \n",
    "        all_data.extend(batch) # REMOVE THIS, replace with below line\n",
    "        # load_data_to_bigquery(DESTINATION_TABLE, batch)\n",
    "        \n",
    "        # Temporary testing cutoff\n",
    "        if offset >= 20:\n",
    "            break\n",
    "\n",
    "    return all_data # REMOVE THIS"
   ]
  },
  {
   "cell_type": "code",
   "execution_count": null,
   "id": "6364be16-0913-45e8-b425-00c799fd751a",
   "metadata": {},
   "outputs": [],
   "source": []
  },
  {
   "cell_type": "code",
   "execution_count": 104,
   "id": "0ea1fa4b-0435-48fa-8b31-c844f98d13a4",
   "metadata": {},
   "outputs": [],
   "source": [
    "\"\"\"\n",
    "Inputs:\n",
    "    Name of table in netsuite: String\n",
    "    List of netsuite columns to retreive: List[String]\n",
    "\n",
    "Functionality:\n",
    "    Get LIMIT rows at a time, continuing until the entire table is retreived\n",
    "    Filter based on input columns\n",
    "\n",
    "Returns:\n",
    "    request object\n",
    "    \n",
    "\"\"\"\n",
    "def load_full_netsuite_table(table_name, columns):\n",
    "\n",
    "    # Build query from table_name and columns\n",
    "    query = {\n",
    "        \"q\": f\"SELECT {', '.join([item for item in columns])} FROM {table_name}\"\n",
    "    }\n",
    "    \n",
    "    return load_data_to_bq(query)\n",
    "\n"
   ]
  },
  {
   "cell_type": "code",
   "execution_count": 126,
   "id": "252f9a1c-3a66-41c1-827f-73897416a96f",
   "metadata": {},
   "outputs": [],
   "source": [
    "# Get NetSuite data from the last 2 days, based on lastmodifieddate\n",
    "# can maybe change this to 1 day\n",
    "def load_recent_netsuite_data(table_name, columns):\n",
    "\n",
    "    # Get the current date and format it in MM/DD/YYYY\n",
    "    current_date = datetime.now().strftime('%m/%d/%Y')\n",
    "\n",
    "    # Build query with recent data condition\n",
    "    query = {\n",
    "        \"q\": f\"\"\"\n",
    "        SELECT {', '.join([item for item in columns])} \n",
    "        FROM {table_name}\n",
    "        WHERE lastmodifieddate >= TO_DATE('{current_date}', 'MM/DD/YYYY') - 2\n",
    "        \"\"\"\n",
    "    }\n",
    "    \n",
    "    return load_data_to_bq(query)"
   ]
  },
  {
   "cell_type": "code",
   "execution_count": null,
   "id": "08a8dfa2-8a49-47b1-9e98-e4bf61b07473",
   "metadata": {},
   "outputs": [],
   "source": []
  },
  {
   "cell_type": "code",
   "execution_count": 178,
   "id": "e13dec04-8ac7-427d-a015-294b58936c19",
   "metadata": {},
   "outputs": [],
   "source": [
    "columns = [\"acctnumber\", \"fullname\", \"generalrate\", \"currency\", \"lastmodifieddate\", \"id\"]\n",
    "# columns = [\"*\"]\n",
    "table_name = \"transactionLine\"\n",
    "column_names.remove(\"updated_at\")\n",
    "data = load_full_netsuite_table(table_name, column_names)"
   ]
  },
  {
   "cell_type": "code",
   "execution_count": 179,
   "id": "92c38b0d-45af-4d07-b854-30f25d1d6309",
   "metadata": {},
   "outputs": [
    {
     "name": "stdout",
     "output_type": "stream",
     "text": [
      "[{'assemblycomponent': 'F', 'blandedcost': 'F', 'cleared': 'F', 'closedate': '9/17/2020', 'commitinventory': '1', 'commitmentfirm': 'F', 'createdfrom': '1576967', 'donotdisplayline': 'F', 'dropship': 'F', 'fulfillable': 'T', 'fxamountlinked': '0', 'hasfulfillableitems': 'F', 'id': '0', 'inventoryreportinglocation': '32', 'isbillable': 'F', 'isclosed': 'F', 'iscogs': 'F', 'isfullyshipped': 'F', 'isfxvariance': 'F', 'isinventoryaffecting': 'F', 'isrevrectransaction': 'F', 'item': '21405', 'itemtype': 'InvtPart', 'kitcomponent': 'F', 'landedcostperline': 'F', 'linelastmodifieddate': '9/17/2020', 'linesequencenumber': '0', 'location': '32', 'mainline': 'T', 'matchbilltoreceipt': 'F', 'oldcommitmentfirm': 'F', 'quantity': '-8', 'quantitybilled': '0', 'quantitypacked': '0', 'quantitypicked': '0', 'quantityrejected': '0', 'quantityshiprecv': '0', 'specialorder': 'F', 'subsidiary': '1', 'taxline': 'F', 'transaction': '1576968', 'transactiondiscount': 'F', 'uniquekey': '2512605', 'units': '5', 'updated_at': 1743465704.43747}, {'assemblycomponent': 'F', 'blandedcost': 'F', 'class': '6', 'cleared': 'F', 'commitinventory': '1', 'commitmentfirm': 'F', 'createdfrom': '1504034', 'custcol_red_dot': '9/17/2020', 'donotdisplayline': 'F', 'dropship': 'F', 'entity': '32437', 'fulfillable': 'T', 'fxamountlinked': '0', 'hasfulfillableitems': 'F', 'id': '0', 'inventoryreportinglocation': '2', 'isbillable': 'F', 'isclosed': 'F', 'iscogs': 'F', 'isfullyshipped': 'F', 'isfxvariance': 'F', 'isinventoryaffecting': 'F', 'isrevrectransaction': 'F', 'item': '21405', 'itemtype': 'InvtPart', 'kitcomponent': 'F', 'landedcostperline': 'F', 'linelastmodifieddate': '9/21/2020', 'linesequencenumber': '0', 'location': '2', 'mainline': 'T', 'matchbilltoreceipt': 'F', 'oldcommitmentfirm': 'F', 'quantity': '-8', 'quantitybilled': '0', 'quantitypacked': '0', 'quantitypicked': '0', 'quantityrejected': '0', 'quantityshiprecv': '0', 'shipmethod': '3', 'specialorder': 'F', 'subsidiary': '1', 'taxline': 'F', 'transaction': '1710998', 'transactiondiscount': 'F', 'uniquekey': '2726202', 'units': '5', 'updated_at': 1743465704.43747}, {'assemblycomponent': 'F', 'blandedcost': 'F', 'class': '16', 'cleared': 'F', 'commitinventory': '1', 'commitmentfirm': 'F', 'createdfrom': '6222351', 'donotdisplayline': 'F', 'dropship': 'F', 'entity': '5590', 'fulfillable': 'T', 'fxamountlinked': '0', 'hasfulfillableitems': 'F', 'id': '0', 'inventoryreportinglocation': '2', 'isbillable': 'F', 'isclosed': 'F', 'iscogs': 'F', 'isfullyshipped': 'F', 'isfxvariance': 'F', 'isinventoryaffecting': 'F', 'isrevrectransaction': 'F', 'item': '21153', 'itemtype': 'InvtPart', 'kitcomponent': 'F', 'landedcostperline': 'F', 'linelastmodifieddate': '6/2/2021', 'linesequencenumber': '0', 'location': '2', 'mainline': 'T', 'matchbilltoreceipt': 'F', 'oldcommitmentfirm': 'F', 'quantity': '-1', 'quantitybilled': '0', 'quantitypacked': '0', 'quantitypicked': '0', 'quantityrejected': '0', 'quantityshiprecv': '0', 'shipmethod': '4', 'specialorder': 'F', 'subsidiary': '1', 'taxline': 'F', 'transaction': '6319462', 'transactiondiscount': 'F', 'uniquekey': '11616941', 'units': '2', 'updated_at': 1743465704.43747}, {'assemblycomponent': 'F', 'blandedcost': 'F', 'cleared': 'F', 'closedate': '12/5/2022', 'commitinventory': '1', 'commitmentfirm': 'F', 'createdfrom': '12690891', 'donotdisplayline': 'F', 'dropship': 'F', 'fulfillable': 'T', 'fxamountlinked': '0', 'hasfulfillableitems': 'F', 'id': '0', 'inventoryreportinglocation': '32', 'isbillable': 'F', 'isclosed': 'F', 'iscogs': 'F', 'isfullyshipped': 'F', 'isfxvariance': 'F', 'isinventoryaffecting': 'F', 'isrevrectransaction': 'F', 'item': '14530', 'itemtype': 'InvtPart', 'kitcomponent': 'F', 'landedcostperline': 'F', 'linelastmodifieddate': '12/5/2022', 'linesequencenumber': '0', 'location': '32', 'mainline': 'T', 'matchbilltoreceipt': 'F', 'oldcommitmentfirm': 'F', 'quantity': '-47.25', 'quantitybilled': '0', 'quantitypacked': '0', 'quantitypicked': '0', 'quantityrejected': '0', 'quantityshiprecv': '0', 'specialorder': 'F', 'subsidiary': '1', 'taxline': 'F', 'transaction': '12690892', 'transactiondiscount': 'F', 'uniquekey': '25551598', 'units': '1', 'updated_at': 1743465704.43747}, {'assemblycomponent': 'F', 'blandedcost': 'F', 'cleared': 'F', 'closedate': '2/17/2023', 'commitinventory': '1', 'commitmentfirm': 'F', 'createdfrom': '13477071', 'donotdisplayline': 'F', 'dropship': 'F', 'fulfillable': 'T', 'fxamountlinked': '0', 'hasfulfillableitems': 'F', 'id': '0', 'inventoryreportinglocation': '32', 'isbillable': 'F', 'isclosed': 'F', 'iscogs': 'F', 'isfullyshipped': 'F', 'isfxvariance': 'F', 'isinventoryaffecting': 'F', 'isrevrectransaction': 'F', 'item': '14530', 'itemtype': 'InvtPart', 'kitcomponent': 'F', 'landedcostperline': 'F', 'linelastmodifieddate': '2/17/2023', 'linesequencenumber': '0', 'location': '32', 'mainline': 'T', 'matchbilltoreceipt': 'F', 'oldcommitmentfirm': 'F', 'quantity': '-57.5', 'quantitybilled': '0', 'quantitypacked': '0', 'quantitypicked': '0', 'quantityrejected': '0', 'quantityshiprecv': '0', 'specialorder': 'F', 'subsidiary': '1', 'taxline': 'F', 'transaction': '13477072', 'transactiondiscount': 'F', 'uniquekey': '27405261', 'units': '1', 'updated_at': 1743465704.43747}, {'assemblycomponent': 'F', 'blandedcost': 'F', 'cleared': 'F', 'closedate': '12/15/2022', 'commitinventory': '1', 'commitmentfirm': 'F', 'createdfrom': '12728530', 'donotdisplayline': 'F', 'dropship': 'F', 'fulfillable': 'T', 'fxamountlinked': '0', 'hasfulfillableitems': 'F', 'id': '0', 'inventoryreportinglocation': '32', 'isbillable': 'F', 'isclosed': 'F', 'iscogs': 'F', 'isfullyshipped': 'F', 'isfxvariance': 'F', 'isinventoryaffecting': 'F', 'isrevrectransaction': 'F', 'item': '14544', 'itemtype': 'InvtPart', 'kitcomponent': 'F', 'landedcostperline': 'F', 'linelastmodifieddate': '12/15/2022', 'linesequencenumber': '0', 'location': '32', 'mainline': 'T', 'matchbilltoreceipt': 'F', 'oldcommitmentfirm': 'F', 'quantity': '-45.5', 'quantitybilled': '0', 'quantitypacked': '0', 'quantitypicked': '0', 'quantityrejected': '0', 'quantityshiprecv': '0', 'specialorder': 'F', 'subsidiary': '1', 'taxline': 'F', 'transaction': '12728541', 'transactiondiscount': 'F', 'uniquekey': '25620259', 'units': '1', 'updated_at': 1743465704.43747}, {'assemblycomponent': 'F', 'blandedcost': 'F', 'cleared': 'F', 'closedate': '6/1/2023', 'commitinventory': '1', 'commitmentfirm': 'F', 'createdfrom': '14537967', 'donotdisplayline': 'F', 'dropship': 'F', 'fulfillable': 'T', 'fxamountlinked': '0', 'hasfulfillableitems': 'F', 'id': '0', 'inventoryreportinglocation': '32', 'isbillable': 'F', 'isclosed': 'F', 'iscogs': 'F', 'isfullyshipped': 'F', 'isfxvariance': 'F', 'isinventoryaffecting': 'F', 'isrevrectransaction': 'F', 'item': '14546', 'itemtype': 'InvtPart', 'kitcomponent': 'F', 'landedcostperline': 'F', 'linelastmodifieddate': '6/1/2023', 'linesequencenumber': '0', 'location': '32', 'mainline': 'T', 'matchbilltoreceipt': 'F', 'oldcommitmentfirm': 'F', 'quantity': '-111.25', 'quantitybilled': '0', 'quantitypacked': '0', 'quantitypicked': '0', 'quantityrejected': '0', 'quantityshiprecv': '0', 'specialorder': 'F', 'subsidiary': '1', 'taxline': 'F', 'transaction': '14537968', 'transactiondiscount': 'F', 'uniquekey': '30112525', 'units': '1', 'updated_at': 1743465704.43747}, {'assemblycomponent': 'F', 'blandedcost': 'F', 'cleared': 'F', 'closedate': '11/2/2023', 'commitinventory': '1', 'commitmentfirm': 'F', 'createdfrom': '15949572', 'donotdisplayline': 'F', 'dropship': 'F', 'fulfillable': 'T', 'fxamountlinked': '0', 'hasfulfillableitems': 'F', 'id': '0', 'inventoryreportinglocation': '32', 'isbillable': 'F', 'isclosed': 'F', 'iscogs': 'F', 'isfullyshipped': 'F', 'isfxvariance': 'F', 'isinventoryaffecting': 'F', 'isrevrectransaction': 'F', 'item': '14548', 'itemtype': 'InvtPart', 'kitcomponent': 'F', 'landedcostperline': 'F', 'linelastmodifieddate': '11/2/2023', 'linesequencenumber': '0', 'location': '32', 'mainline': 'T', 'matchbilltoreceipt': 'F', 'oldcommitmentfirm': 'F', 'quantity': '-110.75', 'quantitybilled': '0', 'quantitypacked': '0', 'quantitypicked': '0', 'quantityrejected': '0', 'quantityshiprecv': '0', 'specialorder': 'F', 'subsidiary': '1', 'taxline': 'F', 'transaction': '15949573', 'transactiondiscount': 'F', 'uniquekey': '33160681', 'units': '1', 'updated_at': 1743465704.43747}, {'assemblycomponent': 'F', 'blandedcost': 'F', 'class': '37', 'cleared': 'F', 'closedate': '7/22/2020', 'commitinventory': '1', 'commitmentfirm': 'F', 'createdfrom': '221430', 'donotdisplayline': 'F', 'dropship': 'F', 'fulfillable': 'T', 'fxamountlinked': '0', 'hasfulfillableitems': 'F', 'id': '0', 'inventoryreportinglocation': '6', 'isbillable': 'F', 'isclosed': 'F', 'iscogs': 'F', 'isfullyshipped': 'F', 'isfxvariance': 'F', 'isinventoryaffecting': 'F', 'isrevrectransaction': 'F', 'item': '17397', 'itemtype': 'InvtPart', 'kitcomponent': 'F', 'landedcostperline': 'F', 'linelastmodifieddate': '7/22/2020', 'linesequencenumber': '0', 'location': '6', 'mainline': 'T', 'matchbilltoreceipt': 'F', 'oldcommitmentfirm': 'F', 'quantity': '-30', 'quantitybilled': '0', 'quantitypacked': '0', 'quantitypicked': '0', 'quantityrejected': '0', 'quantityshiprecv': '0', 'shipmethod': '47', 'specialorder': 'F', 'subsidiary': '1', 'taxline': 'F', 'transaction': '276736', 'transactiondiscount': 'F', 'uniquekey': '538998', 'units': '1', 'updated_at': 1743465704.43747}, {'assemblycomponent': 'F', 'blandedcost': 'F', 'class': '12', 'cleared': 'F', 'commitinventory': '1', 'commitmentfirm': 'F', 'createdfrom': '171612', 'donotdisplayline': 'F', 'dropship': 'F', 'entity': '7161', 'fulfillable': 'T', 'fxamountlinked': '0', 'hasfulfillableitems': 'F', 'id': '0', 'inventoryreportinglocation': '2', 'isbillable': 'F', 'isclosed': 'F', 'iscogs': 'F', 'isfullyshipped': 'F', 'isfxvariance': 'F', 'isinventoryaffecting': 'F', 'isrevrectransaction': 'F', 'item': '17397', 'itemtype': 'InvtPart', 'kitcomponent': 'F', 'landedcostperline': 'F', 'linelastmodifieddate': '7/17/2020', 'linesequencenumber': '0', 'location': '2', 'mainline': 'T', 'matchbilltoreceipt': 'F', 'oldcommitmentfirm': 'F', 'quantity': '-1017.75', 'quantitybilled': '0', 'quantitypacked': '0', 'quantitypicked': '0', 'quantityrejected': '0', 'quantityshiprecv': '0', 'shipmethod': '13307', 'specialorder': 'F', 'subsidiary': '1', 'taxline': 'F', 'transaction': '307654', 'transactiondiscount': 'F', 'uniquekey': '592327', 'units': '1', 'updated_at': 1743465704.43747}, {'assemblycomponent': 'F', 'blandedcost': 'F', 'class': '12', 'cleared': 'F', 'commitinventory': '1', 'commitmentfirm': 'F', 'createdfrom': '171612', 'donotdisplayline': 'F', 'dropship': 'F', 'entity': '7161', 'fulfillable': 'T', 'fxamountlinked': '0', 'hasfulfillableitems': 'F', 'id': '0', 'inventoryreportinglocation': '2', 'isbillable': 'F', 'isclosed': 'F', 'iscogs': 'F', 'isfullyshipped': 'F', 'isfxvariance': 'F', 'isinventoryaffecting': 'F', 'isrevrectransaction': 'F', 'item': '17397', 'itemtype': 'InvtPart', 'kitcomponent': 'F', 'landedcostperline': 'F', 'linelastmodifieddate': '7/23/2020', 'linesequencenumber': '0', 'location': '2', 'mainline': 'T', 'matchbilltoreceipt': 'F', 'oldcommitmentfirm': 'F', 'quantity': '-746.5', 'quantitybilled': '0', 'quantitypacked': '0', 'quantitypicked': '0', 'quantityrejected': '0', 'quantityshiprecv': '0', 'shipmethod': '13307', 'specialorder': 'F', 'subsidiary': '1', 'taxline': 'F', 'transaction': '426904', 'transactiondiscount': 'F', 'uniquekey': '752543', 'units': '1', 'updated_at': 1743465704.43747}, {'assemblycomponent': 'F', 'blandedcost': 'F', 'class': '12', 'cleared': 'F', 'commitinventory': '1', 'commitmentfirm': 'F', 'createdfrom': '410476', 'donotdisplayline': 'F', 'dropship': 'F', 'entity': '7161', 'fulfillable': 'T', 'fxamountlinked': '0', 'hasfulfillableitems': 'F', 'id': '0', 'inventoryreportinglocation': '2', 'isbillable': 'F', 'isclosed': 'F', 'iscogs': 'F', 'isfullyshipped': 'F', 'isfxvariance': 'F', 'isinventoryaffecting': 'F', 'isrevrectransaction': 'F', 'item': '17397', 'itemtype': 'InvtPart', 'kitcomponent': 'F', 'landedcostperline': 'F', 'linelastmodifieddate': '10/30/2020', 'linesequencenumber': '0', 'location': '2', 'mainline': 'T', 'matchbilltoreceipt': 'F', 'oldcommitmentfirm': 'F', 'quantity': '-497.75', 'quantitybilled': '0', 'quantitypacked': '0', 'quantitypicked': '0', 'quantityrejected': '0', 'quantityshiprecv': '0', 'shipmethod': '13307', 'specialorder': 'F', 'subsidiary': '1', 'taxline': 'F', 'transaction': '2392128', 'transactiondiscount': 'F', 'uniquekey': '3952560', 'units': '1', 'updated_at': 1743465704.43747}, {'assemblycomponent': 'F', 'blandedcost': 'F', 'class': '12', 'cleared': 'F', 'commitinventory': '1', 'commitmentfirm': 'F', 'createdfrom': '1780860', 'donotdisplayline': 'F', 'dropship': 'F', 'entity': '7161', 'fulfillable': 'T', 'fxamountlinked': '0', 'hasfulfillableitems': 'F', 'id': '0', 'inventoryreportinglocation': '2', 'isbillable': 'F', 'isclosed': 'F', 'iscogs': 'F', 'isfullyshipped': 'F', 'isfxvariance': 'F', 'isinventoryaffecting': 'F', 'isrevrectransaction': 'F', 'item': '17397', 'itemtype': 'InvtPart', 'kitcomponent': 'F', 'landedcostperline': 'F', 'linelastmodifieddate': '10/30/2020', 'linesequencenumber': '0', 'location': '2', 'mainline': 'T', 'matchbilltoreceipt': 'F', 'oldcommitmentfirm': 'F', 'quantity': '-999.75', 'quantitybilled': '0', 'quantitypacked': '0', 'quantitypicked': '0', 'quantityrejected': '0', 'quantityshiprecv': '0', 'shipmethod': '13307', 'specialorder': 'F', 'subsidiary': '1', 'taxline': 'F', 'transaction': '2395610', 'transactiondiscount': 'F', 'uniquekey': '3960457', 'units': '1', 'updated_at': 1743465704.43747}, {'assemblycomponent': 'F', 'blandedcost': 'F', 'class': '12', 'cleared': 'F', 'commitinventory': '1', 'commitmentfirm': 'F', 'createdfrom': '2218909', 'donotdisplayline': 'F', 'dropship': 'F', 'entity': '7161', 'fulfillable': 'T', 'fxamountlinked': '0', 'hasfulfillableitems': 'F', 'id': '0', 'inventoryreportinglocation': '2', 'isbillable': 'F', 'isclosed': 'F', 'iscogs': 'F', 'isfullyshipped': 'F', 'isfxvariance': 'F', 'isinventoryaffecting': 'F', 'isrevrectransaction': 'F', 'item': '17397', 'itemtype': 'InvtPart', 'kitcomponent': 'F', 'landedcostperline': 'F', 'linelastmodifieddate': '11/12/2020', 'linesequencenumber': '0', 'location': '2', 'mainline': 'T', 'matchbilltoreceipt': 'F', 'oldcommitmentfirm': 'F', 'quantity': '-495.75', 'quantitybilled': '0', 'quantitypacked': '0', 'quantitypicked': '0', 'quantityrejected': '0', 'quantityshiprecv': '0', 'shipmethod': '13307', 'specialorder': 'F', 'subsidiary': '1', 'taxline': 'F', 'transaction': '2887331', 'transactiondiscount': 'F', 'uniquekey': '4895022', 'units': '1', 'updated_at': 1743465704.43747}, {'assemblycomponent': 'F', 'blandedcost': 'F', 'class': '12', 'cleared': 'F', 'commitinventory': '1', 'commitmentfirm': 'F', 'createdfrom': '731799', 'donotdisplayline': 'F', 'dropship': 'F', 'entity': '7161', 'fulfillable': 'T', 'fxamountlinked': '0', 'hasfulfillableitems': 'F', 'id': '0', 'inventoryreportinglocation': '2', 'isbillable': 'F', 'isclosed': 'F', 'iscogs': 'F', 'isfullyshipped': 'F', 'isfxvariance': 'F', 'isinventoryaffecting': 'F', 'isrevrectransaction': 'F', 'item': '17397', 'itemtype': 'InvtPart', 'kitcomponent': 'F', 'landedcostperline': 'F', 'linelastmodifieddate': '11/20/2020', 'linesequencenumber': '0', 'location': '2', 'mainline': 'T', 'matchbilltoreceipt': 'F', 'oldcommitmentfirm': 'F', 'quantity': '-1295.5', 'quantitybilled': '0', 'quantitypacked': '0', 'quantitypicked': '0', 'quantityrejected': '0', 'quantityshiprecv': '0', 'shipmethod': '13307', 'specialorder': 'F', 'subsidiary': '1', 'taxline': 'F', 'transaction': '3035422', 'transactiondiscount': 'F', 'uniquekey': '5193431', 'units': '1', 'updated_at': 1743465704.43747}, {'assemblycomponent': 'F', 'blandedcost': 'F', 'class': '37', 'cleared': 'F', 'closedate': '12/7/2020', 'commitinventory': '1', 'commitmentfirm': 'F', 'createdfrom': '3285633', 'donotdisplayline': 'F', 'dropship': 'F', 'fulfillable': 'T', 'fxamountlinked': '0', 'hasfulfillableitems': 'F', 'id': '0', 'inventoryreportinglocation': '2', 'isbillable': 'F', 'isclosed': 'F', 'iscogs': 'F', 'isfullyshipped': 'F', 'isfxvariance': 'F', 'isinventoryaffecting': 'F', 'isrevrectransaction': 'F', 'item': '17397', 'itemtype': 'InvtPart', 'kitcomponent': 'F', 'landedcostperline': 'F', 'linelastmodifieddate': '12/7/2020', 'linesequencenumber': '0', 'location': '2', 'mainline': 'T', 'matchbilltoreceipt': 'F', 'oldcommitmentfirm': 'F', 'quantity': '-988.5', 'quantitybilled': '0', 'quantitypacked': '0', 'quantitypicked': '0', 'quantityrejected': '0', 'quantityshiprecv': '0', 'specialorder': 'F', 'subsidiary': '1', 'taxline': 'F', 'transaction': '3320080', 'transactiondiscount': 'F', 'uniquekey': '5674658', 'units': '1', 'updated_at': 1743465704.43747}, {'assemblycomponent': 'F', 'blandedcost': 'F', 'class': '37', 'cleared': 'F', 'closedate': '12/2/2020', 'commitinventory': '1', 'commitmentfirm': 'F', 'createdfrom': '3033042', 'donotdisplayline': 'F', 'dropship': 'F', 'fulfillable': 'T', 'fxamountlinked': '0', 'hasfulfillableitems': 'F', 'id': '0', 'inventoryreportinglocation': '2', 'isbillable': 'F', 'isclosed': 'F', 'iscogs': 'F', 'isfullyshipped': 'F', 'isfxvariance': 'F', 'isinventoryaffecting': 'F', 'isrevrectransaction': 'F', 'item': '17397', 'itemtype': 'InvtPart', 'kitcomponent': 'F', 'landedcostperline': 'F', 'linelastmodifieddate': '12/2/2020', 'linesequencenumber': '0', 'location': '2', 'mainline': 'T', 'matchbilltoreceipt': 'F', 'oldcommitmentfirm': 'F', 'quantity': '-374.75', 'quantitybilled': '0', 'quantitypacked': '0', 'quantitypicked': '0', 'quantityrejected': '0', 'quantityshiprecv': '0', 'shipmethod': '4', 'specialorder': 'F', 'subsidiary': '1', 'taxline': 'F', 'transaction': '3050054', 'transactiondiscount': 'F', 'uniquekey': '5220582', 'units': '1', 'updated_at': 1743465704.43747}, {'assemblycomponent': 'F', 'blandedcost': 'F', 'cleared': 'F', 'closedate': '2/15/2021', 'commitinventory': '1', 'commitmentfirm': 'F', 'createdfrom': '4263502', 'donotdisplayline': 'F', 'dropship': 'F', 'fulfillable': 'T', 'fxamountlinked': '0', 'hasfulfillableitems': 'F', 'id': '0', 'inventoryreportinglocation': '32', 'isbillable': 'F', 'isclosed': 'F', 'iscogs': 'F', 'isfullyshipped': 'F', 'isfxvariance': 'F', 'isinventoryaffecting': 'F', 'isrevrectransaction': 'F', 'item': '17397', 'itemtype': 'InvtPart', 'kitcomponent': 'F', 'landedcostperline': 'F', 'linelastmodifieddate': '2/15/2021', 'linesequencenumber': '0', 'location': '32', 'mainline': 'T', 'matchbilltoreceipt': 'F', 'oldcommitmentfirm': 'F', 'quantity': '-5062.75', 'quantitybilled': '0', 'quantitypacked': '0', 'quantitypicked': '0', 'quantityrejected': '0', 'quantityshiprecv': '0', 'specialorder': 'F', 'subsidiary': '1', 'taxline': 'F', 'transaction': '4263503', 'transactiondiscount': 'F', 'uniquekey': '7499454', 'units': '1', 'updated_at': 1743465704.43747}, {'assemblycomponent': 'F', 'blandedcost': 'F', 'class': '37', 'cleared': 'F', 'closedate': '2/24/2021', 'commitinventory': '1', 'commitmentfirm': 'F', 'createdfrom': '4556359', 'donotdisplayline': 'F', 'dropship': 'F', 'fulfillable': 'T', 'fxamountlinked': '0', 'hasfulfillableitems': 'F', 'id': '0', 'inventoryreportinglocation': '2', 'isbillable': 'F', 'isclosed': 'F', 'iscogs': 'F', 'isfullyshipped': 'F', 'isfxvariance': 'F', 'isinventoryaffecting': 'F', 'isrevrectransaction': 'F', 'item': '17397', 'itemtype': 'InvtPart', 'kitcomponent': 'F', 'landedcostperline': 'F', 'linelastmodifieddate': '2/24/2021', 'linesequencenumber': '0', 'location': '2', 'mainline': 'T', 'matchbilltoreceipt': 'F', 'oldcommitmentfirm': 'F', 'quantity': '-52.25', 'quantitybilled': '0', 'quantitypacked': '0', 'quantitypicked': '0', 'quantityrejected': '0', 'quantityshiprecv': '0', 'specialorder': 'F', 'subsidiary': '1', 'taxline': 'F', 'transaction': '4612937', 'transactiondiscount': 'F', 'uniquekey': '8172574', 'units': '1', 'updated_at': 1743465704.43747}, {'assemblycomponent': 'F', 'blandedcost': 'F', 'class': '12', 'cleared': 'F', 'commitinventory': '1', 'commitmentfirm': 'F', 'createdfrom': '3035624', 'donotdisplayline': 'F', 'dropship': 'F', 'entity': '7161', 'fulfillable': 'T', 'fxamountlinked': '0', 'hasfulfillableitems': 'F', 'id': '0', 'inventoryreportinglocation': '2', 'isbillable': 'F', 'isclosed': 'F', 'iscogs': 'F', 'isfullyshipped': 'F', 'isfxvariance': 'F', 'isinventoryaffecting': 'F', 'isrevrectransaction': 'F', 'item': '17397', 'itemtype': 'InvtPart', 'kitcomponent': 'F', 'landedcostperline': 'F', 'linelastmodifieddate': '3/5/2021', 'linesequencenumber': '0', 'location': '2', 'mainline': 'T', 'matchbilltoreceipt': 'F', 'oldcommitmentfirm': 'F', 'quantity': '-2000.25', 'quantitybilled': '0', 'quantitypacked': '0', 'quantitypicked': '0', 'quantityrejected': '0', 'quantityshiprecv': '0', 'shipmethod': '13307', 'specialorder': 'F', 'subsidiary': '1', 'taxline': 'F', 'transaction': '4729442', 'transactiondiscount': 'F', 'uniquekey': '8356533', 'units': '1', 'updated_at': 1743465704.43747}, {'assemblycomponent': 'F', 'blandedcost': 'F', 'cleared': 'F', 'closedate': '4/15/2021', 'commitinventory': '1', 'commitmentfirm': 'F', 'createdfrom': '5499795', 'donotdisplayline': 'F', 'dropship': 'F', 'fulfillable': 'T', 'fxamountlinked': '0', 'hasfulfillableitems': 'F', 'id': '0', 'inventoryreportinglocation': '34', 'isbillable': 'F', 'isclosed': 'F', 'iscogs': 'F', 'isfullyshipped': 'F', 'isfxvariance': 'F', 'isinventoryaffecting': 'F', 'isrevrectransaction': 'F', 'item': '17397', 'itemtype': 'InvtPart', 'kitcomponent': 'F', 'landedcostperline': 'F', 'linelastmodifieddate': '4/15/2021', 'linesequencenumber': '0', 'location': '34', 'mainline': 'T', 'matchbilltoreceipt': 'F', 'oldcommitmentfirm': 'F', 'quantity': '-5674', 'quantitybilled': '0', 'quantitypacked': '0', 'quantitypicked': '0', 'quantityrejected': '0', 'quantityshiprecv': '0', 'specialorder': 'F', 'subsidiary': '1', 'taxline': 'F', 'transaction': '5516945', 'transactiondiscount': 'F', 'uniquekey': '9900298', 'units': '1', 'updated_at': 1743465704.43747}, {'assemblycomponent': 'F', 'blandedcost': 'F', 'class': '12', 'cleared': 'F', 'commitinventory': '1', 'commitmentfirm': 'F', 'createdfrom': '3510190', 'donotdisplayline': 'F', 'dropship': 'F', 'entity': '7161', 'fulfillable': 'T', 'fxamountlinked': '0', 'hasfulfillableitems': 'F', 'id': '0', 'inventoryreportinglocation': '2', 'isbillable': 'F', 'isclosed': 'F', 'iscogs': 'F', 'isfullyshipped': 'F', 'isfxvariance': 'F', 'isinventoryaffecting': 'F', 'isrevrectransaction': 'F', 'item': '17397', 'itemtype': 'InvtPart', 'kitcomponent': 'F', 'landedcostperline': 'F', 'linelastmodifieddate': '4/15/2021', 'linesequencenumber': '0', 'location': '2', 'mainline': 'T', 'matchbilltoreceipt': 'F', 'oldcommitmentfirm': 'F', 'quantity': '-527', 'quantitybilled': '0', 'quantitypacked': '0', 'quantitypicked': '0', 'quantityrejected': '0', 'quantityshiprecv': '0', 'shipmethod': '13307', 'specialorder': 'F', 'subsidiary': '1', 'taxline': 'F', 'transaction': '5432464', 'transactiondiscount': 'F', 'uniquekey': '9728110', 'units': '1', 'updated_at': 1743465704.43747}, {'assemblycomponent': 'F', 'blandedcost': 'F', 'class': '12', 'cleared': 'F', 'commitinventory': '1', 'commitmentfirm': 'F', 'createdfrom': '3650428', 'donotdisplayline': 'F', 'dropship': 'F', 'entity': '7161', 'fulfillable': 'T', 'fxamountlinked': '0', 'hasfulfillableitems': 'F', 'id': '0', 'inventoryreportinglocation': '2', 'isbillable': 'F', 'isclosed': 'F', 'iscogs': 'F', 'isfullyshipped': 'F', 'isfxvariance': 'F', 'isinventoryaffecting': 'F', 'isrevrectransaction': 'F', 'item': '17397', 'itemtype': 'InvtPart', 'kitcomponent': 'F', 'landedcostperline': 'F', 'linelastmodifieddate': '4/14/2021', 'linesequencenumber': '0', 'location': '2', 'mainline': 'T', 'matchbilltoreceipt': 'F', 'oldcommitmentfirm': 'F', 'quantity': '-504.75', 'quantitybilled': '0', 'quantitypacked': '0', 'quantitypicked': '0', 'quantityrejected': '0', 'quantityshiprecv': '0', 'shipmethod': '13307', 'specialorder': 'F', 'subsidiary': '1', 'taxline': 'F', 'transaction': '5431854', 'transactiondiscount': 'F', 'uniquekey': '9727464', 'units': '1', 'updated_at': 1743465704.43747}, {'assemblycomponent': 'F', 'blandedcost': 'F', 'class': '37', 'cleared': 'F', 'closedate': '4/28/2021', 'commitinventory': '1', 'commitmentfirm': 'F', 'createdfrom': '5625152', 'donotdisplayline': 'F', 'dropship': 'F', 'fulfillable': 'T', 'fxamountlinked': '0', 'hasfulfillableitems': 'F', 'id': '0', 'inventoryreportinglocation': '6', 'isbillable': 'F', 'isclosed': 'F', 'iscogs': 'F', 'isfullyshipped': 'F', 'isfxvariance': 'F', 'isinventoryaffecting': 'F', 'isrevrectransaction': 'F', 'item': '17397', 'itemtype': 'InvtPart', 'kitcomponent': 'F', 'landedcostperline': 'F', 'linelastmodifieddate': '4/28/2021', 'linesequencenumber': '0', 'location': '6', 'mainline': 'T', 'matchbilltoreceipt': 'F', 'oldcommitmentfirm': 'F', 'quantity': '-1135.75', 'quantitybilled': '0', 'quantitypacked': '0', 'quantitypicked': '0', 'quantityrejected': '0', 'quantityshiprecv': '0', 'specialorder': 'F', 'subsidiary': '1', 'taxline': 'F', 'transaction': '5655401', 'transactiondiscount': 'F', 'uniquekey': '10135143', 'units': '1', 'updated_at': 1743465704.43747}, {'assemblycomponent': 'F', 'blandedcost': 'F', 'class': '37', 'cleared': 'F', 'closedate': '4/28/2021', 'commitinventory': '1', 'commitmentfirm': 'F', 'createdfrom': '5624949', 'donotdisplayline': 'F', 'dropship': 'F', 'fulfillable': 'T', 'fxamountlinked': '0', 'hasfulfillableitems': 'F', 'id': '0', 'inventoryreportinglocation': '6', 'isbillable': 'F', 'isclosed': 'F', 'iscogs': 'F', 'isfullyshipped': 'F', 'isfxvariance': 'F', 'isinventoryaffecting': 'F', 'isrevrectransaction': 'F', 'item': '17397', 'itemtype': 'InvtPart', 'kitcomponent': 'F', 'landedcostperline': 'F', 'linelastmodifieddate': '4/28/2021', 'linesequencenumber': '0', 'location': '6', 'mainline': 'T', 'matchbilltoreceipt': 'F', 'oldcommitmentfirm': 'F', 'quantity': '-4147.75', 'quantitybilled': '0', 'quantitypacked': '0', 'quantitypicked': '0', 'quantityrejected': '0', 'quantityshiprecv': '0', 'specialorder': 'F', 'subsidiary': '1', 'taxline': 'F', 'transaction': '5655197', 'transactiondiscount': 'F', 'uniquekey': '10135125', 'units': '1', 'updated_at': 1743465704.43747}, {'assemblycomponent': 'F', 'blandedcost': 'F', 'class': '37', 'cleared': 'F', 'closedate': '5/5/2021', 'commitinventory': '1', 'commitmentfirm': 'F', 'createdfrom': '5760544', 'donotdisplayline': 'F', 'dropship': 'F', 'fulfillable': 'T', 'fxamountlinked': '0', 'hasfulfillableitems': 'F', 'id': '0', 'inventoryreportinglocation': '6', 'isbillable': 'F', 'isclosed': 'F', 'iscogs': 'F', 'isfullyshipped': 'F', 'isfxvariance': 'F', 'isinventoryaffecting': 'F', 'isrevrectransaction': 'F', 'item': '17397', 'itemtype': 'InvtPart', 'kitcomponent': 'F', 'landedcostperline': 'F', 'linelastmodifieddate': '5/5/2021', 'linesequencenumber': '0', 'location': '6', 'mainline': 'T', 'matchbilltoreceipt': 'F', 'oldcommitmentfirm': 'F', 'quantity': '-53.25', 'quantitybilled': '0', 'quantitypacked': '0', 'quantitypicked': '0', 'quantityrejected': '0', 'quantityshiprecv': '0', 'shipmethod': '13307', 'specialorder': 'F', 'subsidiary': '1', 'taxline': 'F', 'transaction': '5773104', 'transactiondiscount': 'F', 'uniquekey': '10360799', 'units': '1', 'updated_at': 1743465704.43747}, {'assemblycomponent': 'F', 'blandedcost': 'F', 'class': '37', 'cleared': 'F', 'closedate': '5/19/2021', 'commitinventory': '1', 'commitmentfirm': 'F', 'createdfrom': '5999518', 'donotdisplayline': 'F', 'dropship': 'F', 'fulfillable': 'T', 'fxamountlinked': '0', 'hasfulfillableitems': 'F', 'id': '0', 'inventoryreportinglocation': '6', 'isbillable': 'F', 'isclosed': 'F', 'iscogs': 'F', 'isfullyshipped': 'F', 'isfxvariance': 'F', 'isinventoryaffecting': 'F', 'isrevrectransaction': 'F', 'item': '17397', 'itemtype': 'InvtPart', 'kitcomponent': 'F', 'landedcostperline': 'F', 'linelastmodifieddate': '5/19/2021', 'linesequencenumber': '0', 'location': '6', 'mainline': 'T', 'matchbilltoreceipt': 'F', 'oldcommitmentfirm': 'F', 'quantity': '-48', 'quantitybilled': '0', 'quantitypacked': '0', 'quantitypicked': '0', 'quantityrejected': '0', 'quantityshiprecv': '0', 'shipmethod': '13702', 'specialorder': 'F', 'subsidiary': '1', 'taxline': 'F', 'transaction': '6009058', 'transactiondiscount': 'F', 'uniquekey': '10870015', 'units': '1', 'updated_at': 1743465704.43747}, {'assemblycomponent': 'F', 'blandedcost': 'F', 'cleared': 'F', 'closedate': '7/5/2021', 'commitinventory': '1', 'commitmentfirm': 'F', 'createdfrom': '5926883', 'donotdisplayline': 'F', 'dropship': 'F', 'fulfillable': 'T', 'fxamountlinked': '0', 'hasfulfillableitems': 'F', 'id': '0', 'inventoryreportinglocation': '32', 'isbillable': 'F', 'isclosed': 'F', 'iscogs': 'F', 'isfullyshipped': 'F', 'isfxvariance': 'F', 'isinventoryaffecting': 'F', 'isrevrectransaction': 'F', 'item': '17397', 'itemtype': 'InvtPart', 'kitcomponent': 'F', 'landedcostperline': 'F', 'linelastmodifieddate': '7/5/2021', 'linesequencenumber': '0', 'location': '32', 'mainline': 'T', 'matchbilltoreceipt': 'F', 'oldcommitmentfirm': 'F', 'quantity': '-5465.25', 'quantitybilled': '0', 'quantitypacked': '0', 'quantitypicked': '0', 'quantityrejected': '0', 'quantityshiprecv': '0', 'specialorder': 'F', 'subsidiary': '1', 'taxline': 'F', 'transaction': '5926884', 'transactiondiscount': 'F', 'uniquekey': '10705009', 'units': '1', 'updated_at': 1743465704.43747}, {'assemblycomponent': 'F', 'blandedcost': 'F', 'class': '12', 'cleared': 'F', 'commitinventory': '1', 'commitmentfirm': 'F', 'createdfrom': '4675667', 'donotdisplayline': 'F', 'dropship': 'F', 'entity': '7161', 'fulfillable': 'T', 'fxamountlinked': '0', 'hasfulfillableitems': 'F', 'id': '0', 'inventoryreportinglocation': '2', 'isbillable': 'F', 'isclosed': 'F', 'iscogs': 'F', 'isfullyshipped': 'F', 'isfxvariance': 'F', 'isinventoryaffecting': 'F', 'isrevrectransaction': 'F', 'item': '17397', 'itemtype': 'InvtPart', 'kitcomponent': 'F', 'landedcostperline': 'F', 'linelastmodifieddate': '6/30/2021', 'linesequencenumber': '0', 'location': '2', 'mainline': 'T', 'matchbilltoreceipt': 'F', 'oldcommitmentfirm': 'F', 'quantity': '-509.75', 'quantitybilled': '0', 'quantitypacked': '0', 'quantitypicked': '0', 'quantityrejected': '0', 'quantityshiprecv': '0', 'shipmethod': '13307', 'specialorder': 'F', 'subsidiary': '1', 'taxline': 'F', 'transaction': '6670492', 'transactiondiscount': 'F', 'uniquekey': '12423835', 'units': '1', 'updated_at': 1743465704.43747}, {'assemblycomponent': 'F', 'blandedcost': 'F', 'cleared': 'F', 'closedate': '7/20/2021', 'commitinventory': '1', 'commitmentfirm': 'F', 'createdfrom': '6803895', 'donotdisplayline': 'F', 'dropship': 'F', 'fulfillable': 'T', 'fxamountlinked': '0', 'hasfulfillableitems': 'F', 'id': '0', 'inventoryreportinglocation': '32', 'isbillable': 'F', 'isclosed': 'F', 'iscogs': 'F', 'isfullyshipped': 'F', 'isfxvariance': 'F', 'isinventoryaffecting': 'F', 'isrevrectransaction': 'F', 'item': '17397', 'itemtype': 'InvtPart', 'kitcomponent': 'F', 'landedcostperline': 'F', 'linelastmodifieddate': '7/20/2021', 'linesequencenumber': '0', 'location': '32', 'mainline': 'T', 'matchbilltoreceipt': 'F', 'oldcommitmentfirm': 'F', 'quantity': '-4958.75', 'quantitybilled': '0', 'quantitypacked': '0', 'quantitypicked': '0', 'quantityrejected': '0', 'quantityshiprecv': '0', 'specialorder': 'F', 'subsidiary': '1', 'taxline': 'F', 'transaction': '6803896', 'transactiondiscount': 'F', 'uniquekey': '12763371', 'units': '1', 'updated_at': 1743465704.43747}, {'assemblycomponent': 'F', 'blandedcost': 'F', 'cleared': 'F', 'closedate': '7/7/2021', 'commitinventory': '1', 'commitmentfirm': 'F', 'createdfrom': '6686740', 'donotdisplayline': 'F', 'dropship': 'F', 'fulfillable': 'T', 'fxamountlinked': '0', 'hasfulfillableitems': 'F', 'id': '0', 'inventoryreportinglocation': '32', 'isbillable': 'F', 'isclosed': 'F', 'iscogs': 'F', 'isfullyshipped': 'F', 'isfxvariance': 'F', 'isinventoryaffecting': 'F', 'isrevrectransaction': 'F', 'item': '17397', 'itemtype': 'InvtPart', 'kitcomponent': 'F', 'landedcostperline': 'F', 'linelastmodifieddate': '7/7/2021', 'linesequencenumber': '0', 'location': '32', 'mainline': 'T', 'matchbilltoreceipt': 'F', 'oldcommitmentfirm': 'F', 'quantity': '-4955.75', 'quantitybilled': '0', 'quantitypacked': '0', 'quantitypicked': '0', 'quantityrejected': '0', 'quantityshiprecv': '0', 'specialorder': 'F', 'subsidiary': '1', 'taxline': 'F', 'transaction': '6686741', 'transactiondiscount': 'F', 'uniquekey': '12466126', 'units': '1', 'updated_at': 1743465704.43747}, {'assemblycomponent': 'F', 'blandedcost': 'F', 'class': '12', 'cleared': 'F', 'commitinventory': '1', 'commitmentfirm': 'F', 'createdfrom': '4820266', 'donotdisplayline': 'F', 'dropship': 'F', 'entity': '7161', 'fulfillable': 'T', 'fxamountlinked': '0', 'hasfulfillableitems': 'F', 'id': '0', 'inventoryreportinglocation': '2', 'isbillable': 'F', 'isclosed': 'F', 'iscogs': 'F', 'isfullyshipped': 'F', 'isfxvariance': 'F', 'isinventoryaffecting': 'F', 'isrevrectransaction': 'F', 'item': '17397', 'itemtype': 'InvtPart', 'kitcomponent': 'F', 'landedcostperline': 'F', 'linelastmodifieddate': '7/29/2021', 'linesequencenumber': '0', 'location': '2', 'mainline': 'T', 'matchbilltoreceipt': 'F', 'oldcommitmentfirm': 'F', 'quantity': '-499.75', 'quantitybilled': '0', 'quantitypacked': '0', 'quantitypicked': '0', 'quantityrejected': '0', 'quantityshiprecv': '0', 'shipmethod': '13307', 'specialorder': 'F', 'subsidiary': '1', 'taxline': 'F', 'transaction': '7039590', 'transactiondiscount': 'F', 'uniquekey': '13142523', 'units': '1', 'updated_at': 1743465704.43747}, {'assemblycomponent': 'F', 'blandedcost': 'F', 'cleared': 'F', 'closedate': '8/30/2021', 'commitinventory': '1', 'commitmentfirm': 'F', 'createdfrom': '7371697', 'donotdisplayline': 'F', 'dropship': 'F', 'fulfillable': 'T', 'fxamountlinked': '0', 'hasfulfillableitems': 'F', 'id': '0', 'inventoryreportinglocation': '2', 'isbillable': 'F', 'isclosed': 'F', 'iscogs': 'F', 'isfullyshipped': 'F', 'isfxvariance': 'F', 'isinventoryaffecting': 'F', 'isrevrectransaction': 'F', 'item': '17397', 'itemtype': 'InvtPart', 'kitcomponent': 'F', 'landedcostperline': 'F', 'linelastmodifieddate': '8/30/2021', 'linesequencenumber': '0', 'location': '2', 'mainline': 'T', 'matchbilltoreceipt': 'F', 'oldcommitmentfirm': 'F', 'quantity': '-223', 'quantitybilled': '0', 'quantitypacked': '0', 'quantitypicked': '0', 'quantityrejected': '0', 'quantityshiprecv': '0', 'shipmethod': '4', 'specialorder': 'F', 'subsidiary': '1', 'taxline': 'F', 'transaction': '7385523', 'transactiondiscount': 'F', 'uniquekey': '13735399', 'units': '1', 'updated_at': 1743465704.43747}, {'assemblycomponent': 'F', 'blandedcost': 'F', 'class': '12', 'cleared': 'F', 'commitinventory': '1', 'commitmentfirm': 'F', 'createdfrom': '4675667', 'donotdisplayline': 'F', 'dropship': 'F', 'entity': '7161', 'fulfillable': 'T', 'fxamountlinked': '0', 'hasfulfillableitems': 'F', 'id': '0', 'inventoryreportinglocation': '2', 'isbillable': 'F', 'isclosed': 'F', 'iscogs': 'F', 'isfullyshipped': 'F', 'isfxvariance': 'F', 'isinventoryaffecting': 'F', 'isrevrectransaction': 'F', 'item': '17397', 'itemtype': 'InvtPart', 'kitcomponent': 'F', 'landedcostperline': 'F', 'linelastmodifieddate': '8/19/2021', 'linesequencenumber': '0', 'location': '2', 'mainline': 'T', 'matchbilltoreceipt': 'F', 'oldcommitmentfirm': 'F', 'quantity': '-1014.5', 'quantitybilled': '0', 'quantitypacked': '0', 'quantitypicked': '0', 'quantityrejected': '0', 'quantityshiprecv': '0', 'shipmethod': '13307', 'specialorder': 'F', 'subsidiary': '1', 'taxline': 'F', 'transaction': '7280760', 'transactiondiscount': 'F', 'uniquekey': '13567552', 'units': '1', 'updated_at': 1743465704.43747}, {'assemblycomponent': 'F', 'blandedcost': 'F', 'class': '37', 'cleared': 'F', 'closedate': '8/27/2021', 'commitinventory': '1', 'commitmentfirm': 'F', 'createdfrom': '7261410', 'donotdisplayline': 'F', 'dropship': 'F', 'fulfillable': 'T', 'fxamountlinked': '0', 'hasfulfillableitems': 'F', 'id': '0', 'inventoryreportinglocation': '2', 'isbillable': 'F', 'isclosed': 'F', 'iscogs': 'F', 'isfullyshipped': 'F', 'isfxvariance': 'F', 'isinventoryaffecting': 'F', 'isrevrectransaction': 'F', 'item': '17397', 'itemtype': 'InvtPart', 'kitcomponent': 'F', 'landedcostperline': 'F', 'linelastmodifieddate': '8/27/2021', 'linesequencenumber': '0', 'location': '2', 'mainline': 'T', 'matchbilltoreceipt': 'F', 'oldcommitmentfirm': 'F', 'quantity': '-5410.25', 'quantitybilled': '0', 'quantitypacked': '0', 'quantitypicked': '0', 'quantityrejected': '0', 'quantityshiprecv': '0', 'shipmethod': '13319', 'specialorder': 'F', 'subsidiary': '1', 'taxline': 'F', 'transaction': '7298605', 'transactiondiscount': 'F', 'uniquekey': '13600011', 'units': '1', 'updated_at': 1743465704.43747}, {'assemblycomponent': 'F', 'blandedcost': 'F', 'class': '12', 'cleared': 'F', 'commitinventory': '1', 'commitmentfirm': 'F', 'createdfrom': '7290879', 'donotdisplayline': 'F', 'dropship': 'F', 'entity': '7161', 'fulfillable': 'T', 'fxamountlinked': '0', 'hasfulfillableitems': 'F', 'id': '0', 'inventoryreportinglocation': '2', 'isbillable': 'F', 'isclosed': 'F', 'iscogs': 'F', 'isfullyshipped': 'F', 'isfxvariance': 'F', 'isinventoryaffecting': 'F', 'isrevrectransaction': 'F', 'item': '17397', 'itemtype': 'InvtPart', 'kitcomponent': 'F', 'landedcostperline': 'F', 'linelastmodifieddate': '10/7/2021', 'linesequencenumber': '0', 'location': '2', 'mainline': 'T', 'matchbilltoreceipt': 'F', 'oldcommitmentfirm': 'F', 'quantity': '-504.25', 'quantitybilled': '0', 'quantitypacked': '0', 'quantitypicked': '0', 'quantityrejected': '0', 'quantityshiprecv': '0', 'shipmethod': '13307', 'specialorder': 'F', 'subsidiary': '1', 'taxline': 'F', 'transaction': '7913178', 'transactiondiscount': 'F', 'uniquekey': '14697892', 'units': '1', 'updated_at': 1743465704.43747}, {'assemblycomponent': 'F', 'blandedcost': 'F', 'class': '12', 'cleared': 'F', 'commitinventory': '1', 'commitmentfirm': 'F', 'createdfrom': '4675667', 'donotdisplayline': 'F', 'dropship': 'F', 'entity': '7161', 'fulfillable': 'T', 'fxamountlinked': '0', 'hasfulfillableitems': 'F', 'id': '0', 'inventoryreportinglocation': '2', 'isbillable': 'F', 'isclosed': 'F', 'iscogs': 'F', 'isfullyshipped': 'F', 'isfxvariance': 'F', 'isinventoryaffecting': 'F', 'isrevrectransaction': 'F', 'item': '17397', 'itemtype': 'InvtPart', 'kitcomponent': 'F', 'landedcostperline': 'F', 'linelastmodifieddate': '10/7/2021', 'linesequencenumber': '0', 'location': '2', 'mainline': 'T', 'matchbilltoreceipt': 'F', 'oldcommitmentfirm': 'F', 'quantity': '-534.25', 'quantitybilled': '0', 'quantitypacked': '0', 'quantitypicked': '0', 'quantityrejected': '0', 'quantityshiprecv': '0', 'shipmethod': '13307', 'specialorder': 'F', 'subsidiary': '1', 'taxline': 'F', 'transaction': '7912187', 'transactiondiscount': 'F', 'uniquekey': '14695337', 'units': '1', 'updated_at': 1743465704.43747}, {'assemblycomponent': 'F', 'blandedcost': 'F', 'cleared': 'F', 'closedate': '1/11/2022', 'commitinventory': '1', 'commitmentfirm': 'F', 'createdfrom': '8152463', 'donotdisplayline': 'F', 'dropship': 'F', 'fulfillable': 'T', 'fxamountlinked': '0', 'hasfulfillableitems': 'F', 'id': '0', 'inventoryreportinglocation': '32', 'isbillable': 'F', 'isclosed': 'F', 'iscogs': 'F', 'isfullyshipped': 'F', 'isfxvariance': 'F', 'isinventoryaffecting': 'F', 'isrevrectransaction': 'F', 'item': '17397', 'itemtype': 'InvtPart', 'kitcomponent': 'F', 'landedcostperline': 'F', 'linelastmodifieddate': '1/11/2022', 'linesequencenumber': '0', 'location': '32', 'mainline': 'T', 'matchbilltoreceipt': 'F', 'oldcommitmentfirm': 'F', 'quantity': '-5140.25', 'quantitybilled': '0', 'quantitypacked': '0', 'quantitypicked': '0', 'quantityrejected': '0', 'quantityshiprecv': '0', 'specialorder': 'F', 'subsidiary': '1', 'taxline': 'F', 'transaction': '8152464', 'transactiondiscount': 'F', 'uniquekey': '15207899', 'units': '1', 'updated_at': 1743465704.43747}, {'assemblycomponent': 'F', 'blandedcost': 'F', 'class': '12', 'cleared': 'F', 'commitinventory': '1', 'commitmentfirm': 'F', 'createdfrom': '7607780', 'donotdisplayline': 'F', 'dropship': 'F', 'entity': '7161', 'fulfillable': 'T', 'fxamountlinked': '0', 'hasfulfillableitems': 'F', 'id': '0', 'inventoryreportinglocation': '2', 'isbillable': 'F', 'isclosed': 'F', 'iscogs': 'F', 'isfullyshipped': 'F', 'isfxvariance': 'F', 'isinventoryaffecting': 'F', 'isrevrectransaction': 'F', 'item': '17397', 'itemtype': 'InvtPart', 'kitcomponent': 'F', 'landedcostperline': 'F', 'linelastmodifieddate': '10/28/2021', 'linesequencenumber': '0', 'location': '2', 'mainline': 'T', 'matchbilltoreceipt': 'F', 'oldcommitmentfirm': 'F', 'quantity': '-512.75', 'quantitybilled': '0', 'quantitypacked': '0', 'quantitypicked': '0', 'quantityrejected': '0', 'quantityshiprecv': '0', 'shipmethod': '13307', 'specialorder': 'F', 'subsidiary': '1', 'taxline': 'F', 'transaction': '8177095', 'transactiondiscount': 'F', 'uniquekey': '15258424', 'units': '1', 'updated_at': 1743465704.43747}, {'assemblycomponent': 'F', 'blandedcost': 'F', 'cleared': 'F', 'closedate': '12/14/2021', 'commitinventory': '1', 'commitmentfirm': 'F', 'createdfrom': '8641418', 'donotdisplayline': 'F', 'dropship': 'F', 'fulfillable': 'T', 'fxamountlinked': '0', 'hasfulfillableitems': 'F', 'id': '0', 'inventoryreportinglocation': '6', 'isbillable': 'F', 'isclosed': 'F', 'iscogs': 'F', 'isfullyshipped': 'F', 'isfxvariance': 'F', 'isinventoryaffecting': 'F', 'isrevrectransaction': 'F', 'item': '17397', 'itemtype': 'InvtPart', 'kitcomponent': 'F', 'landedcostperline': 'F', 'linelastmodifieddate': '12/14/2021', 'linesequencenumber': '0', 'location': '6', 'mainline': 'T', 'matchbilltoreceipt': 'F', 'oldcommitmentfirm': 'F', 'quantity': '-445', 'quantitybilled': '0', 'quantitypacked': '0', 'quantitypicked': '0', 'quantityrejected': '0', 'quantityshiprecv': '0', 'shipmethod': '39453', 'specialorder': 'F', 'subsidiary': '1', 'taxline': 'F', 'transaction': '8645185', 'transactiondiscount': 'F', 'uniquekey': '16392138', 'units': '1', 'updated_at': 1743465704.43747}, {'assemblycomponent': 'F', 'blandedcost': 'F', 'class': '12', 'cleared': 'F', 'commitinventory': '1', 'commitmentfirm': 'F', 'createdfrom': '8026222', 'donotdisplayline': 'F', 'dropship': 'F', 'entity': '7161', 'fulfillable': 'T', 'fxamountlinked': '0', 'hasfulfillableitems': 'F', 'id': '0', 'inventoryreportinglocation': '2', 'isbillable': 'F', 'isclosed': 'F', 'iscogs': 'F', 'isfullyshipped': 'F', 'isfxvariance': 'F', 'isinventoryaffecting': 'F', 'isrevrectransaction': 'F', 'item': '17397', 'itemtype': 'InvtPart', 'kitcomponent': 'F', 'landedcostperline': 'F', 'linelastmodifieddate': '1/27/2022', 'linesequencenumber': '0', 'location': '2', 'mainline': 'T', 'matchbilltoreceipt': 'F', 'oldcommitmentfirm': 'F', 'quantity': '-1531.75', 'quantitybilled': '0', 'quantitypacked': '0', 'quantitypicked': '0', 'quantityrejected': '0', 'quantityshiprecv': '0', 'shipmethod': '13307', 'specialorder': 'F', 'subsidiary': '1', 'taxline': 'F', 'transaction': '9160957', 'transactiondiscount': 'F', 'uniquekey': '17516762', 'units': '1', 'updated_at': 1743465704.43747}, {'assemblycomponent': 'F', 'blandedcost': 'F', 'class': '12', 'cleared': 'F', 'commitinventory': '1', 'commitmentfirm': 'F', 'createdfrom': '8341279', 'donotdisplayline': 'F', 'dropship': 'F', 'entity': '7161', 'fulfillable': 'T', 'fxamountlinked': '0', 'hasfulfillableitems': 'F', 'id': '0', 'inventoryreportinglocation': '2', 'isbillable': 'F', 'isclosed': 'F', 'iscogs': 'F', 'isfullyshipped': 'F', 'isfxvariance': 'F', 'isinventoryaffecting': 'F', 'isrevrectransaction': 'F', 'item': '17397', 'itemtype': 'InvtPart', 'kitcomponent': 'F', 'landedcostperline': 'F', 'linelastmodifieddate': '1/27/2022', 'linesequencenumber': '0', 'location': '2', 'mainline': 'T', 'matchbilltoreceipt': 'F', 'oldcommitmentfirm': 'F', 'quantity': '-1522.5', 'quantitybilled': '0', 'quantitypacked': '0', 'quantitypicked': '0', 'quantityrejected': '0', 'quantityshiprecv': '0', 'shipmethod': '13307', 'specialorder': 'F', 'subsidiary': '1', 'taxline': 'F', 'transaction': '9159246', 'transactiondiscount': 'F', 'uniquekey': '17514248', 'units': '1', 'updated_at': 1743465704.43747}, {'assemblycomponent': 'F', 'blandedcost': 'F', 'cleared': 'F', 'closedate': '3/29/2022', 'commitinventory': '1', 'commitmentfirm': 'F', 'createdfrom': '9446761', 'donotdisplayline': 'F', 'dropship': 'F', 'fulfillable': 'T', 'fxamountlinked': '0', 'hasfulfillableitems': 'F', 'id': '0', 'inventoryreportinglocation': '32', 'isbillable': 'F', 'isclosed': 'F', 'iscogs': 'F', 'isfullyshipped': 'F', 'isfxvariance': 'F', 'isinventoryaffecting': 'F', 'isrevrectransaction': 'F', 'item': '17397', 'itemtype': 'InvtPart', 'kitcomponent': 'F', 'landedcostperline': 'F', 'linelastmodifieddate': '3/29/2022', 'linesequencenumber': '0', 'location': '32', 'mainline': 'T', 'matchbilltoreceipt': 'F', 'oldcommitmentfirm': 'F', 'quantity': '-10796', 'quantitybilled': '0', 'quantitypacked': '0', 'quantitypicked': '0', 'quantityrejected': '0', 'quantityshiprecv': '0', 'specialorder': 'F', 'subsidiary': '1', 'taxline': 'F', 'transaction': '9446762', 'transactiondiscount': 'F', 'uniquekey': '18013446', 'units': '1', 'updated_at': 1743465704.43747}, {'assemblycomponent': 'F', 'blandedcost': 'F', 'class': '12', 'cleared': 'F', 'commitinventory': '1', 'commitmentfirm': 'F', 'createdfrom': '8883452', 'donotdisplayline': 'F', 'dropship': 'F', 'entity': '7161', 'fulfillable': 'T', 'fxamountlinked': '0', 'hasfulfillableitems': 'F', 'id': '0', 'inventoryreportinglocation': '2', 'isbillable': 'F', 'isclosed': 'F', 'iscogs': 'F', 'isfullyshipped': 'F', 'isfxvariance': 'F', 'isinventoryaffecting': 'F', 'isrevrectransaction': 'F', 'item': '17397', 'itemtype': 'InvtPart', 'kitcomponent': 'F', 'landedcostperline': 'F', 'linelastmodifieddate': '2/11/2022', 'linesequencenumber': '0', 'location': '2', 'mainline': 'T', 'matchbilltoreceipt': 'F', 'oldcommitmentfirm': 'F', 'quantity': '-1503', 'quantitybilled': '0', 'quantitypacked': '0', 'quantitypicked': '0', 'quantityrejected': '0', 'quantityshiprecv': '0', 'shipmethod': '13307', 'specialorder': 'F', 'subsidiary': '1', 'taxline': 'F', 'transaction': '9386443', 'transactiondiscount': 'F', 'uniquekey': '17915569', 'units': '1', 'updated_at': 1743465704.43747}, {'assemblycomponent': 'F', 'blandedcost': 'F', 'cleared': 'F', 'closedate': '5/10/2022', 'commitinventory': '1', 'commitmentfirm': 'F', 'createdfrom': '9822383', 'donotdisplayline': 'F', 'dropship': 'F', 'fulfillable': 'T', 'fxamountlinked': '0', 'hasfulfillableitems': 'F', 'id': '0', 'inventoryreportinglocation': '32', 'isbillable': 'F', 'isclosed': 'F', 'iscogs': 'F', 'isfullyshipped': 'F', 'isfxvariance': 'F', 'isinventoryaffecting': 'F', 'isrevrectransaction': 'F', 'item': '17397', 'itemtype': 'InvtPart', 'kitcomponent': 'F', 'landedcostperline': 'F', 'linelastmodifieddate': '5/10/2022', 'linesequencenumber': '0', 'location': '32', 'mainline': 'T', 'matchbilltoreceipt': 'F', 'oldcommitmentfirm': 'F', 'quantity': '-2934.25', 'quantitybilled': '0', 'quantitypacked': '0', 'quantitypicked': '0', 'quantityrejected': '0', 'quantityshiprecv': '0', 'specialorder': 'F', 'subsidiary': '1', 'taxline': 'F', 'transaction': '9822384', 'transactiondiscount': 'F', 'uniquekey': '18767617', 'units': '1', 'updated_at': 1743465704.43747}, {'assemblycomponent': 'F', 'blandedcost': 'F', 'cleared': 'F', 'closedate': '3/28/2022', 'commitinventory': '1', 'commitmentfirm': 'F', 'createdfrom': '9671011', 'donotdisplayline': 'F', 'dropship': 'F', 'fulfillable': 'T', 'fxamountlinked': '0', 'hasfulfillableitems': 'F', 'id': '0', 'inventoryreportinglocation': '6', 'isbillable': 'F', 'isclosed': 'F', 'iscogs': 'F', 'isfullyshipped': 'F', 'isfxvariance': 'F', 'isinventoryaffecting': 'F', 'isrevrectransaction': 'F', 'item': '17397', 'itemtype': 'InvtPart', 'kitcomponent': 'F', 'landedcostperline': 'F', 'linelastmodifieddate': '3/28/2022', 'linesequencenumber': '0', 'location': '6', 'mainline': 'T', 'matchbilltoreceipt': 'F', 'oldcommitmentfirm': 'F', 'quantity': '-400', 'quantitybilled': '0', 'quantitypacked': '0', 'quantitypicked': '0', 'quantityrejected': '0', 'quantityshiprecv': '0', 'shipmethod': '4', 'specialorder': 'F', 'subsidiary': '1', 'taxline': 'F', 'transaction': '9718417', 'transactiondiscount': 'F', 'uniquekey': '18554069', 'units': '1', 'updated_at': 1743465704.43747}, {'assemblycomponent': 'F', 'blandedcost': 'F', 'cleared': 'F', 'closedate': '3/29/2022', 'commitinventory': '1', 'commitmentfirm': 'F', 'createdfrom': '9954647', 'donotdisplayline': 'F', 'dropship': 'F', 'fulfillable': 'T', 'fxamountlinked': '0', 'hasfulfillableitems': 'F', 'id': '0', 'inventoryreportinglocation': '34', 'isbillable': 'F', 'isclosed': 'F', 'iscogs': 'F', 'isfullyshipped': 'F', 'isfxvariance': 'F', 'isinventoryaffecting': 'F', 'isrevrectransaction': 'F', 'item': '17397', 'itemtype': 'InvtPart', 'kitcomponent': 'F', 'landedcostperline': 'F', 'linelastmodifieddate': '3/29/2022', 'linesequencenumber': '0', 'location': '34', 'mainline': 'T', 'matchbilltoreceipt': 'F', 'oldcommitmentfirm': 'F', 'quantity': '-10796', 'quantitybilled': '0', 'quantitypacked': '0', 'quantitypicked': '0', 'quantityrejected': '0', 'quantityshiprecv': '0', 'specialorder': 'F', 'subsidiary': '1', 'taxline': 'F', 'transaction': '9956980', 'transactiondiscount': 'F', 'uniquekey': '19036772', 'units': '1', 'updated_at': 1743465704.43747}, {'assemblycomponent': 'F', 'blandedcost': 'F', 'cleared': 'F', 'closedate': '4/4/2022', 'commitinventory': '1', 'commitmentfirm': 'F', 'createdfrom': '9971731', 'donotdisplayline': 'F', 'dropship': 'F', 'fulfillable': 'T', 'fxamountlinked': '0', 'hasfulfillableitems': 'F', 'id': '0', 'inventoryreportinglocation': '6', 'isbillable': 'F', 'isclosed': 'F', 'iscogs': 'F', 'isfullyshipped': 'F', 'isfxvariance': 'F', 'isinventoryaffecting': 'F', 'isrevrectransaction': 'F', 'item': '17397', 'itemtype': 'InvtPart', 'kitcomponent': 'F', 'landedcostperline': 'F', 'linelastmodifieddate': '4/4/2022', 'linesequencenumber': '0', 'location': '6', 'mainline': 'T', 'matchbilltoreceipt': 'F', 'oldcommitmentfirm': 'F', 'quantity': '-110.25', 'quantitybilled': '0', 'quantitypacked': '0', 'quantitypicked': '0', 'quantityrejected': '0', 'quantityshiprecv': '0', 'shipmethod': '4', 'specialorder': 'F', 'subsidiary': '1', 'taxline': 'F', 'transaction': '9988375', 'transactiondiscount': 'F', 'uniquekey': '19093590', 'units': '1', 'updated_at': 1743465704.43747}, {'assemblycomponent': 'F', 'blandedcost': 'F', 'cleared': 'F', 'closedate': '3/30/2022', 'commitinventory': '1', 'commitmentfirm': 'F', 'createdfrom': '9897364', 'donotdisplayline': 'F', 'dropship': 'F', 'fulfillable': 'T', 'fxamountlinked': '0', 'hasfulfillableitems': 'F', 'id': '0', 'inventoryreportinglocation': '6', 'isbillable': 'F', 'isclosed': 'F', 'iscogs': 'F', 'isfullyshipped': 'F', 'isfxvariance': 'F', 'isinventoryaffecting': 'F', 'isrevrectransaction': 'F', 'item': '17397', 'itemtype': 'InvtPart', 'kitcomponent': 'F', 'landedcostperline': 'F', 'linelastmodifieddate': '3/30/2022', 'linesequencenumber': '0', 'location': '6', 'mainline': 'T', 'matchbilltoreceipt': 'F', 'oldcommitmentfirm': 'F', 'quantity': '-469', 'quantitybilled': '0', 'quantitypacked': '0', 'quantitypicked': '0', 'quantityrejected': '0', 'quantityshiprecv': '0', 'shipmethod': '13352', 'specialorder': 'F', 'subsidiary': '1', 'taxline': 'F', 'transaction': '9912713', 'transactiondiscount': 'F', 'uniquekey': '18951683', 'units': '1', 'updated_at': 1743465704.43747}, {'assemblycomponent': 'F', 'blandedcost': 'F', 'cleared': 'F', 'closedate': '6/7/2022', 'commitinventory': '1', 'commitmentfirm': 'F', 'createdfrom': '10196336', 'donotdisplayline': 'F', 'dropship': 'F', 'fulfillable': 'T', 'fxamountlinked': '0', 'hasfulfillableitems': 'F', 'id': '0', 'inventoryreportinglocation': '32', 'isbillable': 'F', 'isclosed': 'F', 'iscogs': 'F', 'isfullyshipped': 'F', 'isfxvariance': 'F', 'isinventoryaffecting': 'F', 'isrevrectransaction': 'F', 'item': '17397', 'itemtype': 'InvtPart', 'kitcomponent': 'F', 'landedcostperline': 'F', 'linelastmodifieddate': '6/7/2022', 'linesequencenumber': '0', 'location': '32', 'mainline': 'T', 'matchbilltoreceipt': 'F', 'oldcommitmentfirm': 'F', 'quantity': '-4669.5', 'quantitybilled': '0', 'quantitypacked': '0', 'quantitypicked': '0', 'quantityrejected': '0', 'quantityshiprecv': '0', 'specialorder': 'F', 'subsidiary': '1', 'taxline': 'F', 'transaction': '10196337', 'transactiondiscount': 'F', 'uniquekey': '19580037', 'units': '1', 'updated_at': 1743465704.43747}, {'assemblycomponent': 'F', 'blandedcost': 'F', 'class': '12', 'cleared': 'F', 'commitinventory': '1', 'commitmentfirm': 'F', 'createdfrom': '8966892', 'donotdisplayline': 'F', 'dropship': 'F', 'entity': '7161', 'fulfillable': 'T', 'fxamountlinked': '0', 'hasfulfillableitems': 'F', 'id': '0', 'inventoryreportinglocation': '2', 'isbillable': 'F', 'isclosed': 'F', 'iscogs': 'F', 'isfullyshipped': 'F', 'isfxvariance': 'F', 'isinventoryaffecting': 'F', 'isrevrectransaction': 'F', 'item': '17397', 'itemtype': 'InvtPart', 'kitcomponent': 'F', 'landedcostperline': 'F', 'linelastmodifieddate': '6/23/2022', 'linesequencenumber': '0', 'location': '2', 'mainline': 'T', 'matchbilltoreceipt': 'F', 'oldcommitmentfirm': 'F', 'quantity': '-524.75', 'quantitybilled': '0', 'quantitypacked': '0', 'quantitypicked': '0', 'quantityrejected': '0', 'quantityshiprecv': '0', 'shipmethod': '13307', 'specialorder': 'F', 'subsidiary': '1', 'taxline': 'F', 'transaction': '10856194', 'transactiondiscount': 'F', 'uniquekey': '21393655', 'units': '1', 'updated_at': 1743465704.43747}, {'assemblycomponent': 'F', 'blandedcost': 'F', 'class': '12', 'cleared': 'F', 'commitinventory': '1', 'commitmentfirm': 'F', 'createdfrom': '9302130', 'donotdisplayline': 'F', 'dropship': 'F', 'entity': '7161', 'fulfillable': 'T', 'fxamountlinked': '0', 'hasfulfillableitems': 'F', 'id': '0', 'inventoryreportinglocation': '2', 'isbillable': 'F', 'isclosed': 'F', 'iscogs': 'F', 'isfullyshipped': 'F', 'isfxvariance': 'F', 'isinventoryaffecting': 'F', 'isrevrectransaction': 'F', 'item': '17397', 'itemtype': 'InvtPart', 'kitcomponent': 'F', 'landedcostperline': 'F', 'linelastmodifieddate': '6/23/2022', 'linesequencenumber': '0', 'location': '2', 'mainline': 'T', 'matchbilltoreceipt': 'F', 'oldcommitmentfirm': 'F', 'quantity': '-526.25', 'quantitybilled': '0', 'quantitypacked': '0', 'quantitypicked': '0', 'quantityrejected': '0', 'quantityshiprecv': '0', 'shipmethod': '13307', 'specialorder': 'F', 'subsidiary': '1', 'taxline': 'F', 'transaction': '10855546', 'transactiondiscount': 'F', 'uniquekey': '21392064', 'units': '1', 'updated_at': 1743465704.43747}, {'assemblycomponent': 'F', 'blandedcost': 'F', 'class': '12', 'cleared': 'F', 'commitinventory': '1', 'commitmentfirm': 'F', 'createdfrom': '10576523', 'donotdisplayline': 'F', 'dropship': 'F', 'entity': '7161', 'fulfillable': 'T', 'fxamountlinked': '0', 'hasfulfillableitems': 'F', 'id': '0', 'inventoryreportinglocation': '2', 'isbillable': 'F', 'isclosed': 'F', 'iscogs': 'F', 'isfullyshipped': 'F', 'isfxvariance': 'F', 'isinventoryaffecting': 'F', 'isrevrectransaction': 'F', 'item': '17397', 'itemtype': 'InvtPart', 'kitcomponent': 'F', 'landedcostperline': 'F', 'linelastmodifieddate': '7/20/2022', 'linesequencenumber': '0', 'location': '2', 'mainline': 'T', 'matchbilltoreceipt': 'F', 'oldcommitmentfirm': 'F', 'quantity': '-1240.75', 'quantitybilled': '0', 'quantitypacked': '0', 'quantitypicked': '0', 'quantityrejected': '0', 'quantityshiprecv': '0', 'shipmethod': '13307', 'specialorder': 'F', 'subsidiary': '1', 'taxline': 'F', 'transaction': '11189061', 'transactiondiscount': 'F', 'uniquekey': '22257802', 'units': '1', 'updated_at': 1743465704.43747}, {'assemblycomponent': 'F', 'blandedcost': 'F', 'cleared': 'F', 'closedate': '7/19/2022', 'commitinventory': '1', 'commitmentfirm': 'F', 'createdfrom': '11153527', 'donotdisplayline': 'F', 'dropship': 'F', 'fulfillable': 'T', 'fxamountlinked': '0', 'hasfulfillableitems': 'F', 'id': '0', 'inventoryreportinglocation': '6', 'isbillable': 'F', 'isclosed': 'F', 'iscogs': 'F', 'isfullyshipped': 'F', 'isfxvariance': 'F', 'isinventoryaffecting': 'F', 'isrevrectransaction': 'F', 'item': '17397', 'itemtype': 'InvtPart', 'kitcomponent': 'F', 'landedcostperline': 'F', 'linelastmodifieddate': '7/19/2022', 'linesequencenumber': '0', 'location': '6', 'mainline': 'T', 'matchbilltoreceipt': 'F', 'oldcommitmentfirm': 'F', 'quantity': '-230.75', 'quantitybilled': '0', 'quantitypacked': '0', 'quantitypicked': '0', 'quantityrejected': '0', 'quantityshiprecv': '0', 'shipmethod': '4', 'specialorder': 'F', 'subsidiary': '1', 'taxline': 'F', 'transaction': '11180394', 'transactiondiscount': 'F', 'uniquekey': '22240512', 'units': '1', 'updated_at': 1743465704.43747}, {'assemblycomponent': 'F', 'blandedcost': 'F', 'cleared': 'F', 'closedate': '9/19/2022', 'commitinventory': '1', 'commitmentfirm': 'F', 'createdfrom': '11856203', 'donotdisplayline': 'F', 'dropship': 'F', 'fulfillable': 'T', 'fxamountlinked': '0', 'hasfulfillableitems': 'F', 'id': '0', 'inventoryreportinglocation': '6', 'isbillable': 'F', 'isclosed': 'F', 'iscogs': 'F', 'isfullyshipped': 'F', 'isfxvariance': 'F', 'isinventoryaffecting': 'F', 'isrevrectransaction': 'F', 'item': '17397', 'itemtype': 'InvtPart', 'kitcomponent': 'F', 'landedcostperline': 'F', 'linelastmodifieddate': '9/19/2022', 'linesequencenumber': '0', 'location': '6', 'mainline': 'T', 'matchbilltoreceipt': 'F', 'oldcommitmentfirm': 'F', 'quantity': '-296.25', 'quantitybilled': '0', 'quantitypacked': '0', 'quantitypicked': '0', 'quantityrejected': '0', 'quantityshiprecv': '0', 'shipmethod': '4', 'specialorder': 'F', 'subsidiary': '1', 'taxline': 'F', 'transaction': '11883247', 'transactiondiscount': 'F', 'uniquekey': '23971020', 'units': '1', 'updated_at': 1743465704.43747}, {'assemblycomponent': 'F', 'blandedcost': 'F', 'cleared': 'F', 'closedate': '10/24/2022', 'commitinventory': '1', 'commitmentfirm': 'F', 'createdfrom': '12146774', 'donotdisplayline': 'F', 'dropship': 'F', 'fulfillable': 'T', 'fxamountlinked': '0', 'hasfulfillableitems': 'F', 'id': '0', 'inventoryreportinglocation': '32', 'isbillable': 'F', 'isclosed': 'F', 'iscogs': 'F', 'isfullyshipped': 'F', 'isfxvariance': 'F', 'isinventoryaffecting': 'F', 'isrevrectransaction': 'F', 'item': '17397', 'itemtype': 'InvtPart', 'kitcomponent': 'F', 'landedcostperline': 'F', 'linelastmodifieddate': '10/24/2022', 'linesequencenumber': '0', 'location': '32', 'mainline': 'T', 'matchbilltoreceipt': 'F', 'oldcommitmentfirm': 'F', 'quantity': '-1509.25', 'quantitybilled': '0', 'quantitypacked': '0', 'quantitypicked': '0', 'quantityrejected': '0', 'quantityshiprecv': '0', 'specialorder': 'F', 'subsidiary': '1', 'taxline': 'F', 'transaction': '12146775', 'transactiondiscount': 'F', 'uniquekey': '24486056', 'units': '1', 'updated_at': 1743465704.43747}, {'assemblycomponent': 'F', 'blandedcost': 'F', 'cleared': 'F', 'closedate': '12/6/2022', 'commitinventory': '1', 'commitmentfirm': 'F', 'createdfrom': '12218871', 'donotdisplayline': 'F', 'dropship': 'F', 'fulfillable': 'T', 'fxamountlinked': '0', 'hasfulfillableitems': 'F', 'id': '0', 'inventoryreportinglocation': '32', 'isbillable': 'F', 'isclosed': 'F', 'iscogs': 'F', 'isfullyshipped': 'F', 'isfxvariance': 'F', 'isinventoryaffecting': 'F', 'isrevrectransaction': 'F', 'item': '17397', 'itemtype': 'InvtPart', 'kitcomponent': 'F', 'landedcostperline': 'F', 'linelastmodifieddate': '12/6/2022', 'linesequencenumber': '0', 'location': '32', 'mainline': 'T', 'matchbilltoreceipt': 'F', 'oldcommitmentfirm': 'F', 'quantity': '-7050.5', 'quantitybilled': '0', 'quantitypacked': '0', 'quantitypicked': '0', 'quantityrejected': '0', 'quantityshiprecv': '0', 'specialorder': 'F', 'subsidiary': '1', 'taxline': 'F', 'transaction': '12218872', 'transactiondiscount': 'F', 'uniquekey': '24617870', 'units': '1', 'updated_at': 1743465704.43747}, {'assemblycomponent': 'F', 'blandedcost': 'F', 'cleared': 'F', 'closedate': '12/6/2022', 'commitinventory': '1', 'commitmentfirm': 'F', 'createdfrom': '12319744', 'donotdisplayline': 'F', 'dropship': 'F', 'fulfillable': 'T', 'fxamountlinked': '0', 'hasfulfillableitems': 'F', 'id': '0', 'inventoryreportinglocation': '32', 'isbillable': 'F', 'isclosed': 'F', 'iscogs': 'F', 'isfullyshipped': 'F', 'isfxvariance': 'F', 'isinventoryaffecting': 'F', 'isrevrectransaction': 'F', 'item': '17397', 'itemtype': 'InvtPart', 'kitcomponent': 'F', 'landedcostperline': 'F', 'linelastmodifieddate': '12/6/2022', 'linesequencenumber': '0', 'location': '32', 'mainline': 'T', 'matchbilltoreceipt': 'F', 'oldcommitmentfirm': 'F', 'quantity': '-10650.75', 'quantitybilled': '0', 'quantitypacked': '0', 'quantitypicked': '0', 'quantityrejected': '0', 'quantityshiprecv': '0', 'specialorder': 'F', 'subsidiary': '1', 'taxline': 'F', 'transaction': '12319745', 'transactiondiscount': 'F', 'uniquekey': '24800827', 'units': '1', 'updated_at': 1743465704.43747}, {'assemblycomponent': 'F', 'blandedcost': 'F', 'cleared': 'F', 'closedate': '11/22/2022', 'commitinventory': '1', 'commitmentfirm': 'F', 'createdfrom': '12529246', 'donotdisplayline': 'F', 'dropship': 'F', 'fulfillable': 'T', 'fxamountlinked': '0', 'hasfulfillableitems': 'F', 'id': '0', 'inventoryreportinglocation': '6', 'isbillable': 'F', 'isclosed': 'F', 'iscogs': 'F', 'isfullyshipped': 'F', 'isfxvariance': 'F', 'isinventoryaffecting': 'F', 'isrevrectransaction': 'F', 'item': '17397', 'itemtype': 'InvtPart', 'kitcomponent': 'F', 'landedcostperline': 'F', 'linelastmodifieddate': '11/22/2022', 'linesequencenumber': '0', 'location': '6', 'mainline': 'T', 'matchbilltoreceipt': 'F', 'oldcommitmentfirm': 'F', 'quantity': '-54.75', 'quantitybilled': '0', 'quantitypacked': '0', 'quantitypicked': '0', 'quantityrejected': '0', 'quantityshiprecv': '0', 'shipmethod': '4', 'specialorder': 'F', 'subsidiary': '1', 'taxline': 'F', 'transaction': '12564473', 'transactiondiscount': 'F', 'uniquekey': '25263179', 'units': '1', 'updated_at': 1743465704.43747}, {'assemblycomponent': 'F', 'blandedcost': 'F', 'cleared': 'F', 'closedate': '2/3/2023', 'commitinventory': '1', 'commitmentfirm': 'F', 'createdfrom': '12983707', 'donotdisplayline': 'F', 'dropship': 'F', 'fulfillable': 'T', 'fxamountlinked': '0', 'hasfulfillableitems': 'F', 'id': '0', 'inventoryreportinglocation': '32', 'isbillable': 'F', 'isclosed': 'F', 'iscogs': 'F', 'isfullyshipped': 'F', 'isfxvariance': 'F', 'isinventoryaffecting': 'F', 'isrevrectransaction': 'F', 'item': '17397', 'itemtype': 'InvtPart', 'kitcomponent': 'F', 'landedcostperline': 'F', 'linelastmodifieddate': '2/3/2023', 'linesequencenumber': '0', 'location': '32', 'mainline': 'T', 'matchbilltoreceipt': 'F', 'oldcommitmentfirm': 'F', 'quantity': '-1729.25', 'quantitybilled': '0', 'quantitypacked': '0', 'quantitypicked': '0', 'quantityrejected': '0', 'quantityshiprecv': '0', 'specialorder': 'F', 'subsidiary': '1', 'taxline': 'F', 'transaction': '12983708', 'transactiondiscount': 'F', 'uniquekey': '26287572', 'units': '1', 'updated_at': 1743465704.43747}, {'assemblycomponent': 'F', 'blandedcost': 'F', 'cleared': 'F', 'closedate': '2/3/2023', 'commitinventory': '1', 'commitmentfirm': 'F', 'createdfrom': '13358783', 'donotdisplayline': 'F', 'dropship': 'F', 'fulfillable': 'T', 'fxamountlinked': '0', 'hasfulfillableitems': 'F', 'id': '0', 'inventoryreportinglocation': '34', 'isbillable': 'F', 'isclosed': 'F', 'iscogs': 'F', 'isfullyshipped': 'F', 'isfxvariance': 'F', 'isinventoryaffecting': 'F', 'isrevrectransaction': 'F', 'item': '17397', 'itemtype': 'InvtPart', 'kitcomponent': 'F', 'landedcostperline': 'F', 'linelastmodifieddate': '2/3/2023', 'linesequencenumber': '0', 'location': '34', 'mainline': 'T', 'matchbilltoreceipt': 'F', 'oldcommitmentfirm': 'F', 'quantity': '-6020.25', 'quantitybilled': '0', 'quantitypacked': '0', 'quantitypicked': '0', 'quantityrejected': '0', 'quantityshiprecv': '0', 'specialorder': 'F', 'subsidiary': '1', 'taxline': 'F', 'transaction': '13363605', 'transactiondiscount': 'F', 'uniquekey': '27174201', 'units': '1', 'updated_at': 1743465704.43747}, {'assemblycomponent': 'F', 'blandedcost': 'F', 'cleared': 'F', 'closedate': '3/16/2023', 'commitinventory': '1', 'commitmentfirm': 'F', 'createdfrom': '13380670', 'donotdisplayline': 'F', 'dropship': 'F', 'fulfillable': 'T', 'fxamountlinked': '0', 'hasfulfillableitems': 'F', 'id': '0', 'inventoryreportinglocation': '34', 'isbillable': 'F', 'isclosed': 'F', 'iscogs': 'F', 'isfullyshipped': 'F', 'isfxvariance': 'F', 'isinventoryaffecting': 'F', 'isrevrectransaction': 'F', 'item': '17397', 'itemtype': 'InvtPart', 'kitcomponent': 'F', 'landedcostperline': 'F', 'linelastmodifieddate': '3/16/2023', 'linesequencenumber': '0', 'location': '34', 'mainline': 'T', 'matchbilltoreceipt': 'F', 'oldcommitmentfirm': 'F', 'quantity': '-109', 'quantitybilled': '0', 'quantitypacked': '0', 'quantitypicked': '0', 'quantityrejected': '0', 'quantityshiprecv': '0', 'shipmethod': '43', 'specialorder': 'F', 'subsidiary': '1', 'taxline': 'F', 'transaction': '13391922', 'transactiondiscount': 'F', 'uniquekey': '27244274', 'units': '1', 'updated_at': 1743465704.43747}, {'assemblycomponent': 'F', 'blandedcost': 'F', 'cleared': 'F', 'closedate': '2/28/2023', 'commitinventory': '1', 'commitmentfirm': 'F', 'createdfrom': '13600299', 'donotdisplayline': 'F', 'dropship': 'F', 'fulfillable': 'T', 'fxamountlinked': '0', 'hasfulfillableitems': 'F', 'id': '0', 'inventoryreportinglocation': '34', 'isbillable': 'F', 'isclosed': 'F', 'iscogs': 'F', 'isfullyshipped': 'F', 'isfxvariance': 'F', 'isinventoryaffecting': 'F', 'isrevrectransaction': 'F', 'item': '17397', 'itemtype': 'InvtPart', 'kitcomponent': 'F', 'landedcostperline': 'F', 'linelastmodifieddate': '2/28/2023', 'linesequencenumber': '0', 'location': '34', 'mainline': 'T', 'matchbilltoreceipt': 'F', 'oldcommitmentfirm': 'F', 'quantity': '-8095.5', 'quantitybilled': '0', 'quantitypacked': '0', 'quantitypicked': '0', 'quantityrejected': '0', 'quantityshiprecv': '0', 'specialorder': 'F', 'subsidiary': '1', 'taxline': 'F', 'transaction': '13608446', 'transactiondiscount': 'F', 'uniquekey': '27663665', 'units': '1', 'updated_at': 1743465704.43747}, {'assemblycomponent': 'F', 'blandedcost': 'F', 'cleared': 'F', 'closedate': '3/16/2023', 'commitinventory': '1', 'commitmentfirm': 'F', 'createdfrom': '13477052', 'donotdisplayline': 'F', 'dropship': 'F', 'fulfillable': 'T', 'fxamountlinked': '0', 'hasfulfillableitems': 'F', 'id': '0', 'inventoryreportinglocation': '34', 'isbillable': 'F', 'isclosed': 'F', 'iscogs': 'F', 'isfullyshipped': 'F', 'isfxvariance': 'F', 'isinventoryaffecting': 'F', 'isrevrectransaction': 'F', 'item': '17397', 'itemtype': 'InvtPart', 'kitcomponent': 'F', 'landedcostperline': 'F', 'linelastmodifieddate': '3/16/2023', 'linesequencenumber': '0', 'location': '34', 'mainline': 'T', 'matchbilltoreceipt': 'F', 'oldcommitmentfirm': 'F', 'quantity': '-269.75', 'quantitybilled': '0', 'quantitypacked': '0', 'quantitypicked': '0', 'quantityrejected': '0', 'quantityshiprecv': '0', 'shipmethod': '43', 'specialorder': 'F', 'subsidiary': '1', 'taxline': 'F', 'transaction': '13502229', 'transactiondiscount': 'F', 'uniquekey': '27448733', 'units': '1', 'updated_at': 1743465704.43747}, {'assemblycomponent': 'F', 'blandedcost': 'F', 'cleared': 'F', 'closedate': '3/31/2023', 'commitinventory': '1', 'commitmentfirm': 'F', 'createdfrom': '13798585', 'donotdisplayline': 'F', 'dropship': 'F', 'fulfillable': 'T', 'fxamountlinked': '0', 'hasfulfillableitems': 'F', 'id': '0', 'inventoryreportinglocation': '6', 'isbillable': 'F', 'isclosed': 'F', 'iscogs': 'F', 'isfullyshipped': 'F', 'isfxvariance': 'F', 'isinventoryaffecting': 'F', 'isrevrectransaction': 'F', 'item': '17397', 'itemtype': 'InvtPart', 'kitcomponent': 'F', 'landedcostperline': 'F', 'linelastmodifieddate': '3/31/2023', 'linesequencenumber': '0', 'location': '6', 'mainline': 'T', 'matchbilltoreceipt': 'F', 'oldcommitmentfirm': 'F', 'quantity': '-6059.25', 'quantitybilled': '0', 'quantitypacked': '0', 'quantitypicked': '0', 'quantityrejected': '0', 'quantityshiprecv': '0', 'shipmethod': '13352', 'specialorder': 'F', 'subsidiary': '1', 'taxline': 'F', 'transaction': '13839732', 'transactiondiscount': 'F', 'uniquekey': '28331800', 'units': '1', 'updated_at': 1743465704.43747}, {'assemblycomponent': 'F', 'blandedcost': 'F', 'cleared': 'F', 'closedate': '7/6/2023', 'commitinventory': '1', 'commitmentfirm': 'F', 'createdfrom': '14761281', 'donotdisplayline': 'F', 'dropship': 'F', 'fulfillable': 'T', 'fxamountlinked': '0', 'hasfulfillableitems': 'F', 'id': '0', 'inventoryreportinglocation': '6', 'isbillable': 'F', 'isclosed': 'F', 'iscogs': 'F', 'isfullyshipped': 'F', 'isfxvariance': 'F', 'isinventoryaffecting': 'F', 'isrevrectransaction': 'F', 'item': '17397', 'itemtype': 'InvtPart', 'kitcomponent': 'F', 'landedcostperline': 'F', 'linelastmodifieddate': '7/6/2023', 'linesequencenumber': '0', 'location': '6', 'mainline': 'T', 'matchbilltoreceipt': 'F', 'oldcommitmentfirm': 'F', 'quantity': '-157.5', 'quantitybilled': '0', 'quantitypacked': '0', 'quantitypicked': '0', 'quantityrejected': '0', 'quantityshiprecv': '0', 'shipmethod': '4', 'specialorder': 'F', 'subsidiary': '1', 'taxline': 'F', 'transaction': '14787797', 'transactiondiscount': 'F', 'uniquekey': '30734045', 'units': '1', 'updated_at': 1743465704.43747}, {'assemblycomponent': 'F', 'blandedcost': 'F', 'cleared': 'F', 'closedate': '9/28/2023', 'commitinventory': '1', 'commitmentfirm': 'F', 'createdfrom': '15680029', 'donotdisplayline': 'F', 'dropship': 'F', 'fulfillable': 'T', 'fxamountlinked': '0', 'hasfulfillableitems': 'F', 'id': '0', 'inventoryreportinglocation': '34', 'isbillable': 'F', 'isclosed': 'F', 'iscogs': 'F', 'isfullyshipped': 'F', 'isfxvariance': 'F', 'isinventoryaffecting': 'F', 'isrevrectransaction': 'F', 'item': '17397', 'itemtype': 'InvtPart', 'kitcomponent': 'F', 'landedcostperline': 'F', 'linelastmodifieddate': '9/28/2023', 'linesequencenumber': '0', 'location': '34', 'mainline': 'T', 'matchbilltoreceipt': 'F', 'oldcommitmentfirm': 'F', 'quantity': '-214.25', 'quantitybilled': '0', 'quantitypacked': '0', 'quantitypicked': '0', 'quantityrejected': '0', 'quantityshiprecv': '0', 'shipmethod': '43', 'specialorder': 'F', 'subsidiary': '1', 'taxline': 'F', 'transaction': '15681126', 'transactiondiscount': 'F', 'uniquekey': '32591577', 'units': '1', 'updated_at': 1743465704.43747}, {'assemblycomponent': 'F', 'blandedcost': 'F', 'class': '12', 'cleared': 'F', 'commitinventory': '1', 'commitmentfirm': 'F', 'createdfrom': '15144214', 'donotdisplayline': 'F', 'dropship': 'F', 'entity': '7161', 'fulfillable': 'T', 'fxamountlinked': '0', 'hasfulfillableitems': 'F', 'id': '0', 'inventoryreportinglocation': '2', 'isbillable': 'F', 'isclosed': 'F', 'iscogs': 'F', 'isfullyshipped': 'F', 'isfxvariance': 'F', 'isinventoryaffecting': 'F', 'isrevrectransaction': 'F', 'item': '17397', 'itemtype': 'InvtPart', 'kitcomponent': 'F', 'landedcostperline': 'F', 'linelastmodifieddate': '9/13/2023', 'linesequencenumber': '0', 'location': '2', 'mainline': 'T', 'matchbilltoreceipt': 'F', 'oldcommitmentfirm': 'F', 'quantity': '-525', 'quantitybilled': '0', 'quantitypacked': '0', 'quantitypicked': '0', 'quantityrejected': '0', 'quantityshiprecv': '0', 'shipmethod': '13307', 'specialorder': 'F', 'subsidiary': '1', 'taxline': 'F', 'transaction': '15619059', 'transactiondiscount': 'F', 'uniquekey': '32472388', 'units': '1', 'updated_at': 1743465704.43747}, {'assemblycomponent': 'F', 'blandedcost': 'F', 'class': '12', 'cleared': 'F', 'commitinventory': '1', 'commitmentfirm': 'F', 'createdfrom': '17220612', 'donotdisplayline': 'F', 'dropship': 'F', 'entity': '7161', 'fulfillable': 'T', 'fxamountlinked': '0', 'hasfulfillableitems': 'F', 'id': '0', 'inventoryreportinglocation': '2', 'isbillable': 'F', 'isclosed': 'F', 'iscogs': 'F', 'isfullyshipped': 'F', 'isfxvariance': 'F', 'isinventoryaffecting': 'F', 'isrevrectransaction': 'F', 'item': '17397', 'itemtype': 'InvtPart', 'kitcomponent': 'F', 'landedcostperline': 'F', 'linelastmodifieddate': '2/21/2024', 'linesequencenumber': '0', 'location': '2', 'mainline': 'T', 'matchbilltoreceipt': 'F', 'oldcommitmentfirm': 'F', 'quantity': '-604.25', 'quantitybilled': '0', 'quantitypacked': '0', 'quantitypicked': '0', 'quantityrejected': '0', 'quantityshiprecv': '0', 'shipmethod': '13307', 'specialorder': 'F', 'subsidiary': '1', 'taxline': 'F', 'transaction': '17305949', 'transactiondiscount': 'F', 'uniquekey': '38001750', 'units': '1', 'updated_at': 1743465704.43747}, {'assemblycomponent': 'F', 'blandedcost': 'F', 'class': '12', 'cleared': 'F', 'closedate': '2/20/2024', 'commitinventory': '1', 'commitmentfirm': 'F', 'createdfrom': '17238140', 'donotdisplayline': 'F', 'dropship': 'F', 'fulfillable': 'T', 'fxamountlinked': '0', 'hasfulfillableitems': 'F', 'id': '0', 'inventoryreportinglocation': '34', 'isbillable': 'F', 'isclosed': 'F', 'iscogs': 'F', 'isfullyshipped': 'F', 'isfxvariance': 'F', 'isinventoryaffecting': 'F', 'isrevrectransaction': 'F', 'item': '17397', 'itemtype': 'InvtPart', 'kitcomponent': 'F', 'landedcostperline': 'F', 'linelastmodifieddate': '2/20/2024', 'linesequencenumber': '0', 'location': '34', 'mainline': 'T', 'matchbilltoreceipt': 'F', 'oldcommitmentfirm': 'F', 'quantity': '-604.25', 'quantitybilled': '0', 'quantitypacked': '0', 'quantitypicked': '0', 'quantityrejected': '0', 'quantityshiprecv': '0', 'specialorder': 'F', 'subsidiary': '1', 'taxline': 'F', 'transaction': '17276298', 'transactiondiscount': 'F', 'uniquekey': '37836399', 'units': '1', 'updated_at': 1743465704.43747}, {'assemblycomponent': 'F', 'blandedcost': 'F', 'class': '12', 'cleared': 'F', 'commitinventory': '1', 'commitmentfirm': 'F', 'createdfrom': '17918587', 'custcol_red_dot': '4/24/2024', 'donotdisplayline': 'F', 'dropship': 'F', 'entity': '7161', 'fulfillable': 'T', 'fxamountlinked': '0', 'hasfulfillableitems': 'F', 'id': '0', 'inventoryreportinglocation': '2', 'isbillable': 'F', 'isclosed': 'F', 'iscogs': 'F', 'isfullyshipped': 'F', 'isfxvariance': 'F', 'isinventoryaffecting': 'F', 'isrevrectransaction': 'F', 'item': '17397', 'itemtype': 'InvtPart', 'kitcomponent': 'F', 'landedcostperline': 'F', 'linelastmodifieddate': '4/25/2024', 'linesequencenumber': '0', 'location': '2', 'mainline': 'T', 'matchbilltoreceipt': 'F', 'oldcommitmentfirm': 'F', 'quantity': '-604', 'quantitybilled': '0', 'quantitypacked': '0', 'quantitypicked': '0', 'quantityrejected': '0', 'quantityshiprecv': '0', 'shipmethod': '13320', 'specialorder': 'F', 'subsidiary': '1', 'taxline': 'F', 'transaction': '17945741', 'transactiondiscount': 'F', 'uniquekey': '41469656', 'units': '1', 'updated_at': 1743465704.43747}, {'assemblycomponent': 'F', 'blandedcost': 'F', 'class': '12', 'cleared': 'F', 'closedate': '4/24/2024', 'commitinventory': '1', 'commitmentfirm': 'F', 'createdfrom': '17918898', 'donotdisplayline': 'F', 'dropship': 'F', 'fulfillable': 'T', 'fxamountlinked': '0', 'hasfulfillableitems': 'F', 'id': '0', 'inventoryreportinglocation': '34', 'isbillable': 'F', 'isclosed': 'F', 'iscogs': 'F', 'isfullyshipped': 'F', 'isfxvariance': 'F', 'isinventoryaffecting': 'F', 'isrevrectransaction': 'F', 'item': '17397', 'itemtype': 'InvtPart', 'kitcomponent': 'F', 'landedcostperline': 'F', 'linelastmodifieddate': '4/24/2024', 'linesequencenumber': '0', 'location': '34', 'mainline': 'T', 'matchbilltoreceipt': 'F', 'oldcommitmentfirm': 'F', 'quantity': '-604', 'quantitybilled': '0', 'quantitypacked': '0', 'quantitypicked': '0', 'quantityrejected': '0', 'quantityshiprecv': '0', 'specialorder': 'F', 'subsidiary': '1', 'taxline': 'F', 'transaction': '17923450', 'transactiondiscount': 'F', 'uniquekey': '41430578', 'units': '1', 'updated_at': 1743465704.43747}, {'assemblycomponent': 'F', 'blandedcost': 'F', 'cleared': 'F', 'closedate': '6/5/2024', 'commitinventory': '1', 'commitmentfirm': 'F', 'createdfrom': '18103126', 'donotdisplayline': 'F', 'dropship': 'F', 'fulfillable': 'T', 'fxamountlinked': '0', 'hasfulfillableitems': 'F', 'id': '0', 'inventoryreportinglocation': '32', 'isbillable': 'F', 'isclosed': 'F', 'iscogs': 'F', 'isfullyshipped': 'F', 'isfxvariance': 'F', 'isinventoryaffecting': 'F', 'isrevrectransaction': 'F', 'item': '17397', 'itemtype': 'InvtPart', 'kitcomponent': 'F', 'landedcostperline': 'F', 'linelastmodifieddate': '6/5/2024', 'linesequencenumber': '0', 'location': '32', 'mainline': 'T', 'matchbilltoreceipt': 'F', 'oldcommitmentfirm': 'F', 'quantity': '-10806', 'quantitybilled': '0', 'quantitypacked': '0', 'quantitypicked': '0', 'quantityrejected': '0', 'quantityshiprecv': '0', 'specialorder': 'F', 'subsidiary': '1', 'taxline': 'F', 'transaction': '18103127', 'transactiondiscount': 'F', 'uniquekey': '41877340', 'units': '1', 'updated_at': 1743465704.43747}, {'assemblycomponent': 'F', 'blandedcost': 'F', 'class': '12', 'cleared': 'F', 'commitinventory': '1', 'commitmentfirm': 'F', 'createdfrom': '18724944', 'donotdisplayline': 'F', 'dropship': 'F', 'entity': '7161', 'fulfillable': 'T', 'fxamountlinked': '0', 'hasfulfillableitems': 'F', 'id': '0', 'inventoryreportinglocation': '2', 'isbillable': 'F', 'isclosed': 'F', 'iscogs': 'F', 'isfullyshipped': 'F', 'isfxvariance': 'F', 'isinventoryaffecting': 'F', 'isrevrectransaction': 'F', 'item': '17397', 'itemtype': 'InvtPart', 'kitcomponent': 'F', 'landedcostperline': 'F', 'linelastmodifieddate': '7/10/2024', 'linesequencenumber': '0', 'location': '2', 'mainline': 'T', 'matchbilltoreceipt': 'F', 'oldcommitmentfirm': 'F', 'quantity': '-282', 'quantitybilled': '0', 'quantitypacked': '0', 'quantitypicked': '0', 'quantityrejected': '0', 'quantityshiprecv': '0', 'shipmethod': '13307', 'specialorder': 'F', 'subsidiary': '1', 'taxline': 'F', 'transaction': '18810903', 'transactiondiscount': 'F', 'uniquekey': '43502542', 'units': '1', 'updated_at': 1743465704.43747}, {'assemblycomponent': 'F', 'blandedcost': 'F', 'class': '12', 'cleared': 'F', 'commitinventory': '1', 'commitmentfirm': 'F', 'createdfrom': '484056', 'donotdisplayline': 'F', 'dropship': 'F', 'entity': '7161', 'fulfillable': 'T', 'fxamountlinked': '0', 'hasfulfillableitems': 'F', 'id': '0', 'inventoryreportinglocation': '2', 'isbillable': 'F', 'isclosed': 'F', 'iscogs': 'F', 'isfullyshipped': 'F', 'isfxvariance': 'F', 'isinventoryaffecting': 'F', 'isrevrectransaction': 'F', 'item': '17399', 'itemtype': 'InvtPart', 'kitcomponent': 'F', 'landedcostperline': 'F', 'linelastmodifieddate': '9/1/2020', 'linesequencenumber': '0', 'location': '2', 'mainline': 'T', 'matchbilltoreceipt': 'F', 'oldcommitmentfirm': 'F', 'quantity': '-156.75', 'quantitybilled': '0', 'quantitypacked': '0', 'quantitypicked': '0', 'quantityrejected': '0', 'quantityshiprecv': '0', 'shipmethod': '13307', 'specialorder': 'F', 'subsidiary': '1', 'taxline': 'F', 'transaction': '524122', 'transactiondiscount': 'F', 'uniquekey': '880884', 'units': '1', 'updated_at': 1743465704.43747}, {'assemblycomponent': 'F', 'blandedcost': 'F', 'class': '12', 'cleared': 'F', 'commitinventory': '1', 'commitmentfirm': 'F', 'createdfrom': '2218909', 'donotdisplayline': 'F', 'dropship': 'F', 'entity': '7161', 'fulfillable': 'T', 'fxamountlinked': '0', 'hasfulfillableitems': 'F', 'id': '0', 'inventoryreportinglocation': '2', 'isbillable': 'F', 'isclosed': 'F', 'iscogs': 'F', 'isfullyshipped': 'F', 'isfxvariance': 'F', 'isinventoryaffecting': 'F', 'isrevrectransaction': 'F', 'item': '17399', 'itemtype': 'InvtPart', 'kitcomponent': 'F', 'landedcostperline': 'F', 'linelastmodifieddate': '10/22/2020', 'linesequencenumber': '0', 'location': '2', 'mainline': 'T', 'matchbilltoreceipt': 'F', 'oldcommitmentfirm': 'F', 'quantity': '-510.25', 'quantitybilled': '0', 'quantitypacked': '0', 'quantitypicked': '0', 'quantityrejected': '0', 'quantityshiprecv': '0', 'shipmethod': '13307', 'specialorder': 'F', 'subsidiary': '1', 'taxline': 'F', 'transaction': '2352057', 'transactiondiscount': 'F', 'uniquekey': '3875357', 'units': '1', 'updated_at': 1743465704.43747}, {'assemblycomponent': 'F', 'blandedcost': 'F', 'class': '12', 'cleared': 'F', 'commitinventory': '1', 'commitmentfirm': 'F', 'createdfrom': '4388889', 'donotdisplayline': 'F', 'dropship': 'F', 'entity': '7161', 'fulfillable': 'T', 'fxamountlinked': '0', 'hasfulfillableitems': 'F', 'id': '0', 'inventoryreportinglocation': '2', 'isbillable': 'F', 'isclosed': 'F', 'iscogs': 'F', 'isfullyshipped': 'F', 'isfxvariance': 'F', 'isinventoryaffecting': 'F', 'isrevrectransaction': 'F', 'item': '17399', 'itemtype': 'InvtPart', 'kitcomponent': 'F', 'landedcostperline': 'F', 'linelastmodifieddate': '2/19/2021', 'linesequencenumber': '0', 'location': '2', 'mainline': 'T', 'matchbilltoreceipt': 'F', 'oldcommitmentfirm': 'F', 'quantity': '-500', 'quantitybilled': '0', 'quantitypacked': '0', 'quantitypicked': '0', 'quantityrejected': '0', 'quantityshiprecv': '0', 'shipmethod': '13307', 'specialorder': 'F', 'subsidiary': '1', 'taxline': 'F', 'transaction': '4503687', 'transactiondiscount': 'F', 'uniquekey': '7985260', 'units': '1', 'updated_at': 1743465704.43747}, {'assemblycomponent': 'F', 'blandedcost': 'F', 'cleared': 'F', 'closedate': '4/8/2021', 'commitinventory': '1', 'commitmentfirm': 'F', 'createdfrom': '5074897', 'donotdisplayline': 'F', 'dropship': 'F', 'fulfillable': 'T', 'fxamountlinked': '0', 'hasfulfillableitems': 'F', 'id': '0', 'inventoryreportinglocation': '32', 'isbillable': 'F', 'isclosed': 'F', 'iscogs': 'F', 'isfullyshipped': 'F', 'isfxvariance': 'F', 'isinventoryaffecting': 'F', 'isrevrectransaction': 'F', 'item': '17399', 'itemtype': 'InvtPart', 'kitcomponent': 'F', 'landedcostperline': 'F', 'linelastmodifieddate': '4/8/2021', 'linesequencenumber': '0', 'location': '32', 'mainline': 'T', 'matchbilltoreceipt': 'F', 'oldcommitmentfirm': 'F', 'quantity': '-2002', 'quantitybilled': '0', 'quantitypacked': '0', 'quantitypicked': '0', 'quantityrejected': '0', 'quantityshiprecv': '0', 'specialorder': 'F', 'subsidiary': '1', 'taxline': 'F', 'transaction': '5074898', 'transactiondiscount': 'F', 'uniquekey': '8990619', 'units': '1', 'updated_at': 1743465704.43747}, {'assemblycomponent': 'F', 'blandedcost': 'F', 'cleared': 'F', 'closedate': '4/22/2021', 'commitinventory': '1', 'commitmentfirm': 'F', 'createdfrom': '5096040', 'donotdisplayline': 'F', 'dropship': 'F', 'fulfillable': 'T', 'fxamountlinked': '0', 'hasfulfillableitems': 'F', 'id': '0', 'inventoryreportinglocation': '32', 'isbillable': 'F', 'isclosed': 'F', 'iscogs': 'F', 'isfullyshipped': 'F', 'isfxvariance': 'F', 'isinventoryaffecting': 'F', 'isrevrectransaction': 'F', 'item': '17399', 'itemtype': 'InvtPart', 'kitcomponent': 'F', 'landedcostperline': 'F', 'linelastmodifieddate': '4/22/2021', 'linesequencenumber': '0', 'location': '32', 'mainline': 'T', 'matchbilltoreceipt': 'F', 'oldcommitmentfirm': 'F', 'quantity': '-3158', 'quantitybilled': '0', 'quantitypacked': '0', 'quantitypicked': '0', 'quantityrejected': '0', 'quantityshiprecv': '0', 'specialorder': 'F', 'subsidiary': '1', 'taxline': 'F', 'transaction': '5096041', 'transactiondiscount': 'F', 'uniquekey': '9045330', 'units': '1', 'updated_at': 1743465704.43747}, {'assemblycomponent': 'F', 'blandedcost': 'F', 'class': '12', 'cleared': 'F', 'commitinventory': '1', 'commitmentfirm': 'F', 'createdfrom': '5188446', 'donotdisplayline': 'F', 'dropship': 'F', 'entity': '7161', 'fulfillable': 'T', 'fxamountlinked': '0', 'hasfulfillableitems': 'F', 'id': '0', 'inventoryreportinglocation': '2', 'isbillable': 'F', 'isclosed': 'F', 'iscogs': 'F', 'isfullyshipped': 'F', 'isfxvariance': 'F', 'isinventoryaffecting': 'F', 'isrevrectransaction': 'F', 'item': '17399', 'itemtype': 'InvtPart', 'kitcomponent': 'F', 'landedcostperline': 'F', 'linelastmodifieddate': '4/15/2021', 'linesequencenumber': '0', 'location': '2', 'mainline': 'T', 'matchbilltoreceipt': 'F', 'oldcommitmentfirm': 'F', 'quantity': '-509.5', 'quantitybilled': '0', 'quantitypacked': '0', 'quantitypicked': '0', 'quantityrejected': '0', 'quantityshiprecv': '0', 'shipmethod': '13307', 'specialorder': 'F', 'subsidiary': '1', 'taxline': 'F', 'transaction': '5453269', 'transactiondiscount': 'F', 'uniquekey': '9774381', 'units': '1', 'updated_at': 1743465704.43747}, {'assemblycomponent': 'F', 'blandedcost': 'F', 'cleared': 'F', 'closedate': '5/3/2021', 'commitinventory': '1', 'commitmentfirm': 'F', 'createdfrom': '5483834', 'donotdisplayline': 'F', 'dropship': 'F', 'fulfillable': 'T', 'fxamountlinked': '0', 'hasfulfillableitems': 'F', 'id': '0', 'inventoryreportinglocation': '2', 'isbillable': 'F', 'isclosed': 'F', 'iscogs': 'F', 'isfullyshipped': 'F', 'isfxvariance': 'F', 'isinventoryaffecting': 'F', 'isrevrectransaction': 'F', 'item': '17399', 'itemtype': 'InvtPart', 'kitcomponent': 'F', 'landedcostperline': 'F', 'linelastmodifieddate': '5/3/2021', 'linesequencenumber': '0', 'location': '2', 'mainline': 'T', 'matchbilltoreceipt': 'F', 'oldcommitmentfirm': 'F', 'quantity': '-116.75', 'quantitybilled': '0', 'quantitypacked': '0', 'quantitypicked': '0', 'quantityrejected': '0', 'quantityshiprecv': '0', 'shipmethod': '68', 'specialorder': 'F', 'subsidiary': '1', 'taxline': 'F', 'transaction': '5506929', 'transactiondiscount': 'F', 'uniquekey': '9880833', 'units': '1', 'updated_at': 1743465704.43747}, {'assemblycomponent': 'F', 'blandedcost': 'F', 'cleared': 'F', 'closedate': '4/29/2021', 'commitinventory': '1', 'commitmentfirm': 'F', 'createdfrom': '5711802', 'donotdisplayline': 'F', 'dropship': 'F', 'fulfillable': 'T', 'fxamountlinked': '0', 'hasfulfillableitems': 'F', 'id': '0', 'inventoryreportinglocation': '34', 'isbillable': 'F', 'isclosed': 'F', 'iscogs': 'F', 'isfullyshipped': 'F', 'isfxvariance': 'F', 'isinventoryaffecting': 'F', 'isrevrectransaction': 'F', 'item': '17399', 'itemtype': 'InvtPart', 'kitcomponent': 'F', 'landedcostperline': 'F', 'linelastmodifieddate': '4/29/2021', 'linesequencenumber': '0', 'location': '34', 'mainline': 'T', 'matchbilltoreceipt': 'F', 'oldcommitmentfirm': 'F', 'quantity': '-3158', 'quantitybilled': '0', 'quantitypacked': '0', 'quantitypicked': '0', 'quantityrejected': '0', 'quantityshiprecv': '0', 'specialorder': 'F', 'subsidiary': '1', 'taxline': 'F', 'transaction': '5760558', 'transactiondiscount': 'F', 'uniquekey': '10337397', 'units': '1', 'updated_at': 1743465704.43747}, {'assemblycomponent': 'F', 'blandedcost': 'F', 'class': '37', 'cleared': 'F', 'closedate': '5/19/2021', 'commitinventory': '1', 'commitmentfirm': 'F', 'createdfrom': '5710326', 'donotdisplayline': 'F', 'dropship': 'F', 'fulfillable': 'T', 'fxamountlinked': '0', 'hasfulfillableitems': 'F', 'id': '0', 'inventoryreportinglocation': '6', 'isbillable': 'F', 'isclosed': 'F', 'iscogs': 'F', 'isfullyshipped': 'F', 'isfxvariance': 'F', 'isinventoryaffecting': 'F', 'isrevrectransaction': 'F', 'item': '17399', 'itemtype': 'InvtPart', 'kitcomponent': 'F', 'landedcostperline': 'F', 'linelastmodifieddate': '5/19/2021', 'linesequencenumber': '0', 'location': '6', 'mainline': 'T', 'matchbilltoreceipt': 'F', 'oldcommitmentfirm': 'F', 'quantity': '-2541', 'quantitybilled': '0', 'quantitypacked': '0', 'quantitypicked': '0', 'quantityrejected': '0', 'quantityshiprecv': '0', 'specialorder': 'F', 'subsidiary': '1', 'taxline': 'F', 'transaction': '5962087', 'transactiondiscount': 'F', 'uniquekey': '10773465', 'units': '1', 'updated_at': 1743465704.43747}, {'assemblycomponent': 'F', 'blandedcost': 'F', 'class': '12', 'cleared': 'F', 'commitinventory': '1', 'commitmentfirm': 'F', 'createdfrom': '5289661', 'donotdisplayline': 'F', 'dropship': 'F', 'entity': '7161', 'fulfillable': 'T', 'fxamountlinked': '0', 'hasfulfillableitems': 'F', 'id': '0', 'inventoryreportinglocation': '2', 'isbillable': 'F', 'isclosed': 'F', 'iscogs': 'F', 'isfullyshipped': 'F', 'isfxvariance': 'F', 'isinventoryaffecting': 'F', 'isrevrectransaction': 'F', 'item': '17399', 'itemtype': 'InvtPart', 'kitcomponent': 'F', 'landedcostperline': 'F', 'linelastmodifieddate': '6/4/2021', 'linesequencenumber': '0', 'location': '2', 'mainline': 'T', 'matchbilltoreceipt': 'F', 'oldcommitmentfirm': 'F', 'quantity': '-517.75', 'quantitybilled': '0', 'quantitypacked': '0', 'quantitypicked': '0', 'quantityrejected': '0', 'quantityshiprecv': '0', 'shipmethod': '13307', 'specialorder': 'F', 'subsidiary': '1', 'taxline': 'F', 'transaction': '6325102', 'transactiondiscount': 'F', 'uniquekey': '11627289', 'units': '1', 'updated_at': 1743465704.43747}, {'assemblycomponent': 'F', 'blandedcost': 'F', 'class': '37', 'cleared': 'F', 'closedate': '8/27/2021', 'commitinventory': '1', 'commitmentfirm': 'F', 'createdfrom': '7260876', 'donotdisplayline': 'F', 'dropship': 'F', 'fulfillable': 'T', 'fxamountlinked': '0', 'hasfulfillableitems': 'F', 'id': '0', 'inventoryreportinglocation': '6', 'isbillable': 'F', 'isclosed': 'F', 'iscogs': 'F', 'isfullyshipped': 'F', 'isfxvariance': 'F', 'isinventoryaffecting': 'F', 'isrevrectransaction': 'F', 'item': '17399', 'itemtype': 'InvtPart', 'kitcomponent': 'F', 'landedcostperline': 'F', 'linelastmodifieddate': '8/27/2021', 'linesequencenumber': '0', 'location': '6', 'mainline': 'T', 'matchbilltoreceipt': 'F', 'oldcommitmentfirm': 'F', 'quantity': '-617', 'quantitybilled': '0', 'quantitypacked': '0', 'quantitypicked': '0', 'quantityrejected': '0', 'quantityshiprecv': '0', 'shipmethod': '13319', 'specialorder': 'F', 'subsidiary': '1', 'taxline': 'F', 'transaction': '7298503', 'transactiondiscount': 'F', 'uniquekey': '13599894', 'units': '1', 'updated_at': 1743465704.43747}, {'assemblycomponent': 'F', 'blandedcost': 'F', 'cleared': 'F', 'closedate': '11/4/2021', 'commitinventory': '1', 'commitmentfirm': 'F', 'createdfrom': '8133892', 'donotdisplayline': 'F', 'dropship': 'F', 'fulfillable': 'T', 'fxamountlinked': '0', 'hasfulfillableitems': 'F', 'id': '0', 'inventoryreportinglocation': '32', 'isbillable': 'F', 'isclosed': 'F', 'iscogs': 'F', 'isfullyshipped': 'F', 'isfxvariance': 'F', 'isinventoryaffecting': 'F', 'isrevrectransaction': 'F', 'item': '17399', 'itemtype': 'InvtPart', 'kitcomponent': 'F', 'landedcostperline': 'F', 'linelastmodifieddate': '11/4/2021', 'linesequencenumber': '0', 'location': '32', 'mainline': 'T', 'matchbilltoreceipt': 'F', 'oldcommitmentfirm': 'F', 'quantity': '-3069.75', 'quantitybilled': '0', 'quantitypacked': '0', 'quantitypicked': '0', 'quantityrejected': '0', 'quantityshiprecv': '0', 'specialorder': 'F', 'subsidiary': '1', 'taxline': 'F', 'transaction': '8133893', 'transactiondiscount': 'F', 'uniquekey': '15159414', 'units': '1', 'updated_at': 1743465704.43747}, {'assemblycomponent': 'F', 'blandedcost': 'F', 'cleared': 'F', 'closedate': '4/4/2022', 'commitinventory': '1', 'commitmentfirm': 'F', 'createdfrom': '9871198', 'donotdisplayline': 'F', 'dropship': 'F', 'fulfillable': 'T', 'fxamountlinked': '0', 'hasfulfillableitems': 'F', 'id': '0', 'inventoryreportinglocation': '32', 'isbillable': 'F', 'isclosed': 'F', 'iscogs': 'F', 'isfullyshipped': 'F', 'isfxvariance': 'F', 'isinventoryaffecting': 'F', 'isrevrectransaction': 'F', 'item': '17399', 'itemtype': 'InvtPart', 'kitcomponent': 'F', 'landedcostperline': 'F', 'linelastmodifieddate': '4/4/2022', 'linesequencenumber': '0', 'location': '32', 'mainline': 'T', 'matchbilltoreceipt': 'F', 'oldcommitmentfirm': 'F', 'quantity': '-2546.25', 'quantitybilled': '0', 'quantitypacked': '0', 'quantitypicked': '0', 'quantityrejected': '0', 'quantityshiprecv': '0', 'specialorder': 'F', 'subsidiary': '1', 'taxline': 'F', 'transaction': '9871199', 'transactiondiscount': 'F', 'uniquekey': '18866505', 'units': '1', 'updated_at': 1743465704.43747}, {'assemblycomponent': 'F', 'blandedcost': 'F', 'cleared': 'F', 'closedate': '5/9/2022', 'commitinventory': '1', 'commitmentfirm': 'F', 'createdfrom': '9966976', 'donotdisplayline': 'F', 'dropship': 'F', 'fulfillable': 'T', 'fxamountlinked': '0', 'hasfulfillableitems': 'F', 'id': '0', 'inventoryreportinglocation': '32', 'isbillable': 'F', 'isclosed': 'F', 'iscogs': 'F', 'isfullyshipped': 'F', 'isfxvariance': 'F', 'isinventoryaffecting': 'F', 'isrevrectransaction': 'F', 'item': '17399', 'itemtype': 'InvtPart', 'kitcomponent': 'F', 'landedcostperline': 'F', 'linelastmodifieddate': '5/9/2022', 'linesequencenumber': '0', 'location': '32', 'mainline': 'T', 'matchbilltoreceipt': 'F', 'oldcommitmentfirm': 'F', 'quantity': '-1008.75', 'quantitybilled': '0', 'quantitypacked': '0', 'quantitypicked': '0', 'quantityrejected': '0', 'quantityshiprecv': '0', 'specialorder': 'F', 'subsidiary': '1', 'taxline': 'F', 'transaction': '9966977', 'transactiondiscount': 'F', 'uniquekey': '19056755', 'units': '1', 'updated_at': 1743465704.43747}, {'assemblycomponent': 'F', 'blandedcost': 'F', 'cleared': 'F', 'closedate': '4/27/2022', 'commitinventory': '1', 'commitmentfirm': 'F', 'createdfrom': '10129067', 'donotdisplayline': 'F', 'dropship': 'F', 'fulfillable': 'T', 'fxamountlinked': '0', 'hasfulfillableitems': 'F', 'id': '0', 'inventoryreportinglocation': '6', 'isbillable': 'F', 'isclosed': 'F', 'iscogs': 'F', 'isfullyshipped': 'F', 'isfxvariance': 'F', 'isinventoryaffecting': 'F', 'isrevrectransaction': 'F', 'item': '17399', 'itemtype': 'InvtPart', 'kitcomponent': 'F', 'landedcostperline': 'F', 'linelastmodifieddate': '4/27/2022', 'linesequencenumber': '0', 'location': '6', 'mainline': 'T', 'matchbilltoreceipt': 'F', 'oldcommitmentfirm': 'F', 'quantity': '-2604', 'quantitybilled': '0', 'quantitypacked': '0', 'quantitypicked': '0', 'quantityrejected': '0', 'quantityshiprecv': '0', 'shipmethod': '13338', 'specialorder': 'F', 'subsidiary': '1', 'taxline': 'F', 'transaction': '10230508', 'transactiondiscount': 'F', 'uniquekey': '19669848', 'units': '1', 'updated_at': 1743465704.43747}, {'assemblycomponent': 'F', 'blandedcost': 'F', 'cleared': 'F', 'closedate': '5/11/2022', 'commitinventory': '1', 'commitmentfirm': 'F', 'createdfrom': '10413620', 'donotdisplayline': 'F', 'dropship': 'F', 'fulfillable': 'T', 'fxamountlinked': '0', 'hasfulfillableitems': 'F', 'id': '0', 'inventoryreportinglocation': '34', 'isbillable': 'F', 'isclosed': 'F', 'iscogs': 'F', 'isfullyshipped': 'F', 'isfxvariance': 'F', 'isinventoryaffecting': 'F', 'isrevrectransaction': 'F', 'item': '17399', 'itemtype': 'InvtPart', 'kitcomponent': 'F', 'landedcostperline': 'F', 'linelastmodifieddate': '5/11/2022', 'linesequencenumber': '0', 'location': '34', 'mainline': 'T', 'matchbilltoreceipt': 'F', 'oldcommitmentfirm': 'F', 'quantity': '-1008.75', 'quantitybilled': '0', 'quantitypacked': '0', 'quantitypicked': '0', 'quantityrejected': '0', 'quantityshiprecv': '0', 'specialorder': 'F', 'subsidiary': '1', 'taxline': 'F', 'transaction': '10417343', 'transactiondiscount': 'F', 'uniquekey': '20244940', 'units': '1', 'updated_at': 1743465704.43747}, {'assemblycomponent': 'F', 'blandedcost': 'F', 'cleared': 'F', 'closedate': '5/31/2022', 'commitinventory': '1', 'commitmentfirm': 'F', 'createdfrom': '10443175', 'donotdisplayline': 'F', 'dropship': 'F', 'fulfillable': 'T', 'fxamountlinked': '0', 'hasfulfillableitems': 'F', 'id': '0', 'inventoryreportinglocation': '6', 'isbillable': 'F', 'isclosed': 'F', 'iscogs': 'F', 'isfullyshipped': 'F', 'isfxvariance': 'F', 'isinventoryaffecting': 'F', 'isrevrectransaction': 'F', 'item': '17399', 'itemtype': 'InvtPart', 'kitcomponent': 'F', 'landedcostperline': 'F', 'linelastmodifieddate': '5/31/2022', 'linesequencenumber': '0', 'location': '6', 'mainline': 'T', 'matchbilltoreceipt': 'F', 'oldcommitmentfirm': 'F', 'quantity': '-1008.75', 'quantitybilled': '0', 'quantitypacked': '0', 'quantitypicked': '0', 'quantityrejected': '0', 'quantityshiprecv': '0', 'shipmethod': '13695', 'specialorder': 'F', 'subsidiary': '1', 'taxline': 'F', 'transaction': '10593606', 'transactiondiscount': 'F', 'uniquekey': '20732831', 'units': '1', 'updated_at': 1743465704.43747}, {'assemblycomponent': 'F', 'blandedcost': 'F', 'cleared': 'F', 'closedate': '7/29/2022', 'commitinventory': '1', 'commitmentfirm': 'F', 'createdfrom': '11168141', 'donotdisplayline': 'F', 'dropship': 'F', 'fulfillable': 'T', 'fxamountlinked': '0', 'hasfulfillableitems': 'F', 'id': '0', 'inventoryreportinglocation': '32', 'isbillable': 'F', 'isclosed': 'F', 'iscogs': 'F', 'isfullyshipped': 'F', 'isfxvariance': 'F', 'isinventoryaffecting': 'F', 'isrevrectransaction': 'F', 'item': '17399', 'itemtype': 'InvtPart', 'kitcomponent': 'F', 'landedcostperline': 'F', 'linelastmodifieddate': '7/29/2022', 'linesequencenumber': '0', 'location': '32', 'mainline': 'T', 'matchbilltoreceipt': 'F', 'oldcommitmentfirm': 'F', 'quantity': '-3503', 'quantitybilled': '0', 'quantitypacked': '0', 'quantitypicked': '0', 'quantityrejected': '0', 'quantityshiprecv': '0', 'specialorder': 'F', 'subsidiary': '1', 'taxline': 'F', 'transaction': '11168142', 'transactiondiscount': 'F', 'uniquekey': '22193831', 'units': '1', 'updated_at': 1743465704.43747}, {'assemblycomponent': 'F', 'blandedcost': 'F', 'cleared': 'F', 'closedate': '9/14/2022', 'commitinventory': '1', 'commitmentfirm': 'F', 'createdfrom': '11704316', 'donotdisplayline': 'F', 'dropship': 'F', 'fulfillable': 'T', 'fxamountlinked': '0', 'hasfulfillableitems': 'F', 'id': '0', 'inventoryreportinglocation': '32', 'isbillable': 'F', 'isclosed': 'F', 'iscogs': 'F', 'isfullyshipped': 'F', 'isfxvariance': 'F', 'isinventoryaffecting': 'F', 'isrevrectransaction': 'F', 'item': '17399', 'itemtype': 'InvtPart', 'kitcomponent': 'F', 'landedcostperline': 'F', 'linelastmodifieddate': '9/14/2022', 'linesequencenumber': '0', 'location': '32', 'mainline': 'T', 'matchbilltoreceipt': 'F', 'oldcommitmentfirm': 'F', 'quantity': '-3951.5', 'quantitybilled': '0', 'quantitypacked': '0', 'quantitypicked': '0', 'quantityrejected': '0', 'quantityshiprecv': '0', 'specialorder': 'F', 'subsidiary': '1', 'taxline': 'F', 'transaction': '11704317', 'transactiondiscount': 'F', 'uniquekey': '23639756', 'units': '1', 'updated_at': 1743465704.43747}, {'assemblycomponent': 'F', 'blandedcost': 'F', 'class': '12', 'cleared': 'F', 'commitinventory': '1', 'commitmentfirm': 'F', 'createdfrom': '6259010', 'donotdisplayline': 'F', 'dropship': 'F', 'entity': '7161', 'fulfillable': 'T', 'fxamountlinked': '0', 'hasfulfillableitems': 'F', 'id': '0', 'inventoryreportinglocation': '2', 'isbillable': 'F', 'isclosed': 'F', 'iscogs': 'F', 'isfullyshipped': 'F', 'isfxvariance': 'F', 'isinventoryaffecting': 'F', 'isrevrectransaction': 'F', 'item': '17399', 'itemtype': 'InvtPart', 'kitcomponent': 'F', 'landedcostperline': 'F', 'linelastmodifieddate': '10/26/2022', 'linesequencenumber': '0', 'location': '2', 'mainline': 'T', 'matchbilltoreceipt': 'F', 'oldcommitmentfirm': 'F', 'quantity': '-519.5', 'quantitybilled': '0', 'quantitypacked': '0', 'quantitypicked': '0', 'quantityrejected': '0', 'quantityshiprecv': '0', 'shipmethod': '13307', 'specialorder': 'F', 'subsidiary': '1', 'taxline': 'F', 'transaction': '12268040', 'transactiondiscount': 'F', 'uniquekey': '24705116', 'units': '1', 'updated_at': 1743465704.43747}, {'assemblycomponent': 'F', 'blandedcost': 'F', 'cleared': 'F', 'closedate': '12/6/2022', 'commitinventory': '1', 'commitmentfirm': 'F', 'createdfrom': '12320778', 'donotdisplayline': 'F', 'dropship': 'F', 'fulfillable': 'T', 'fxamountlinked': '0', 'hasfulfillableitems': 'F', 'id': '0', 'inventoryreportinglocation': '32', 'isbillable': 'F', 'isclosed': 'F', 'iscogs': 'F', 'isfullyshipped': 'F', 'isfxvariance': 'F', 'isinventoryaffecting': 'F', 'isrevrectransaction': 'F', 'item': '17399', 'itemtype': 'InvtPart', 'kitcomponent': 'F', 'landedcostperline': 'F', 'linelastmodifieddate': '12/6/2022', 'linesequencenumber': '0', 'location': '32', 'mainline': 'T', 'matchbilltoreceipt': 'F', 'oldcommitmentfirm': 'F', 'quantity': '-3479', 'quantitybilled': '0', 'quantitypacked': '0', 'quantitypicked': '0', 'quantityrejected': '0', 'quantityshiprecv': '0', 'specialorder': 'F', 'subsidiary': '1', 'taxline': 'F', 'transaction': '12320779', 'transactiondiscount': 'F', 'uniquekey': '24802339', 'units': '1', 'updated_at': 1743465704.43747}, {'assemblycomponent': 'F', 'blandedcost': 'F', 'cleared': 'F', 'closedate': '12/7/2022', 'commitinventory': '1', 'commitmentfirm': 'F', 'createdfrom': '12323607', 'donotdisplayline': 'F', 'dropship': 'F', 'fulfillable': 'T', 'fxamountlinked': '0', 'hasfulfillableitems': 'F', 'id': '0', 'inventoryreportinglocation': '32', 'isbillable': 'F', 'isclosed': 'F', 'iscogs': 'F', 'isfullyshipped': 'F', 'isfxvariance': 'F', 'isinventoryaffecting': 'F', 'isrevrectransaction': 'F', 'item': '17399', 'itemtype': 'InvtPart', 'kitcomponent': 'F', 'landedcostperline': 'F', 'linelastmodifieddate': '12/7/2022', 'linesequencenumber': '0', 'location': '32', 'mainline': 'T', 'matchbilltoreceipt': 'F', 'oldcommitmentfirm': 'F', 'quantity': '-2003.5', 'quantitybilled': '0', 'quantitypacked': '0', 'quantitypicked': '0', 'quantityrejected': '0', 'quantityshiprecv': '0', 'specialorder': 'F', 'subsidiary': '1', 'taxline': 'F', 'transaction': '12323608', 'transactiondiscount': 'F', 'uniquekey': '24809963', 'units': '1', 'updated_at': 1743465704.43747}, {'assemblycomponent': 'F', 'blandedcost': 'F', 'cleared': 'F', 'closedate': '11/4/2022', 'commitinventory': '1', 'commitmentfirm': 'F', 'createdfrom': '12250714', 'donotdisplayline': 'F', 'dropship': 'F', 'fulfillable': 'T', 'fxamountlinked': '0', 'hasfulfillableitems': 'F', 'id': '0', 'inventoryreportinglocation': '6', 'isbillable': 'F', 'isclosed': 'F', 'iscogs': 'F', 'isfullyshipped': 'F', 'isfxvariance': 'F', 'isinventoryaffecting': 'F', 'isrevrectransaction': 'F', 'item': '17399', 'itemtype': 'InvtPart', 'kitcomponent': 'F', 'landedcostperline': 'F', 'linelastmodifieddate': '11/4/2022', 'linesequencenumber': '0', 'location': '6', 'mainline': 'T', 'matchbilltoreceipt': 'F', 'oldcommitmentfirm': 'F', 'quantity': '-985.5', 'quantitybilled': '0', 'quantitypacked': '0', 'quantitypicked': '0', 'quantityrejected': '0', 'quantityshiprecv': '0', 'shipmethod': '13352', 'specialorder': 'F', 'subsidiary': '1', 'taxline': 'F', 'transaction': '12315460', 'transactiondiscount': 'F', 'uniquekey': '24791325', 'units': '1', 'updated_at': 1743465704.43747}, {'assemblycomponent': 'F', 'blandedcost': 'F', 'cleared': 'F', 'closedate': '2/17/2023', 'commitinventory': '1', 'commitmentfirm': 'F', 'createdfrom': '13514248', 'donotdisplayline': 'F', 'dropship': 'F', 'fulfillable': 'T', 'fxamountlinked': '0', 'hasfulfillableitems': 'F', 'id': '0', 'inventoryreportinglocation': '34', 'isbillable': 'F', 'isclosed': 'F', 'iscogs': 'F', 'isfullyshipped': 'F', 'isfxvariance': 'F', 'isinventoryaffecting': 'F', 'isrevrectransaction': 'F', 'item': '17399', 'itemtype': 'InvtPart', 'kitcomponent': 'F', 'landedcostperline': 'F', 'linelastmodifieddate': '2/17/2023', 'linesequencenumber': '0', 'location': '34', 'mainline': 'T', 'matchbilltoreceipt': 'F', 'oldcommitmentfirm': 'F', 'quantity': '-56.75', 'quantitybilled': '0', 'quantitypacked': '0', 'quantitypicked': '0', 'quantityrejected': '0', 'quantityshiprecv': '0', 'shipmethod': '13320', 'specialorder': 'F', 'subsidiary': '1', 'taxline': 'F', 'transaction': '13517238', 'transactiondiscount': 'F', 'uniquekey': '27479892', 'units': '1', 'updated_at': 1743465704.43747}, {'assemblycomponent': 'F', 'blandedcost': 'F', 'class': '12', 'cleared': 'F', 'commitinventory': '1', 'commitmentfirm': 'F', 'createdfrom': '12545086', 'donotdisplayline': 'F', 'dropship': 'F', 'entity': '7161', 'fulfillable': 'T', 'fxamountlinked': '0', 'hasfulfillableitems': 'F', 'id': '0', 'inventoryreportinglocation': '2', 'isbillable': 'F', 'isclosed': 'F', 'iscogs': 'F', 'isfullyshipped': 'F', 'isfxvariance': 'F', 'isinventoryaffecting': 'F', 'isrevrectransaction': 'F', 'item': '17399', 'itemtype': 'InvtPart', 'kitcomponent': 'F', 'landedcostperline': 'F', 'linelastmodifieddate': '3/1/2023', 'linesequencenumber': '0', 'location': '2', 'mainline': 'T', 'matchbilltoreceipt': 'F', 'oldcommitmentfirm': 'F', 'quantity': '-504', 'quantitybilled': '0', 'quantitypacked': '0', 'quantitypicked': '0', 'quantityrejected': '0', 'quantityshiprecv': '0', 'shipmethod': '13307', 'specialorder': 'F', 'subsidiary': '1', 'taxline': 'F', 'transaction': '13609271', 'transactiondiscount': 'F', 'uniquekey': '27665126', 'units': '1', 'updated_at': 1743465704.43747}, {'assemblycomponent': 'F', 'blandedcost': 'F', 'class': '12', 'cleared': 'F', 'commitinventory': '1', 'commitmentfirm': 'F', 'createdfrom': '15903666', 'donotdisplayline': 'F', 'dropship': 'F', 'entity': '6824', 'fulfillable': 'T', 'fxamountlinked': '0', 'hasfulfillableitems': 'F', 'id': '0', 'inventoryreportinglocation': '2', 'isbillable': 'F', 'isclosed': 'F', 'iscogs': 'F', 'isfullyshipped': 'F', 'isfxvariance': 'F', 'isinventoryaffecting': 'F', 'isrevrectransaction': 'F', 'item': '17399', 'itemtype': 'InvtPart', 'kitcomponent': 'F', 'landedcostperline': 'F', 'linelastmodifieddate': '11/7/2023', 'linesequencenumber': '0', 'location': '2', 'mainline': 'T', 'matchbilltoreceipt': 'F', 'oldcommitmentfirm': 'F', 'quantity': '-97.25', 'quantitybilled': '0', 'quantitypacked': '0', 'quantitypicked': '0', 'quantityrejected': '0', 'quantityshiprecv': '0', 'shipmethod': '43', 'specialorder': 'F', 'subsidiary': '1', 'taxline': 'F', 'transaction': '15974128', 'transactiondiscount': 'F', 'uniquekey': '33203592', 'units': '1', 'updated_at': 1743465704.43747}, {'assemblycomponent': 'F', 'blandedcost': 'F', 'class': '12', 'cleared': 'F', 'closedate': '12/5/2023', 'commitinventory': '1', 'commitmentfirm': 'F', 'createdfrom': '16332863', 'donotdisplayline': 'F', 'dropship': 'F', 'fulfillable': 'T', 'fxamountlinked': '0', 'hasfulfillableitems': 'F', 'id': '0', 'inventoryreportinglocation': '34', 'isbillable': 'F', 'isclosed': 'F', 'iscogs': 'F', 'isfullyshipped': 'F', 'isfxvariance': 'F', 'isinventoryaffecting': 'F', 'isrevrectransaction': 'F', 'item': '17399', 'itemtype': 'InvtPart', 'kitcomponent': 'F', 'landedcostperline': 'F', 'linelastmodifieddate': '12/5/2023', 'linesequencenumber': '0', 'location': '34', 'mainline': 'T', 'matchbilltoreceipt': 'F', 'oldcommitmentfirm': 'F', 'quantity': '-176', 'quantitybilled': '0', 'quantitypacked': '0', 'quantitypicked': '0', 'quantityrejected': '0', 'quantityshiprecv': '0', 'specialorder': 'F', 'subsidiary': '1', 'taxline': 'F', 'transaction': '16337973', 'transactiondiscount': 'F', 'uniquekey': '33887635', 'units': '1', 'updated_at': 1743465704.43747}, {'assemblycomponent': 'F', 'blandedcost': 'F', 'class': '12', 'cleared': 'F', 'commitinventory': '1', 'commitmentfirm': 'F', 'createdfrom': '16196535', 'donotdisplayline': 'F', 'dropship': 'F', 'entity': '6824', 'fulfillable': 'T', 'fxamountlinked': '0', 'hasfulfillableitems': 'F', 'id': '0', 'inventoryreportinglocation': '2', 'isbillable': 'F', 'isclosed': 'F', 'iscogs': 'F', 'isfullyshipped': 'F', 'isfxvariance': 'F', 'isinventoryaffecting': 'F', 'isrevrectransaction': 'F', 'item': '17399', 'itemtype': 'InvtPart', 'kitcomponent': 'F', 'landedcostperline': 'F', 'linelastmodifieddate': '12/11/2023', 'linesequencenumber': '0', 'location': '2', 'mainline': 'T', 'matchbilltoreceipt': 'F', 'oldcommitmentfirm': 'F', 'quantity': '-176', 'quantitybilled': '0', 'quantitypacked': '0', 'quantitypicked': '0', 'quantityrejected': '0', 'quantityshiprecv': '0', 'shipmethod': '43', 'specialorder': 'F', 'subsidiary': '1', 'taxline': 'F', 'transaction': '16441985', 'transactiondiscount': 'F', 'uniquekey': '34080130', 'units': '1', 'updated_at': 1743465704.43747}, {'assemblycomponent': 'F', 'blandedcost': 'F', 'class': '12', 'cleared': 'F', 'commitinventory': '1', 'commitmentfirm': 'F', 'createdfrom': '16694110', 'custcol_red_dot': '1/12/2024', 'donotdisplayline': 'F', 'dropship': 'F', 'entity': '6824', 'fulfillable': 'T', 'fxamountlinked': '0', 'hasfulfillableitems': 'F', 'id': '0', 'inventoryreportinglocation': '2', 'isbillable': 'F', 'isclosed': 'F', 'iscogs': 'F', 'isfullyshipped': 'F', 'isfxvariance': 'F', 'isinventoryaffecting': 'F', 'isrevrectransaction': 'F', 'item': '17399', 'itemtype': 'InvtPart', 'kitcomponent': 'F', 'landedcostperline': 'F', 'linelastmodifieddate': '1/12/2024', 'linesequencenumber': '0', 'location': '2', 'mainline': 'T', 'matchbilltoreceipt': 'F', 'oldcommitmentfirm': 'F', 'quantity': '-51', 'quantitybilled': '0', 'quantitypacked': '0', 'quantitypicked': '0', 'quantityrejected': '0', 'quantityshiprecv': '0', 'shipmethod': '4', 'specialorder': 'F', 'subsidiary': '1', 'taxline': 'F', 'transaction': '16808425', 'transactiondiscount': 'F', 'uniquekey': '34874027', 'units': '1', 'updated_at': 1743465704.43747}, {'assemblycomponent': 'F', 'blandedcost': 'F', 'class': '12', 'cleared': 'F', 'commitinventory': '1', 'commitmentfirm': 'F', 'createdfrom': '17101433', 'donotdisplayline': 'F', 'dropship': 'F', 'entity': '6824', 'fulfillable': 'T', 'fxamountlinked': '0', 'hasfulfillableitems': 'F', 'id': '0', 'inventoryreportinglocation': '2', 'isbillable': 'F', 'isclosed': 'F', 'iscogs': 'F', 'isfullyshipped': 'F', 'isfxvariance': 'F', 'isinventoryaffecting': 'F', 'isrevrectransaction': 'F', 'item': '17399', 'itemtype': 'InvtPart', 'kitcomponent': 'F', 'landedcostperline': 'F', 'linelastmodifieddate': '2/27/2024', 'linesequencenumber': '0', 'location': '2', 'mainline': 'T', 'matchbilltoreceipt': 'F', 'oldcommitmentfirm': 'F', 'quantity': '-110.25', 'quantitybilled': '0', 'quantitypacked': '0', 'quantitypicked': '0', 'quantityrejected': '0', 'quantityshiprecv': '0', 'shipmethod': '4', 'specialorder': 'F', 'subsidiary': '1', 'taxline': 'F', 'transaction': '17370825', 'transactiondiscount': 'F', 'uniquekey': '38515417', 'units': '1', 'updated_at': 1743465704.43747}, {'assemblycomponent': 'F', 'blandedcost': 'F', 'class': '12', 'cleared': 'F', 'closedate': '3/26/2024', 'commitinventory': '1', 'commitmentfirm': 'F', 'createdfrom': '17668142', 'donotdisplayline': 'F', 'dropship': 'F', 'fulfillable': 'T', 'fxamountlinked': '0', 'hasfulfillableitems': 'F', 'id': '0', 'inventoryreportinglocation': '34', 'isbillable': 'F', 'isclosed': 'F', 'iscogs': 'F', 'isfullyshipped': 'F', 'isfxvariance': 'F', 'isinventoryaffecting': 'F', 'isrevrectransaction': 'F', 'item': '17399', 'itemtype': 'InvtPart', 'kitcomponent': 'F', 'landedcostperline': 'F', 'linelastmodifieddate': '3/26/2024', 'linesequencenumber': '0', 'location': '34', 'mainline': 'T', 'matchbilltoreceipt': 'F', 'oldcommitmentfirm': 'F', 'quantity': '-48.75', 'quantitybilled': '0', 'quantitypacked': '0', 'quantitypicked': '0', 'quantityrejected': '0', 'quantityshiprecv': '0', 'specialorder': 'F', 'subsidiary': '1', 'taxline': 'F', 'transaction': '17671288', 'transactiondiscount': 'F', 'uniquekey': '40827277', 'units': '1', 'updated_at': 1743465704.43747}, {'assemblycomponent': 'F', 'blandedcost': 'F', 'cleared': 'F', 'closedate': '4/29/2024', 'commitinventory': '1', 'commitmentfirm': 'F', 'createdfrom': '17694738', 'donotdisplayline': 'F', 'dropship': 'F', 'fulfillable': 'T', 'fxamountlinked': '0', 'hasfulfillableitems': 'F', 'id': '0', 'inventoryreportinglocation': '32', 'isbillable': 'F', 'isclosed': 'F', 'iscogs': 'F', 'isfullyshipped': 'F', 'isfxvariance': 'F', 'isinventoryaffecting': 'F', 'isrevrectransaction': 'F', 'item': '17399', 'itemtype': 'InvtPart', 'kitcomponent': 'F', 'landedcostperline': 'F', 'linelastmodifieddate': '4/29/2024', 'linesequencenumber': '0', 'location': '32', 'mainline': 'T', 'matchbilltoreceipt': 'F', 'oldcommitmentfirm': 'F', 'quantity': '-3039', 'quantitybilled': '0', 'quantitypacked': '0', 'quantitypicked': '0', 'quantityrejected': '0', 'quantityshiprecv': '0', 'specialorder': 'F', 'subsidiary': '1', 'taxline': 'F', 'transaction': '17694739', 'transactiondiscount': 'F', 'uniquekey': '40932302', 'units': '1', 'updated_at': 1743465704.43747}, {'assemblycomponent': 'F', 'blandedcost': 'F', 'cleared': 'F', 'closedate': '4/29/2024', 'commitinventory': '1', 'commitmentfirm': 'F', 'createdfrom': '17708783', 'donotdisplayline': 'F', 'dropship': 'F', 'fulfillable': 'T', 'fxamountlinked': '0', 'hasfulfillableitems': 'F', 'id': '0', 'inventoryreportinglocation': '32', 'isbillable': 'F', 'isclosed': 'F', 'iscogs': 'F', 'isfullyshipped': 'F', 'isfxvariance': 'F', 'isinventoryaffecting': 'F', 'isrevrectransaction': 'F', 'item': '17399', 'itemtype': 'InvtPart', 'kitcomponent': 'F', 'landedcostperline': 'F', 'linelastmodifieddate': '4/29/2024', 'linesequencenumber': '0', 'location': '32', 'mainline': 'T', 'matchbilltoreceipt': 'F', 'oldcommitmentfirm': 'F', 'quantity': '-1636.5', 'quantitybilled': '0', 'quantitypacked': '0', 'quantitypicked': '0', 'quantityrejected': '0', 'quantityshiprecv': '0', 'specialorder': 'F', 'subsidiary': '1', 'taxline': 'F', 'transaction': '17708784', 'transactiondiscount': 'F', 'uniquekey': '40959299', 'units': '1', 'updated_at': 1743465704.43747}, {'assemblycomponent': 'F', 'blandedcost': 'F', 'class': '12', 'cleared': 'F', 'commitinventory': '1', 'commitmentfirm': 'F', 'createdfrom': '17871032', 'donotdisplayline': 'F', 'dropship': 'F', 'entity': '6824', 'fulfillable': 'T', 'fxamountlinked': '0', 'hasfulfillableitems': 'F', 'id': '0', 'inventoryreportinglocation': '2', 'isbillable': 'F', 'isclosed': 'F', 'iscogs': 'F', 'isfullyshipped': 'F', 'isfxvariance': 'F', 'isinventoryaffecting': 'F', 'isrevrectransaction': 'F', 'item': '17399', 'itemtype': 'InvtPart', 'kitcomponent': 'F', 'landedcostperline': 'F', 'linelastmodifieddate': '5/10/2024', 'linesequencenumber': '0', 'location': '2', 'mainline': 'T', 'matchbilltoreceipt': 'F', 'oldcommitmentfirm': 'F', 'quantity': '-61', 'quantitybilled': '0', 'quantitypacked': '0', 'quantitypicked': '0', 'quantityrejected': '0', 'quantityshiprecv': '0', 'shipmethod': '4', 'specialorder': 'F', 'subsidiary': '1', 'taxline': 'F', 'transaction': '18140830', 'transactiondiscount': 'F', 'uniquekey': '41960184', 'units': '1', 'updated_at': 1743465704.43747}, {'assemblycomponent': 'F', 'blandedcost': 'F', 'class': '12', 'cleared': 'F', 'closedate': '7/9/2024', 'commitinventory': '1', 'commitmentfirm': 'F', 'createdfrom': '18779463', 'donotdisplayline': 'F', 'dropship': 'F', 'fulfillable': 'T', 'fxamountlinked': '0', 'hasfulfillableitems': 'F', 'id': '0', 'inventoryreportinglocation': '34', 'isbillable': 'F', 'isclosed': 'F', 'iscogs': 'F', 'isfullyshipped': 'F', 'isfxvariance': 'F', 'isinventoryaffecting': 'F', 'isrevrectransaction': 'F', 'item': '17399', 'itemtype': 'InvtPart', 'kitcomponent': 'F', 'landedcostperline': 'F', 'linelastmodifieddate': '7/9/2024', 'linesequencenumber': '0', 'location': '34', 'mainline': 'T', 'matchbilltoreceipt': 'F', 'oldcommitmentfirm': 'F', 'quantity': '-184.75', 'quantitybilled': '0', 'quantitypacked': '0', 'quantitypicked': '0', 'quantityrejected': '0', 'quantityshiprecv': '0', 'specialorder': 'F', 'subsidiary': '1', 'taxline': 'F', 'transaction': '18825519', 'transactiondiscount': 'F', 'uniquekey': '43530509', 'units': '1', 'updated_at': 1743465704.43747}, {'assemblycomponent': 'F', 'blandedcost': 'F', 'class': '12', 'cleared': 'F', 'commitinventory': '1', 'commitmentfirm': 'F', 'createdfrom': '18298193', 'custcol_red_dot': '6/13/2024', 'donotdisplayline': 'F', 'dropship': 'F', 'entity': '6824', 'fulfillable': 'T', 'fxamountlinked': '0', 'hasfulfillableitems': 'F', 'id': '0', 'inventoryreportinglocation': '2', 'isbillable': 'F', 'isclosed': 'F', 'iscogs': 'F', 'isfullyshipped': 'F', 'isfxvariance': 'F', 'isinventoryaffecting': 'F', 'isrevrectransaction': 'F', 'item': '17399', 'itemtype': 'InvtPart', 'kitcomponent': 'F', 'landedcostperline': 'F', 'linelastmodifieddate': '6/18/2024', 'linesequencenumber': '0', 'location': '2', 'mainline': 'T', 'matchbilltoreceipt': 'F', 'oldcommitmentfirm': 'F', 'quantity': '-115.25', 'quantitybilled': '0', 'quantitypacked': '0', 'quantitypicked': '0', 'quantityrejected': '0', 'quantityshiprecv': '0', 'shipmethod': '4', 'specialorder': 'F', 'subsidiary': '1', 'taxline': 'F', 'transaction': '18624941', 'transactiondiscount': 'F', 'uniquekey': '43106455', 'units': '1', 'updated_at': 1743465704.43747}, {'assemblycomponent': 'F', 'blandedcost': 'F', 'class': '12', 'cleared': 'F', 'commitinventory': '1', 'commitmentfirm': 'F', 'createdfrom': '18675827', 'donotdisplayline': 'F', 'dropship': 'F', 'entity': '7161', 'fulfillable': 'T', 'fxamountlinked': '0', 'hasfulfillableitems': 'F', 'id': '0', 'inventoryreportinglocation': '2', 'isbillable': 'F', 'isclosed': 'F', 'iscogs': 'F', 'isfullyshipped': 'F', 'isfxvariance': 'F', 'isinventoryaffecting': 'F', 'isrevrectransaction': 'F', 'item': '17399', 'itemtype': 'InvtPart', 'kitcomponent': 'F', 'landedcostperline': 'F', 'linelastmodifieddate': '7/10/2024', 'linesequencenumber': '0', 'location': '2', 'mainline': 'T', 'matchbilltoreceipt': 'F', 'oldcommitmentfirm': 'F', 'quantity': '-219.5', 'quantitybilled': '0', 'quantitypacked': '0', 'quantitypicked': '0', 'quantityrejected': '0', 'quantityshiprecv': '0', 'shipmethod': '13307', 'specialorder': 'F', 'subsidiary': '1', 'taxline': 'F', 'transaction': '18811310', 'transactiondiscount': 'F', 'uniquekey': '43502981', 'units': '1', 'updated_at': 1743465704.43747}, {'assemblycomponent': 'F', 'blandedcost': 'F', 'cleared': 'F', 'commitinventory': '1', 'commitmentfirm': 'F', 'donotdisplayline': 'F', 'dropship': 'F', 'estgrossprofit': '0', 'foreignamount': '0', 'fulfillable': 'T', 'fxamountlinked': '0', 'hasfulfillableitems': 'F', 'id': '0', 'inventoryreportinglocation': '66', 'isbillable': 'F', 'isclosed': 'F', 'iscogs': 'F', 'isfullyshipped': 'F', 'isfxvariance': 'F', 'isinventoryaffecting': 'T', 'isrevrectransaction': 'F', 'item': '17399', 'itemtype': 'InvtPart', 'kitcomponent': 'F', 'landedcostperline': 'F', 'linelastmodifieddate': '8/5/2024', 'linesequencenumber': '0', 'location': '66', 'mainline': 'T', 'matchbilltoreceipt': 'F', 'memo': 'VOID', 'netamount': '0', 'oldcommitmentfirm': 'F', 'quantity': '0', 'quantitybilled': '0', 'quantitypacked': '0', 'quantitypicked': '0', 'quantityrejected': '0', 'quantityshiprecv': '0', 'specialorder': 'F', 'subsidiary': '1', 'taxline': 'F', 'transaction': '19191991', 'transactiondiscount': 'F', 'uniquekey': '44241097', 'units': '1', 'updated_at': 1743465704.43747}, {'assemblycomponent': 'F', 'blandedcost': 'F', 'class': '12', 'cleared': 'F', 'commitinventory': '1', 'commitmentfirm': 'F', 'createdfrom': '19588421', 'donotdisplayline': 'F', 'dropship': 'F', 'entity': '6824', 'fulfillable': 'T', 'fxamountlinked': '0', 'hasfulfillableitems': 'F', 'id': '0', 'inventoryreportinglocation': '2', 'isbillable': 'F', 'isclosed': 'F', 'iscogs': 'F', 'isfullyshipped': 'F', 'isfxvariance': 'F', 'isinventoryaffecting': 'F', 'isrevrectransaction': 'F', 'item': '17399', 'itemtype': 'InvtPart', 'kitcomponent': 'F', 'landedcostperline': 'F', 'linelastmodifieddate': '9/19/2024', 'linesequencenumber': '0', 'location': '2', 'mainline': 'T', 'matchbilltoreceipt': 'F', 'oldcommitmentfirm': 'F', 'quantity': '-115.75', 'quantitybilled': '0', 'quantitypacked': '0', 'quantitypicked': '0', 'quantityrejected': '0', 'quantityshiprecv': '0', 'shipmethod': '4', 'specialorder': 'F', 'subsidiary': '1', 'taxline': 'F', 'transaction': '19725684', 'transactiondiscount': 'F', 'uniquekey': '45307056', 'units': '1', 'updated_at': 1743465704.43747}, {'assemblycomponent': 'F', 'blandedcost': 'F', 'class': '34', 'cleared': 'F', 'commitinventory': '1', 'commitmentfirm': 'F', 'createdfrom': '2120068', 'custcol_red_dot': '10/12/2020', 'donotdisplayline': 'F', 'dropship': 'F', 'entity': '3449', 'fulfillable': 'T', 'fxamountlinked': '0', 'hasfulfillableitems': 'F', 'id': '0', 'inventoryreportinglocation': '2', 'isbillable': 'F', 'isclosed': 'F', 'iscogs': 'F', 'isfullyshipped': 'F', 'isfxvariance': 'F', 'isinventoryaffecting': 'F', 'isrevrectransaction': 'F', 'item': '21433', 'itemtype': 'InvtPart', 'kitcomponent': 'F', 'landedcostperline': 'F', 'linelastmodifieddate': '10/12/2020', 'linesequencenumber': '0', 'location': '2', 'mainline': 'T', 'matchbilltoreceipt': 'F', 'oldcommitmentfirm': 'F', 'quantity': '-8', 'quantitybilled': '0', 'quantitypacked': '0', 'quantitypicked': '0', 'quantityrejected': '0', 'quantityshiprecv': '0', 'shipmethod': '33', 'specialorder': 'F', 'subsidiary': '1', 'taxline': 'F', 'transaction': '2147058', 'transactiondiscount': 'F', 'uniquekey': '3433732', 'units': '1', 'updated_at': 1743465704.43747}, {'assemblycomponent': 'F', 'blandedcost': 'F', 'class': '16', 'cleared': 'F', 'commitinventory': '1', 'commitmentfirm': 'F', 'createdfrom': '1998270', 'donotdisplayline': 'F', 'dropship': 'F', 'entity': '66568', 'fulfillable': 'T', 'fxamountlinked': '0', 'hasfulfillableitems': 'F', 'id': '0', 'inventoryreportinglocation': '2', 'isbillable': 'F', 'isclosed': 'F', 'iscogs': 'F', 'isfullyshipped': 'F', 'isfxvariance': 'F', 'isinventoryaffecting': 'F', 'isrevrectransaction': 'F', 'item': '21433', 'itemtype': 'InvtPart', 'kitcomponent': 'F', 'landedcostperline': 'F', 'linelastmodifieddate': '10/16/2020', 'linesequencenumber': '0', 'location': '2', 'mainline': 'T', 'matchbilltoreceipt': 'F', 'oldcommitmentfirm': 'F', 'quantity': '-17.75', 'quantitybilled': '0', 'quantitypacked': '0', 'quantitypicked': '0', 'quantityrejected': '0', 'quantityshiprecv': '0', 'shipmethod': '45', 'specialorder': 'F', 'subsidiary': '1', 'taxline': 'F', 'transaction': '2220904', 'transactiondiscount': 'F', 'uniquekey': '3587675', 'units': '1', 'updated_at': 1743465704.43747}, {'assemblycomponent': 'F', 'blandedcost': 'F', 'class': '34', 'cleared': 'F', 'commitinventory': '1', 'commitmentfirm': 'F', 'createdfrom': '2368944', 'donotdisplayline': 'F', 'dropship': 'F', 'entity': '3449', 'fulfillable': 'T', 'fxamountlinked': '0', 'hasfulfillableitems': 'F', 'id': '0', 'inventoryreportinglocation': '2', 'isbillable': 'F', 'isclosed': 'F', 'iscogs': 'F', 'isfullyshipped': 'F', 'isfxvariance': 'F', 'isinventoryaffecting': 'F', 'isrevrectransaction': 'F', 'item': '21433', 'itemtype': 'InvtPart', 'kitcomponent': 'F', 'landedcostperline': 'F', 'linelastmodifieddate': '10/28/2020', 'linesequencenumber': '0', 'location': '2', 'mainline': 'T', 'matchbilltoreceipt': 'F', 'oldcommitmentfirm': 'F', 'quantity': '-234.25', 'quantitybilled': '0', 'quantitypacked': '0', 'quantitypicked': '0', 'quantityrejected': '0', 'quantityshiprecv': '0', 'shipmethod': '33', 'specialorder': 'F', 'subsidiary': '1', 'taxline': 'F', 'transaction': '2500158', 'transactiondiscount': 'F', 'uniquekey': '4164348', 'units': '1', 'updated_at': 1743465704.43747}, {'assemblycomponent': 'F', 'blandedcost': 'F', 'class': '16', 'cleared': 'F', 'commitinventory': '1', 'commitmentfirm': 'F', 'createdfrom': '3426495', 'donotdisplayline': 'F', 'dropship': 'F', 'entity': '3545', 'fulfillable': 'T', 'fxamountlinked': '0', 'hasfulfillableitems': 'F', 'id': '0', 'inventoryreportinglocation': '2', 'isbillable': 'F', 'isclosed': 'F', 'iscogs': 'F', 'isfullyshipped': 'F', 'isfxvariance': 'F', 'isinventoryaffecting': 'F', 'isrevrectransaction': 'F', 'item': '21433', 'itemtype': 'InvtPart', 'kitcomponent': 'F', 'landedcostperline': 'F', 'linelastmodifieddate': '12/10/2020', 'linesequencenumber': '0', 'location': '2', 'mainline': 'T', 'matchbilltoreceipt': 'F', 'oldcommitmentfirm': 'F', 'quantity': '-10.75', 'quantitybilled': '0', 'quantitypacked': '0', 'quantitypicked': '0', 'quantityrejected': '0', 'quantityshiprecv': '0', 'shipmethod': '13702', 'specialorder': 'F', 'subsidiary': '1', 'taxline': 'F', 'transaction': '3443435', 'transactiondiscount': 'F', 'uniquekey': '5881395', 'units': '1', 'updated_at': 1743465704.43747}, {'assemblycomponent': 'F', 'blandedcost': 'F', 'class': '40', 'cleared': 'F', 'commitinventory': '1', 'commitmentfirm': 'F', 'createdfrom': '5552379', 'donotdisplayline': 'F', 'dropship': 'F', 'entity': '58910', 'fulfillable': 'T', 'fxamountlinked': '0', 'hasfulfillableitems': 'F', 'id': '0', 'inventoryreportinglocation': '2', 'isbillable': 'F', 'isclosed': 'F', 'iscogs': 'F', 'isfullyshipped': 'F', 'isfxvariance': 'F', 'isinventoryaffecting': 'F', 'isrevrectransaction': 'F', 'item': '21433', 'itemtype': 'InvtPart', 'kitcomponent': 'F', 'landedcostperline': 'F', 'linelastmodifieddate': '4/19/2021', 'linesequencenumber': '0', 'location': '2', 'mainline': 'T', 'matchbilltoreceipt': 'F', 'oldcommitmentfirm': 'F', 'quantity': '-8', 'quantitybilled': '0', 'quantitypacked': '0', 'quantitypicked': '0', 'quantityrejected': '0', 'quantityshiprecv': '0', 'shipmethod': '13320', 'specialorder': 'F', 'subsidiary': '1', 'taxline': 'F', 'transaction': '5560074', 'transactiondiscount': 'F', 'uniquekey': '9986455', 'units': '1', 'updated_at': 1743465704.43747}, {'assemblycomponent': 'F', 'blandedcost': 'F', 'class': '12', 'cleared': 'F', 'commitinventory': '1', 'commitmentfirm': 'F', 'createdfrom': '15487393', 'donotdisplayline': 'F', 'dropship': 'F', 'entity': '6596', 'fulfillable': 'T', 'fxamountlinked': '0', 'hasfulfillableitems': 'F', 'id': '0', 'inventoryreportinglocation': '2', 'isbillable': 'F', 'isclosed': 'F', 'iscogs': 'F', 'isfullyshipped': 'F', 'isfxvariance': 'F', 'isinventoryaffecting': 'F', 'isrevrectransaction': 'F', 'item': '21433', 'itemtype': 'InvtPart', 'kitcomponent': 'F', 'landedcostperline': 'F', 'linelastmodifieddate': '8/30/2023', 'linesequencenumber': '0', 'location': '2', 'mainline': 'T', 'matchbilltoreceipt': 'F', 'oldcommitmentfirm': 'F', 'quantity': '-12.5', 'quantitybilled': '0', 'quantitypacked': '0', 'quantitypicked': '0', 'quantityrejected': '0', 'quantityshiprecv': '0', 'shipmethod': '4', 'specialorder': 'F', 'subsidiary': '1', 'taxline': 'F', 'transaction': '15521754', 'transactiondiscount': 'F', 'uniquekey': '32268107', 'units': '1', 'updated_at': 1743465704.43747}, {'assemblycomponent': 'F', 'blandedcost': 'F', 'cleared': 'F', 'closedate': '9/28/2020', 'commitinventory': '1', 'commitmentfirm': 'F', 'createdfrom': '1800383', 'donotdisplayline': 'F', 'dropship': 'F', 'fulfillable': 'T', 'fxamountlinked': '0', 'hasfulfillableitems': 'F', 'id': '0', 'inventoryreportinglocation': '32', 'isbillable': 'F', 'isclosed': 'F', 'iscogs': 'F', 'isfullyshipped': 'F', 'isfxvariance': 'F', 'isinventoryaffecting': 'F', 'isrevrectransaction': 'F', 'item': '21439', 'itemtype': 'InvtPart', 'kitcomponent': 'F', 'landedcostperline': 'F', 'linelastmodifieddate': '9/28/2020', 'linesequencenumber': '0', 'location': '32', 'mainline': 'T', 'matchbilltoreceipt': 'F', 'oldcommitmentfirm': 'F', 'quantity': '-3', 'quantitybilled': '0', 'quantitypacked': '0', 'quantitypicked': '0', 'quantityrejected': '0', 'quantityshiprecv': '0', 'specialorder': 'F', 'subsidiary': '1', 'taxline': 'F', 'transaction': '1800384', 'transactiondiscount': 'F', 'uniquekey': '2863744', 'units': '2', 'updated_at': 1743465704.43747}]\n"
     ]
    }
   ],
   "source": [
    "print(data)"
   ]
  },
  {
   "cell_type": "raw",
   "id": "1758db46-72f7-44a2-9c81-0006e0c09c24",
   "metadata": {},
   "source": []
  },
  {
   "cell_type": "code",
   "execution_count": 49,
   "id": "ae76cbfa-bed3-4b87-90e4-f672f51f8ca8",
   "metadata": {},
   "outputs": [],
   "source": [
    "# Insert colleccted data into BigQuery\n",
    "# This is not a merge, and will send rows regarless of whether they are already in BigQuery\n",
    "def load_data_to_bigquery(TABLE_ID, data):\n",
    "    \"\"\"\n",
    "    Loads JSON data into BigQuery (staging table).\n",
    "    \n",
    "    Args:\n",
    "        table_id (str): The  table name where data will be inserted.\n",
    "        data (list): A list of dictionaries representing the records to load.\n",
    "    \"\"\"\n",
    "    \n",
    "    errors = client.insert_rows_json(TABLE_ID, data)\n",
    "    if not errors:\n",
    "        print(f\"✅ Successfully loaded {len(data)} rows into BigQuery.\")\n",
    "    else:\n",
    "        print(f\"❌ Failed to load data into BigQuery: {errors}\")"
   ]
  },
  {
   "cell_type": "code",
   "execution_count": 50,
   "id": "edcc6c88-8ee0-4a9d-869c-a556e1164007",
   "metadata": {},
   "outputs": [
    {
     "name": "stdout",
     "output_type": "stream",
     "text": [
      "✅ Successfully loaded 60 rows into BigQuery.\n"
     ]
    }
   ],
   "source": [
    "load_data_to_bigquery(ACCOUNT_TABLE, data)"
   ]
  },
  {
   "cell_type": "code",
   "execution_count": null,
   "id": "ee14fc4c-8baa-4a5e-8bb1-d21d54f112ad",
   "metadata": {},
   "outputs": [],
   "source": []
  },
  {
   "cell_type": "code",
   "execution_count": null,
   "id": "bc85e549-42fb-400a-b836-d3ebccd00e1a",
   "metadata": {},
   "outputs": [],
   "source": []
  },
  {
   "cell_type": "code",
   "execution_count": null,
   "id": "df9ede1a-6822-43eb-93ce-f1b1cc73a5d6",
   "metadata": {},
   "outputs": [],
   "source": [
    "# LOAD TO STAGING TABLE"
   ]
  },
  {
   "cell_type": "code",
   "execution_count": 139,
   "id": "ec553126-796a-4a05-9668-76a1084d4e70",
   "metadata": {},
   "outputs": [
    {
     "name": "stdout",
     "output_type": "stream",
     "text": [
      "{'q': 'SELECT fullname, acctnumber, generalrate, currency, lastmodifieddate, id, accountsearchdisplayname, accountsearchdisplaynamecopy, isinactive FROM account'}\n",
      "{'q': 'SELECT fullname, acctnumber, generalrate, currency, lastmodifieddate, id, accountsearchdisplayname, accountsearchdisplaynamecopy, isinactive FROM account'}\n"
     ]
    }
   ],
   "source": [
    "# Columns to merge in\n",
    "# columns = [\"acctnumber\", \"currency\", \"lastmodifieddate\", \"id\", \"accountsearchdisplayname\", \"accountsearchdisplaynamecopy\", \"isinactive\"]\n",
    "all_test_columns = [\"fullname\", \"acctnumber\", \"generalrate\", \"currency\", \"lastmodifieddate\", \"id\", \"accountsearchdisplayname\", \"accountsearchdisplaynamecopy\", \"isinactive\"]\n",
    "\n",
    "# columns = [\"*\"]\n",
    "table_name = \"account\"\n",
    "merge_data = load_full_netsuite_table(table_name, all_test_columns)\n"
   ]
  },
  {
   "cell_type": "code",
   "execution_count": null,
   "id": "c34ef7c8-f42a-486d-9df5-ef3a5b8a2d88",
   "metadata": {},
   "outputs": [],
   "source": [
    "load_data_to_bigquery(ACCOUNT_TABLE_STAGING, merge_data)"
   ]
  },
  {
   "cell_type": "code",
   "execution_count": 89,
   "id": "e7eeb2c7-89e1-4cd4-8af2-597344528c85",
   "metadata": {},
   "outputs": [],
   "source": [
    "# merge data into BigQuery, so that existing rows are not duplicated\n",
    "def merge_into_bigquery(target_table, staging_table, unique_key=\"id\"):\n",
    "    \"\"\"\n",
    "    Merges data from a staging table into the target table using BigQuery's MERGE statement.\n",
    "\n",
    "    Args:\n",
    "        target_table (str): The full target table name (e.g., \"your_project.your_dataset.target_table\").\n",
    "        staging_table (str): The full staging table name (e.g., \"your_project.your_dataset.staging_table\").\n",
    "        unique_key (str): The column that uniquely identifies a row (default is \"id\").\n",
    "    \"\"\"\n",
    "    \n",
    "    query = f\"\"\"\n",
    "        MERGE `{target_table}` AS T\n",
    "        USING `{staging_table}` AS S\n",
    "        ON T.{unique_key} = S.{unique_key}\n",
    "        \n",
    "        WHEN MATCHED THEN \n",
    "            UPDATE SET\n",
    "                T.fullname = S.fullname,\n",
    "                T.acctnumber = S.acctnumber,\n",
    "                T.generalrate = S.generalrate,\n",
    "                T.currency = S.currency,\n",
    "                T.lastmodifieddate = S.lastmodifieddate,\n",
    "                T.id = S.id,\n",
    "                T.accountsearchdisplayname = S.accountsearchdisplayname,\n",
    "                T.accountsearchdisplaynamecopy = S.accountsearchdisplaynamecopy,\n",
    "                T.isinactive = S.isinactive,\n",
    "                T.updated_at = S.updated_at\n",
    "    \n",
    "        WHEN NOT MATCHED THEN\n",
    "            INSERT (id, fullname, acctnumber, generalrate, currency, lastmodifieddate, \n",
    "                    accountsearchdisplayname, accountsearchdisplaynamecopy, isinactive, updated_at)\n",
    "            VALUES (S.id, S.fullname, S.acctnumber, S.generalrate, S.currency, S.lastmodifieddate, \n",
    "                    S.accountsearchdisplayname, S.accountsearchdisplaynamecopy, S.isinactive, S.updated_at)\n",
    "    \"\"\"\n",
    "\n",
    "    # Run the merge query\n",
    "    try:\n",
    "        job = client.query(query)\n",
    "        job.result()  # Wait for the query to complete\n",
    "        print(f\"✅ Successfully merged data into {target_table}.\")\n",
    "    except Exception as e:\n",
    "        print(f\"❌ Failed to merge data into {target_table}: {e}\")\n",
    "\n"
   ]
  },
  {
   "cell_type": "code",
   "execution_count": 143,
   "id": "ef1bc94c-ab25-4eee-83d2-3780e571c1f6",
   "metadata": {},
   "outputs": [],
   "source": [
    "# merge data into BigQuery, so that existing rows are not duplicated\n",
    "def merge_into_bigquery(target_table, staging_table, columns, unique_key=\"id\"):\n",
    "    \"\"\"\n",
    "    Merges data from a staging table into the target table using BigQuery's MERGE statement.\n",
    "\n",
    "    Args:\n",
    "        target_table (str): The full target table name (e.g., \"your_project.your_dataset.target_table\").\n",
    "        staging_table (str): The full staging table name (e.g., \"your_project.your_dataset.staging_table\").\n",
    "        columns (list): A list of column names to be merged.\n",
    "        unique_key (str): The column that uniquely identifies a row (default is \"id\").\n",
    "    \"\"\"\n",
    "\n",
    "    # Add our generated timestamp column to the list of merged columns\n",
    "    columns.append(\"updated_at\")\n",
    "    \n",
    "    # Construct update clause dynamically\n",
    "    update_clause = \",\\n                \".join([f\"T.{col} = S.{col}\" for col in columns])\n",
    "\n",
    "    # Construct insert clause dynamically\n",
    "    insert_columns = \", \".join(columns)\n",
    "    insert_values = \", \".join([f\"S.{col}\" for col in columns])\n",
    "\n",
    "    query = f\"\"\"\n",
    "        MERGE `{target_table}` AS T\n",
    "        USING `{staging_table}` AS S\n",
    "        ON T.{unique_key} = S.{unique_key}\n",
    "        \n",
    "        WHEN MATCHED THEN \n",
    "            UPDATE SET\n",
    "                {update_clause}\n",
    "    \n",
    "        WHEN NOT MATCHED THEN\n",
    "            INSERT ({insert_columns})\n",
    "            VALUES ({insert_values})\n",
    "    \"\"\"\n",
    "\n",
    "    # Run the merge query\n",
    "    try:\n",
    "        job = client.query(query)\n",
    "        job.result()  # Wait for the query to complete\n",
    "        print(f\"✅ Successfully merged data into {target_table}.\")\n",
    "    except Exception as e:\n",
    "        print(f\"❌ Failed to merge data into {target_table}: {e}\")"
   ]
  },
  {
   "cell_type": "code",
   "execution_count": null,
   "id": "f881de86-07aa-4353-9ee8-97d407d9dc1d",
   "metadata": {},
   "outputs": [],
   "source": [
    "# Merge the staging table into the main table\n",
    "all_test_columns = [\"fullname\", \"acctnumber\", \"generalrate\", \"currency\", \"lastmodifieddate\", \"id\", \"accountsearchdisplayname\", \"accountsearchdisplaynamecopy\", \"isinactive\"]\n",
    "merge_into_bigquery(ACCOUNT_TABLE, ACCOUNT_TABLE_STAGING, all_test_columns)"
   ]
  },
  {
   "cell_type": "code",
   "execution_count": null,
   "id": "c2c679d8-ef3b-4ee5-ab7c-9a64bdd6f515",
   "metadata": {},
   "outputs": [],
   "source": []
  },
  {
   "cell_type": "code",
   "execution_count": null,
   "id": "4ece1260-4a2b-4e1e-be6d-1616f92ea66e",
   "metadata": {},
   "outputs": [],
   "source": [
    "# Clear staging table after merge (to avoid duplicate processing)\n",
    "client.query(f\"DELETE FROM `{ACCOUNT_TABLE_STAGING}` WHERE TRUE\").result()\n",
    "print(\"✅ Staging table cleared.\")"
   ]
  },
  {
   "cell_type": "code",
   "execution_count": null,
   "id": "8818b845-be23-400a-a919-2ca6ee8b253e",
   "metadata": {},
   "outputs": [],
   "source": []
  },
  {
   "cell_type": "code",
   "execution_count": 60,
   "id": "e142190b-cabc-4db4-b06e-d57af04bcd59",
   "metadata": {},
   "outputs": [],
   "source": [
    "# Input full dataset ID, including project ID\n",
    "def create_dataset(dataset_id):\n",
    "    dataset = bigquery.Dataset(dataset_id)\n",
    "    dataset.location = \"US\"\n",
    "    client.create_dataset(dataset, exists_ok=True)\n",
    "    print(f\"✅ Dataset {dataset_id} created successfully.\")"
   ]
  },
  {
   "cell_type": "code",
   "execution_count": 61,
   "id": "ec880948-2208-4ac4-81e0-9fa7cd071082",
   "metadata": {},
   "outputs": [],
   "source": [
    "# Input full table ID, including dataset ID and project ID\n",
    "# Input table schema\n",
    "def create_table(table_id, schema):\n",
    "    table = bigquery.Table(table_id, schema=schema)\n",
    "    client.create_table(table, exists_ok=True)\n",
    "    print(f\"✅ Table {table_id} recreated successfully.\")\n",
    "    "
   ]
  },
  {
   "cell_type": "code",
   "execution_count": 158,
   "id": "046025a9-14c2-4a83-9adb-e90f7dff2dfc",
   "metadata": {},
   "outputs": [],
   "source": [
    "ACCOUNT_TEST_SCHEMA = [\n",
    "    bigquery.SchemaField(\"fullname\", \"STRING\"),\n",
    "    bigquery.SchemaField(\"acctnumber\", \"STRING\"),\n",
    "    bigquery.SchemaField(\"generalrate\", \"STRING\"),\n",
    "    bigquery.SchemaField(\"currency\", \"STRING\"),\n",
    "    bigquery.SchemaField(\"lastmodifieddate\", \"STRING\"),\n",
    "    bigquery.SchemaField(\"id\", \"STRING\"),\n",
    "    bigquery.SchemaField(\"accountsearchdisplayname\", \"STRING\"),\n",
    "    bigquery.SchemaField(\"accountsearchdisplaynamecopy\", \"STRING\"),\n",
    "    bigquery.SchemaField(\"isinactive\", \"STRING\"),\n",
    "    bigquery.SchemaField(\"updated_at\", \"TIMESTAMP\"),\n",
    "]"
   ]
  },
  {
   "cell_type": "code",
   "execution_count": 63,
   "id": "71d869dd-419c-4b84-8352-8518eb827aff",
   "metadata": {},
   "outputs": [],
   "source": [
    "def drop_dataset(dataset_id):\n",
    "    client.delete_dataset(dataset_id, delete_contents=True, not_found_ok=True)\n",
    "    print(f\"✅ Dataset {dataset_id} dropped successfully.\")"
   ]
  },
  {
   "cell_type": "code",
   "execution_count": 64,
   "id": "dd67759f-72af-4e50-a115-0f129293b8d3",
   "metadata": {},
   "outputs": [],
   "source": [
    "def drop_table(table_id):    \n",
    "    # Drop table\n",
    "    client.delete_table(table_id, not_found_ok=True)\n",
    "    print(f\"✅ Table {table_id} dropped successfully.\")"
   ]
  },
  {
   "cell_type": "code",
   "execution_count": 77,
   "id": "6a696c1d-afd2-4311-9cd0-f38e7a093688",
   "metadata": {},
   "outputs": [
    {
     "name": "stdout",
     "output_type": "stream",
     "text": [
      "✅ Table high-essence-450000-t7.NetSuite.Account_test dropped successfully.\n"
     ]
    }
   ],
   "source": [
    "drop_table(ACCOUNT_TABLE_TEST)"
   ]
  },
  {
   "cell_type": "code",
   "execution_count": 78,
   "id": "d614d4b9-4a34-4347-9f03-a65202ae73a5",
   "metadata": {},
   "outputs": [
    {
     "name": "stdout",
     "output_type": "stream",
     "text": [
      "✅ Table high-essence-450000-t7.NetSuite.Account_test recreated successfully.\n"
     ]
    }
   ],
   "source": [
    "create_table(ACCOUNT_TABLE_TEST, ACCOUNT_TEST_SCHEMA)"
   ]
  },
  {
   "cell_type": "code",
   "execution_count": 80,
   "id": "bf170db6-56ce-4952-a553-054434ba8350",
   "metadata": {},
   "outputs": [
    {
     "name": "stdout",
     "output_type": "stream",
     "text": [
      "✅ Successfully loaded 60 rows into BigQuery.\n"
     ]
    }
   ],
   "source": [
    "load_data_to_bigquery(ACCOUNT_TABLE_TEST, data)"
   ]
  },
  {
   "cell_type": "code",
   "execution_count": null,
   "id": "c6c82570-7a0e-4c25-9773-a3f6ede6db57",
   "metadata": {},
   "outputs": [],
   "source": []
  },
  {
   "cell_type": "code",
   "execution_count": 129,
   "id": "fba8893b-7569-48cc-8235-fb6cf1f93f39",
   "metadata": {},
   "outputs": [
    {
     "name": "stdout",
     "output_type": "stream",
     "text": [
      "✅ Table high-essence-450000-t7.NetSuite_Staging.Account_staging dropped successfully.\n"
     ]
    }
   ],
   "source": [
    "drop_table(ACCOUNT_TABLE_STAGING)"
   ]
  },
  {
   "cell_type": "code",
   "execution_count": 130,
   "id": "bcb5ebc7-c7c3-4ff7-8689-3f70fdec803f",
   "metadata": {},
   "outputs": [
    {
     "name": "stdout",
     "output_type": "stream",
     "text": [
      "✅ Table high-essence-450000-t7.NetSuite_Staging.Account_staging recreated successfully.\n"
     ]
    }
   ],
   "source": [
    "create_table(ACCOUNT_TABLE_STAGING, ACCOUNT_TEST_SCHEMA)"
   ]
  },
  {
   "cell_type": "code",
   "execution_count": 141,
   "id": "4e4e20d8-5598-4a0b-a8aa-398edbc7079e",
   "metadata": {},
   "outputs": [
    {
     "name": "stdout",
     "output_type": "stream",
     "text": [
      "✅ Successfully loaded 120 rows into BigQuery.\n"
     ]
    }
   ],
   "source": [
    "load_data_to_bigquery(ACCOUNT_TABLE_STAGING, merge_data)"
   ]
  },
  {
   "cell_type": "code",
   "execution_count": 144,
   "id": "a636a53a-a6fe-4dac-aba4-c2c702b9194a",
   "metadata": {},
   "outputs": [
    {
     "name": "stdout",
     "output_type": "stream",
     "text": [
      "✅ Successfully merged data into high-essence-450000-t7.NetSuite.Account_test.\n"
     ]
    }
   ],
   "source": [
    "merge_into_bigquery(ACCOUNT_TABLE_TEST, ACCOUNT_TABLE_STAGING, all_test_columns)"
   ]
  },
  {
   "cell_type": "code",
   "execution_count": null,
   "id": "921a5b2d-8a4e-4df9-92d2-dc03de2558d8",
   "metadata": {},
   "outputs": [],
   "source": []
  },
  {
   "cell_type": "code",
   "execution_count": null,
   "id": "28feceb7-69b8-445f-beaa-18478653f10a",
   "metadata": {},
   "outputs": [],
   "source": []
  },
  {
   "cell_type": "code",
   "execution_count": null,
   "id": "19a37de7-113f-4669-93c6-087e00560633",
   "metadata": {},
   "outputs": [],
   "source": [
    "# columns = [\"acctnumber\", \"currency\", \"lastmodifieddate\", \"id\", \"accountsearchdisplayname\", \"accountsearchdisplaynamecopy\", \"isinactive\"]\n",
    "columns = [\"*\"]\n",
    "table_name = \"transaction\"\n",
    "\n",
    "load_recent_netsuite_data(table_name, columns)"
   ]
  },
  {
   "cell_type": "code",
   "execution_count": null,
   "id": "e1d2a66b-8623-4ee3-8639-d6f6bf3e3418",
   "metadata": {},
   "outputs": [],
   "source": []
  },
  {
   "cell_type": "code",
   "execution_count": null,
   "id": "61d49dac-ada1-409a-b7d8-7eabb24b7cac",
   "metadata": {},
   "outputs": [],
   "source": []
  },
  {
   "cell_type": "code",
   "execution_count": null,
   "id": "249255ad-a5e0-40a7-8b5c-c402d4692ee2",
   "metadata": {},
   "outputs": [],
   "source": []
  },
  {
   "cell_type": "code",
   "execution_count": 170,
   "id": "b58fdd14-8382-490a-86f4-33d836bce783",
   "metadata": {},
   "outputs": [],
   "source": [
    "transactionLine_table_id = f\"{PROJECT_ID}.{DATASET_ID}.transactionLine\"\n",
    "transactionLine_table_staging = f\"{PROJECT_ID}.{DATASET_ID}.transactionLine_staging\""
   ]
  },
  {
   "cell_type": "code",
   "execution_count": null,
   "id": "948c0a0b-531c-471c-90e3-f3dc99a62603",
   "metadata": {},
   "outputs": [],
   "source": []
  },
  {
   "cell_type": "code",
   "execution_count": 162,
   "id": "073db266-6776-4d66-ba85-94208b052f5c",
   "metadata": {},
   "outputs": [],
   "source": []
  },
  {
   "cell_type": "code",
   "execution_count": 167,
   "id": "2c9da21e-1d6f-46ed-ba01-0bf4c0266b1b",
   "metadata": {},
   "outputs": [],
   "source": [
    "table = client.get_table(transaction_table_id)\n",
    "schema = table.schema  # Extract schema"
   ]
  },
  {
   "cell_type": "code",
   "execution_count": 149,
   "id": "bafb7f80-8ff9-4b11-90d9-f97d25995e8d",
   "metadata": {},
   "outputs": [],
   "source": [
    "new_table = bigquery.Table(new_table_id, schema=schema)"
   ]
  },
  {
   "cell_type": "code",
   "execution_count": 155,
   "id": "6f66c9d3-c2f5-44cb-9159-d838758aba6c",
   "metadata": {},
   "outputs": [
    {
     "data": {
      "text/plain": [
       "Table(TableReference(DatasetReference('high-essence-450000-t7', 'NetSuite'), 'transactionLine'))"
      ]
     },
     "execution_count": 155,
     "metadata": {},
     "output_type": "execute_result"
    }
   ],
   "source": [
    "client.create_table(new_table, exists_ok=True)"
   ]
  },
  {
   "cell_type": "raw",
   "id": "cdc1c30c-e1e3-4360-add0-ba872ea9e4be",
   "metadata": {},
   "source": []
  },
  {
   "cell_type": "code",
   "execution_count": 175,
   "id": "cff8309e-041f-49b1-bf7c-31793ab081ff",
   "metadata": {},
   "outputs": [
    {
     "name": "stdout",
     "output_type": "stream",
     "text": [
      "['id', 'uniquekey', 'linelastmodifieddate', 'accountinglinetype', 'actualshipdate', 'assemblycomponent', 'blandedcost', 'class', 'cleared', 'cleareddate', 'closedate', 'commitinventory', 'commitmentfirm', 'costestimatetype', 'createdfrom', 'creditforeignamount', 'custcol_360_do_not_pack', 'custcol_360_hold', 'custcol_360_hold_qty', 'custcol_360_holdreason', 'custcol_mg_expected_ready_date', 'custcol_mg_fg_promise_date', 'custcol_mg_orig_prom_date', 'custcol_promise_date', 'custcol_red_dot', 'debitforeignamount', 'documentnumber', 'donotdisplayline', 'dropship', 'entity', 'estgrossprofit', 'estgrossprofitpercent', 'expectedshipdate', 'expenseaccount', 'foreignamount', 'fulfillable', 'fxamountlinked', 'hasfulfillableitems', 'inventoryreportinglocation', 'isbillable', 'isclosed', 'iscogs', 'isfullyshipped', 'isfxvariance', 'isinventoryaffecting', 'isrevrectransaction', 'item', 'itemtype', 'kitcomponent', 'landedcostperline', 'linesequencenumber', 'location', 'mainline', 'matchbilltoreceipt', 'memo', 'netamount', 'oldcommitmentfirm', 'paymentmethod', 'processedbyrevcommit', 'quantity', 'quantitybilled', 'quantitypacked', 'quantitypicked', 'quantityrejected', 'quantityshiprecv', 'rate', 'rateamount', 'shipmethod', 'specialorder', 'subsidiary', 'taxline', 'transaction', 'transactiondiscount', 'units', 'updated_at']\n"
     ]
    }
   ],
   "source": [
    "column_names = [field.name for field in schema]\n",
    "print(column_names)"
   ]
  },
  {
   "cell_type": "code",
   "execution_count": null,
   "id": "a6c5ba4e-08f7-4647-ac5a-6bc1e49079d1",
   "metadata": {},
   "outputs": [],
   "source": []
  },
  {
   "cell_type": "code",
   "execution_count": null,
   "id": "55287ff5-b628-40c5-8b48-20397a70cd8e",
   "metadata": {},
   "outputs": [],
   "source": [
    "create_table(ACCOUNT_TABLE_STAGING, ACCOUNT_TEST_SCHEMA)"
   ]
  },
  {
   "cell_type": "code",
   "execution_count": null,
   "id": "5e87e82a-aa06-482a-9257-b544405630f8",
   "metadata": {},
   "outputs": [],
   "source": []
  },
  {
   "cell_type": "code",
   "execution_count": 172,
   "id": "25e93b80-d2d9-4d1b-a543-373f1c31a8a4",
   "metadata": {},
   "outputs": [],
   "source": [
    "current_time = time.localtime()"
   ]
  },
  {
   "cell_type": "raw",
   "id": "1f2cd8c1-6cf7-4706-8fef-fbcb294677f8",
   "metadata": {},
   "source": []
  },
  {
   "cell_type": "code",
   "execution_count": 173,
   "id": "6b5e3275-b662-4ce3-a590-3db5621b62b1",
   "metadata": {},
   "outputs": [
    {
     "name": "stdout",
     "output_type": "stream",
     "text": [
      "time.struct_time(tm_year=2025, tm_mon=3, tm_mday=31, tm_hour=15, tm_min=31, tm_sec=54, tm_wday=0, tm_yday=90, tm_isdst=1)\n"
     ]
    }
   ],
   "source": [
    "print(current_time)"
   ]
  },
  {
   "cell_type": "code",
   "execution_count": 174,
   "id": "23c5f666-b2d9-44d8-9aa1-efe2f940e8ee",
   "metadata": {},
   "outputs": [
    {
     "name": "stdout",
     "output_type": "stream",
     "text": [
      "[SchemaField('id', 'INTEGER', 'NULLABLE', None, None, (), None), SchemaField('uniquekey', 'INTEGER', 'NULLABLE', None, None, (), None), SchemaField('linelastmodifieddate', 'TIMESTAMP', 'NULLABLE', None, None, (), None), SchemaField('accountinglinetype', 'STRING(2000)', 'NULLABLE', None, None, (), None), SchemaField('actualshipdate', 'DATE', 'NULLABLE', None, None, (), None), SchemaField('assemblycomponent', 'BOOLEAN', 'NULLABLE', None, None, (), None), SchemaField('blandedcost', 'BOOLEAN', 'NULLABLE', None, None, (), None), SchemaField('class', 'STRING(2000)', 'NULLABLE', None, None, (), None), SchemaField('cleared', 'BOOLEAN', 'NULLABLE', None, None, (), None), SchemaField('cleareddate', 'DATE', 'NULLABLE', None, None, (), None), SchemaField('closedate', 'DATE', 'NULLABLE', None, None, (), None), SchemaField('commitinventory', 'STRING(2000)', 'NULLABLE', None, None, (), None), SchemaField('commitmentfirm', 'BOOLEAN', 'NULLABLE', None, None, (), None), SchemaField('costestimatetype', 'STRING(2000)', 'NULLABLE', None, None, (), None), SchemaField('createdfrom', 'STRING(2000)', 'NULLABLE', None, None, (), None), SchemaField('creditforeignamount', 'NUMERIC(17, 5)', 'NULLABLE', None, None, (), None), SchemaField('custcol_360_do_not_pack', 'BOOLEAN', 'NULLABLE', None, None, (), None), SchemaField('custcol_360_hold', 'BOOLEAN', 'NULLABLE', None, None, (), None), SchemaField('custcol_360_hold_qty', 'NUMERIC(20, 9)', 'NULLABLE', None, None, (), None), SchemaField('custcol_360_holdreason', 'INTEGER', 'NULLABLE', None, None, (), None), SchemaField('custcol_mg_expected_ready_date', 'DATE', 'NULLABLE', None, None, (), None), SchemaField('custcol_mg_fg_promise_date', 'DATE', 'NULLABLE', None, None, (), None), SchemaField('custcol_mg_orig_prom_date', 'DATE', 'NULLABLE', None, None, (), None), SchemaField('custcol_promise_date', 'DATE', 'NULLABLE', None, None, (), None), SchemaField('custcol_red_dot', 'DATE', 'NULLABLE', None, None, (), None), SchemaField('debitforeignamount', 'NUMERIC(17, 5)', 'NULLABLE', None, None, (), None), SchemaField('documentnumber', 'STRING(2000)', 'NULLABLE', None, None, (), None), SchemaField('donotdisplayline', 'BOOLEAN', 'NULLABLE', None, None, (), None), SchemaField('dropship', 'BOOLEAN', 'NULLABLE', None, None, (), None), SchemaField('entity', 'STRING(2000)', 'NULLABLE', None, None, (), None), SchemaField('estgrossprofit', 'NUMERIC(17, 5)', 'NULLABLE', None, None, (), None), SchemaField('estgrossprofitpercent', 'FLOAT', 'NULLABLE', None, None, (), None), SchemaField('expectedshipdate', 'DATE', 'NULLABLE', None, None, (), None), SchemaField('expenseaccount', 'STRING(2000)', 'NULLABLE', None, None, (), None), SchemaField('foreignamount', 'NUMERIC(17, 5)', 'NULLABLE', None, None, (), None), SchemaField('fulfillable', 'BOOLEAN', 'NULLABLE', None, None, (), None), SchemaField('fxamountlinked', 'NUMERIC(17, 5)', 'NULLABLE', None, None, (), None), SchemaField('hasfulfillableitems', 'BOOLEAN', 'NULLABLE', None, None, (), None), SchemaField('inventoryreportinglocation', 'STRING(2000)', 'NULLABLE', None, None, (), None), SchemaField('isbillable', 'BOOLEAN', 'NULLABLE', None, None, (), None), SchemaField('isclosed', 'BOOLEAN', 'NULLABLE', None, None, (), None), SchemaField('iscogs', 'BOOLEAN', 'NULLABLE', None, None, (), None), SchemaField('isfullyshipped', 'BOOLEAN', 'NULLABLE', None, None, (), None), SchemaField('isfxvariance', 'BOOLEAN', 'NULLABLE', None, None, (), None), SchemaField('isinventoryaffecting', 'BOOLEAN', 'NULLABLE', None, None, (), None), SchemaField('isrevrectransaction', 'BOOLEAN', 'NULLABLE', None, None, (), None), SchemaField('item', 'STRING(2000)', 'NULLABLE', None, None, (), None), SchemaField('itemtype', 'STRING(2000)', 'NULLABLE', None, None, (), None), SchemaField('kitcomponent', 'BOOLEAN', 'NULLABLE', None, None, (), None), SchemaField('landedcostperline', 'BOOLEAN', 'NULLABLE', None, None, (), None), SchemaField('linesequencenumber', 'INTEGER', 'NULLABLE', None, None, (), None), SchemaField('location', 'STRING(2000)', 'NULLABLE', None, None, (), None), SchemaField('mainline', 'BOOLEAN', 'NULLABLE', None, None, (), None), SchemaField('matchbilltoreceipt', 'BOOLEAN', 'NULLABLE', None, None, (), None), SchemaField('memo', 'STRING(2000)', 'NULLABLE', None, None, (), None), SchemaField('netamount', 'NUMERIC(17, 5)', 'NULLABLE', None, None, (), None), SchemaField('oldcommitmentfirm', 'BOOLEAN', 'NULLABLE', None, None, (), None), SchemaField('paymentmethod', 'STRING(2000)', 'NULLABLE', None, None, (), None), SchemaField('processedbyrevcommit', 'BOOLEAN', 'NULLABLE', None, None, (), None), SchemaField('quantity', 'FLOAT', 'NULLABLE', None, None, (), None), SchemaField('quantitybilled', 'FLOAT', 'NULLABLE', None, None, (), None), SchemaField('quantitypacked', 'INTEGER', 'NULLABLE', None, None, (), None), SchemaField('quantitypicked', 'FLOAT', 'NULLABLE', None, None, (), None), SchemaField('quantityrejected', 'FLOAT', 'NULLABLE', None, None, (), None), SchemaField('quantityshiprecv', 'FLOAT', 'NULLABLE', None, None, (), None), SchemaField('rate', 'NUMERIC(17, 5)', 'NULLABLE', None, None, (), None), SchemaField('rateamount', 'INTEGER', 'NULLABLE', None, None, (), None), SchemaField('shipmethod', 'STRING(2000)', 'NULLABLE', None, None, (), None), SchemaField('specialorder', 'BOOLEAN', 'NULLABLE', None, None, (), None), SchemaField('subsidiary', 'STRING(2000)', 'NULLABLE', None, None, (), None), SchemaField('taxline', 'BOOLEAN', 'NULLABLE', None, None, (), None), SchemaField('transaction', 'STRING(2000)', 'NULLABLE', None, None, (), None), SchemaField('transactiondiscount', 'BOOLEAN', 'NULLABLE', None, None, (), None), SchemaField('units', 'STRING(2000)', 'NULLABLE', None, None, (), None), SchemaField('updated_at', 'TIMESTAMP', 'NULLABLE', None, None, (), None)]\n"
     ]
    }
   ],
   "source": [
    "print(schema)"
   ]
  },
  {
   "cell_type": "code",
   "execution_count": null,
   "id": "2481e330-fae2-47a9-975f-d9f1d484b405",
   "metadata": {},
   "outputs": [],
   "source": []
  },
  {
   "cell_type": "code",
   "execution_count": null,
   "id": "972f3a24-4b0d-4715-9dda-23aae57b678d",
   "metadata": {},
   "outputs": [],
   "source": []
  },
  {
   "cell_type": "code",
   "execution_count": 183,
   "id": "ca944935-8674-4d85-a21f-d3d4837ea259",
   "metadata": {},
   "outputs": [
    {
     "name": "stdout",
     "output_type": "stream",
     "text": [
      "{'links': [{'rel': 'self', 'href': 'https://3730751-sb1.suitetalk.api.netsuite.com/services/rest/query/v1/suiteql?offset=0'}], 'count': 1, 'hasMore': False, 'items': [{'links': [], 'expr1': '5584446'}], 'offset': 0, 'totalResults': 1}\n"
     ]
    }
   ],
   "source": [
    "query = {\n",
    "    \"q\":\"SELECT COUNT(*) FROM transactionLine\"\n",
    "}\n",
    "\n",
    "\"\"\"         \n",
    "         \n",
    "{\"q\":\"SELECT * FROM employee\"}\n",
    "\n",
    "\n",
    "\n",
    "    query = {\n",
    "        \"q\": f\"SELECT {', '.join([item for item in columns])} FROM {table_name}\"\n",
    "    }\n",
    "\n",
    "\"\"\"\n",
    "\n",
    "params = {\n",
    "    \"offset\": \"0\",\n",
    "    \"limit\": \"10\"\n",
    "}\n",
    "count = get_netsuite_data(params, query).json()\n",
    "\n",
    "print(count)\n",
    "\n"
   ]
  },
  {
   "cell_type": "code",
   "execution_count": 211,
   "id": "6fb73bab-07a4-428c-b7cf-bd092d7bc952",
   "metadata": {},
   "outputs": [
    {
     "name": "stdout",
     "output_type": "stream",
     "text": [
      "total time: 128\n",
      "{'links': [{'rel': 'next', 'href': 'https://3730751-sb1.suitetalk.api.netsuite.com/services/rest/query/v1/suiteql?limit=10&offset=10'}, {'rel': 'last', 'href': 'https://3730751-sb1.suitetalk.api.netsuite.com/services/rest/query/v1/suiteql?limit=10&offset=9990'}, {'rel': 'self', 'href': 'https://3730751-sb1.suitetalk.api.netsuite.com/services/rest/query/v1/suiteql?limit=10&offset=0'}], 'count': 10, 'hasMore': True, 'items': [{'links': [], 'linelastmodifieddate': '5/3/2023'}, {'links': [], 'linelastmodifieddate': '5/1/2023'}, {'links': [], 'linelastmodifieddate': '5/3/2023'}, {'links': [], 'linelastmodifieddate': '5/3/2023'}, {'links': [], 'linelastmodifieddate': '5/3/2023'}, {'links': [], 'linelastmodifieddate': '5/3/2023'}, {'links': [], 'linelastmodifieddate': '5/3/2023'}, {'links': [], 'linelastmodifieddate': '5/2/2023'}, {'links': [], 'linelastmodifieddate': '5/3/2023'}, {'links': [], 'linelastmodifieddate': '5/3/2023'}], 'offset': 0, 'totalResults': 10000}\n"
     ]
    }
   ],
   "source": [
    "query = {\n",
    "    \"q\":f\"\"\"\n",
    "        SELECT linelastmodifieddate\n",
    "        FROM transactionLine\n",
    "        WHERE linelastmodifieddate >= '4/29/2023'\n",
    "        AND linelastmodifieddate < '5/6/2023'\n",
    "        \"\"\"\n",
    "}\n",
    "\n",
    "params = {\n",
    "    \"offset\": \"0\",\n",
    "    \"limit\": \"10\"\n",
    "}\n",
    "startTime = int(time.time())\n",
    "\n",
    "data = get_netsuite_data(params, query).json()\n",
    "\n",
    "endTime = int(time.time())\n",
    "print(\"total time: \" + str(endTime - startTime))\n",
    "\n",
    "print(data)"
   ]
  },
  {
   "cell_type": "code",
   "execution_count": 217,
   "id": "2911e1b9-35fb-4113-9ceb-1a4d81f5e4f7",
   "metadata": {},
   "outputs": [
    {
     "name": "stdout",
     "output_type": "stream",
     "text": [
      "total time: 3\n",
      "{'links': [{'rel': 'next', 'href': 'https://3730751-sb1.suitetalk.api.netsuite.com/services/rest/query/v1/suiteql?limit=10&offset=10'}, {'rel': 'last', 'href': 'https://3730751-sb1.suitetalk.api.netsuite.com/services/rest/query/v1/suiteql?limit=10&offset=770'}, {'rel': 'self', 'href': 'https://3730751-sb1.suitetalk.api.netsuite.com/services/rest/query/v1/suiteql?limit=10&offset=0'}], 'count': 10, 'hasMore': True, 'items': [{'links': [], 'uniquekey': '500087'}, {'links': [], 'uniquekey': '500191'}, {'links': [], 'uniquekey': '500291'}, {'links': [], 'uniquekey': '500293'}, {'links': [], 'uniquekey': '500301'}, {'links': [], 'uniquekey': '500318'}, {'links': [], 'uniquekey': '500331'}, {'links': [], 'uniquekey': '500406'}, {'links': [], 'uniquekey': '500410'}, {'links': [], 'uniquekey': '500413'}], 'offset': 0, 'totalResults': 777}\n"
     ]
    }
   ],
   "source": [
    "query = {\n",
    "    \"q\":f\"\"\"\n",
    "    SELECT uniquekey\n",
    "    FROM transactionLine\n",
    "    WHERE uniquekey >= 500000 AND uniquekey < 505000\n",
    "    \"\"\"\n",
    "}\n",
    "\n",
    "params = {\n",
    "    \"offset\": \"0\",\n",
    "    \"limit\": \"10\"\n",
    "}\n",
    "startTime = int(time.time())\n",
    "\n",
    "data = get_netsuite_data(params, query).json()\n",
    "\n",
    "endTime = int(time.time())\n",
    "print(\"total time: \" + str(endTime - startTime))\n",
    "\n",
    "print(data)"
   ]
  },
  {
   "cell_type": "code",
   "execution_count": null,
   "id": "382700f9-c2b6-4115-ad3e-032f79d67a88",
   "metadata": {},
   "outputs": [],
   "source": []
  },
  {
   "cell_type": "code",
   "execution_count": 195,
   "id": "35bd4a10-aaa1-4ee0-890f-1556cd824c00",
   "metadata": {},
   "outputs": [
    {
     "name": "stdout",
     "output_type": "stream",
     "text": [
      "[SchemaField('id', 'INTEGER', 'NULLABLE', None, None, (), None), SchemaField('accountsearchdisplayname', 'STRING(2000)', 'NULLABLE', None, None, (), None), SchemaField('accountsearchdisplaynamecopy', 'STRING(2000)', 'NULLABLE', None, None, (), None), SchemaField('acctnumber', 'STRING(2000)', 'NULLABLE', None, None, (), None), SchemaField('accttype', 'STRING(2000)', 'NULLABLE', None, None, (), None), SchemaField('cashflowrate', 'STRING(2000)', 'NULLABLE', None, None, (), None), SchemaField('category1099misc', 'INTEGER', 'NULLABLE', None, None, (), None), SchemaField('currency', 'INTEGER', 'NULLABLE', None, None, (), None), SchemaField('deferralacct', 'INTEGER', 'NULLABLE', None, None, (), None), SchemaField('description', 'STRING(2000)', 'NULLABLE', None, None, (), None), SchemaField('displaynamewithhierarchy', 'STRING(2000)', 'NULLABLE', None, None, (), None), SchemaField('eliminate', 'BOOLEAN', 'NULLABLE', None, None, (), None), SchemaField('externalid', 'STRING(2000)', 'NULLABLE', None, None, (), None), SchemaField('fullname', 'STRING(2000)', 'NULLABLE', None, None, (), None), SchemaField('generalrate', 'STRING(2000)', 'NULLABLE', None, None, (), None), SchemaField('includechildren', 'BOOLEAN', 'NULLABLE', None, None, (), None), SchemaField('inventory', 'BOOLEAN', 'NULLABLE', None, None, (), None), SchemaField('isinactive', 'BOOLEAN', 'NULLABLE', None, None, (), None), SchemaField('issummary', 'BOOLEAN', 'NULLABLE', None, None, (), None), SchemaField('lastmodifieddate', 'TIMESTAMP', 'NULLABLE', None, None, (), None), SchemaField('parent', 'INTEGER', 'NULLABLE', None, None, (), None), SchemaField('reconcilewithmatching', 'BOOLEAN', 'NULLABLE', None, None, (), None), SchemaField('revalue', 'BOOLEAN', 'NULLABLE', None, None, (), None), SchemaField('sspecacct', 'STRING(2000)', 'NULLABLE', None, None, (), None), SchemaField('subsidiary', 'STRING(2000)', 'NULLABLE', None, None, (), None), SchemaField('custrecord_acct_bank_account_number', 'STRING(2000)', 'NULLABLE', None, None, (), None), SchemaField('custrecordcash_or_noncash', 'INTEGER', 'NULLABLE', None, None, (), None), SchemaField('custrecord_mg_default_department', 'INTEGER', 'NULLABLE', None, None, (), None), SchemaField('custrecord_mg_default_division', 'STRING(2000)', 'NULLABLE', None, None, (), None), SchemaField('custrecorddownturncategory', 'INTEGER', 'NULLABLE', None, None, (), None), SchemaField('custrecord_ax_ap_enable_account', 'BOOLEAN', 'NULLABLE', None, None, (), None), SchemaField('custrecord_ax_fp_enable_account', 'BOOLEAN', 'NULLABLE', None, None, (), None), SchemaField('custrecord_fam_account_showinfixedasset', 'STRING(2000)', 'NULLABLE', None, None, (), None)]\n"
     ]
    }
   ],
   "source": [
    "moore_giles_acct_table = f\"{PROJECT_ID}.MooreGiles2.account\"\n",
    "\n",
    "account_table = client.get_table(moore_giles_acct_table)\n",
    "\n",
    "account_schema = account_table.schema\n",
    "print(account_schema)"
   ]
  },
  {
   "cell_type": "code",
   "execution_count": 187,
   "id": "8c9ff3ee-5c2d-449c-80e7-15082a06d44f",
   "metadata": {},
   "outputs": [
    {
     "name": "stdout",
     "output_type": "stream",
     "text": [
      "high-essence-450000-t7.NetSuite.Account\n"
     ]
    }
   ],
   "source": [
    "ACCOUNT_TABLE = f\"{PROJECT_ID}.{DATASET_ID}.Account\"\n",
    "print(ACCOUNT_TABLE)"
   ]
  },
  {
   "cell_type": "code",
   "execution_count": 203,
   "id": "98f8c4eb-34ab-4b0d-8724-090e79cc8d96",
   "metadata": {},
   "outputs": [
    {
     "name": "stdout",
     "output_type": "stream",
     "text": [
      "✅ Table high-essence-450000-t7.NetSuite.Account dropped successfully.\n"
     ]
    }
   ],
   "source": [
    "drop_table(ACCOUNT_TABLE)"
   ]
  },
  {
   "cell_type": "code",
   "execution_count": 205,
   "id": "c08357bb-df9a-44d9-ad8a-bf79f469d287",
   "metadata": {},
   "outputs": [],
   "source": [
    "ACCOUNT_SCHEMA = [\n",
    "    SchemaField('id', 'INTEGER', 'NULLABLE'),\n",
    "    SchemaField('accountsearchdisplayname', 'STRING', 'NULLABLE'),\n",
    "    SchemaField('accountsearchdisplaynamecopy', 'STRING', 'NULLABLE'),\n",
    "    SchemaField('acctnumber', 'STRING', 'NULLABLE'),\n",
    "    SchemaField('accttype', 'STRING', 'NULLABLE'),\n",
    "    SchemaField('cashflowrate', 'STRING', 'NULLABLE'),\n",
    "    SchemaField('category1099misc', 'INTEGER', 'NULLABLE'),\n",
    "    SchemaField('currency', 'INTEGER', 'NULLABLE'),\n",
    "    SchemaField('deferralacct', 'INTEGER', 'NULLABLE'),\n",
    "    SchemaField('description', 'STRING', 'NULLABLE'),\n",
    "    SchemaField('displaynamewithhierarchy', 'STRING', 'NULLABLE'),\n",
    "    SchemaField('eliminate', 'BOOLEAN', 'NULLABLE'),\n",
    "    SchemaField('externalid', 'STRING', 'NULLABLE'),\n",
    "    SchemaField('fullname', 'STRING', 'NULLABLE'),\n",
    "    SchemaField('generalrate', 'STRING', 'NULLABLE'),\n",
    "    SchemaField('includechildren', 'BOOLEAN', 'NULLABLE'),\n",
    "    SchemaField('inventory', 'BOOLEAN', 'NULLABLE'),\n",
    "    SchemaField('isinactive', 'BOOLEAN', 'NULLABLE'),\n",
    "    SchemaField('issummary', 'BOOLEAN', 'NULLABLE'),\n",
    "    SchemaField('lastmodifieddate', 'DATE', 'NULLABLE'),\n",
    "    SchemaField('parent', 'INTEGER', 'NULLABLE'),\n",
    "    SchemaField('reconcilewithmatching', 'BOOLEAN', 'NULLABLE'),\n",
    "    SchemaField('revalue', 'BOOLEAN', 'NULLABLE'),\n",
    "    SchemaField('sspecacct', 'STRING', 'NULLABLE'),\n",
    "    SchemaField('subsidiary', 'STRING', 'NULLABLE'),\n",
    "    SchemaField('custrecord_acct_bank_account_number', 'STRING', 'NULLABLE'),\n",
    "    SchemaField('custrecord_mg_default_department', 'INTEGER', 'NULLABLE'),\n",
    "    SchemaField('custrecord_mg_default_division', 'STRING', 'NULLABLE'),\n",
    "    SchemaField('custrecord_fam_account_showinfixedasset', 'STRING', 'NULLABLE'),\n",
    "    SchemaField('updated_at', 'TIMESTAMP', 'NULLABLE')\n",
    "]"
   ]
  },
  {
   "cell_type": "code",
   "execution_count": 206,
   "id": "5735f28d-def8-4c72-aaaa-9bf57913a87e",
   "metadata": {},
   "outputs": [
    {
     "name": "stdout",
     "output_type": "stream",
     "text": [
      "✅ Table high-essence-450000-t7.NetSuite.Account recreated successfully.\n"
     ]
    }
   ],
   "source": [
    "create_table(ACCOUNT_TABLE, ACCOUNT_SCHEMA)"
   ]
  },
  {
   "cell_type": "code",
   "execution_count": null,
   "id": "e57eb1bd-974e-4369-8e3d-22fc1b94c6bd",
   "metadata": {},
   "outputs": [],
   "source": []
  },
  {
   "cell_type": "code",
   "execution_count": 230,
   "id": "356229a8-f379-4e21-b9a3-c4bb8b547fb9",
   "metadata": {},
   "outputs": [],
   "source": [
    "def get_max_unique_key(ns_table):\n",
    "    \"\"\"\n",
    "    Returns the maximum uniqueKey value from a NetSuite table.\n",
    "    \"\"\"\n",
    "\n",
    "    params = {\n",
    "        \"limit\": \"1\"\n",
    "    }\n",
    "    query = {\n",
    "        \"q\": f\"SELECT uniqueKey FROM {ns_table} ORDER BY uniqueKey DESC\"\n",
    "    }\n",
    "\n",
    "    # We just need the first row since it's sorted in descending order\n",
    "    results = get_netsuite_data(params, query).json().get(\"items\", [])\n",
    "    if results and len(results) > 0:\n",
    "        return int(results[0]['uniquekey'])\n",
    "\n",
    "    raise Exception(f\"❌ Could not fetch max uniqueKey from {ns_table}\")"
   ]
  },
  {
   "cell_type": "code",
   "execution_count": 231,
   "id": "073d33ec-aab8-4d54-92c8-17a8a9d4c97b",
   "metadata": {},
   "outputs": [
    {
     "name": "stdout",
     "output_type": "stream",
     "text": [
      "45994396\n"
     ]
    }
   ],
   "source": [
    "print(str(get_max_unique_key(\"transactionLine\")))"
   ]
  },
  {
   "cell_type": "code",
   "execution_count": null,
   "id": "5238f393-57a1-41c4-b4fc-b052a4ef04da",
   "metadata": {},
   "outputs": [],
   "source": []
  }
 ],
 "metadata": {
  "kernelspec": {
   "display_name": "Python 3.12.2 (Pyenv)",
   "language": "python",
   "name": "pyenv-3.12.2"
  },
  "language_info": {
   "codemirror_mode": {
    "name": "ipython",
    "version": 3
   },
   "file_extension": ".py",
   "mimetype": "text/x-python",
   "name": "python",
   "nbconvert_exporter": "python",
   "pygments_lexer": "ipython3",
   "version": "3.12.2"
  }
 },
 "nbformat": 4,
 "nbformat_minor": 5
}
