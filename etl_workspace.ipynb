{
 "cells": [
  {
   "cell_type": "code",
   "execution_count": 1,
   "id": "cf0506be",
   "metadata": {},
   "outputs": [],
   "source": [
    "import os\n",
    "import time\n",
    "import json\n",
    "import requests\n",
    "import random\n",
    "import string\n",
    "from google.cloud import bigquery\n",
    "from google.cloud.bigquery import SchemaField\n",
    "import urllib.parse\n",
    "import hmac\n",
    "import hashlib\n",
    "import base64\n",
    "import dlt\n",
    "from dotenv import load_dotenv\n",
    "from datetime import datetime, timedelta\n",
    "import gspread\n",
    "from google.oauth2.service_account import Credentials"
   ]
  },
  {
   "cell_type": "code",
   "execution_count": 2,
   "id": "8dafcbb8-5f8f-4d9f-b6d5-32c51acdd23a",
   "metadata": {},
   "outputs": [],
   "source": [
    "# Load environment variables from secrets.env\n",
    "load_dotenv(\"secrets.env\")\n",
    "\n",
    "# Authenticate with google cloud\n",
    "os.environ[\"GOOGLE_APPLICATION_CREDENTIALS\"] = os.getenv(\"GCP_KEY_PATH\")\n",
    "\n",
    "# BigQuery account info\n",
    "PROJECT_ID = os.getenv(\"PROJECT_ID\")\n",
    "DATASET_ID = os.getenv(\"DATASET_ID\")\n",
    "DATASET_ID_STAGING = os.getenv(\"DATASET_ID_STAGING\")\n",
    "\n",
    "# NetSuite access secrets\n",
    "NETSUITE_ACCOUNT_ID = os.getenv(\"NETSUITE_ACCOUNT_ID\")\n",
    "NETSUITE_REALM = os.getenv(\"NETSUITE_REALM\")\n",
    "NETSUITE_CONSUMER_KEY = os.getenv(\"NETSUITE_CONSUMER_KEY\")\n",
    "NETSUITE_CONSUMER_SECRET = os.getenv(\"NETSUITE_CONSUMER_SECRET\")\n",
    "NETSUITE_TOKEN = os.getenv(\"NETSUITE_TOKEN\")\n",
    "NETSUITE_TOKEN_SECRET = os.getenv(\"NETSUITE_TOKEN_SECRET\")"
   ]
  },
  {
   "cell_type": "code",
   "execution_count": 3,
   "id": "fcdd5b34-7a50-40b5-9591-869ad6bbea44",
   "metadata": {},
   "outputs": [],
   "source": [
    "# Initialize BigQuery client\n",
    "client = bigquery.Client()"
   ]
  },
  {
   "cell_type": "code",
   "execution_count": 4,
   "id": "ea8ffa0f-16e4-4801-ac18-d56666e7c670",
   "metadata": {},
   "outputs": [],
   "source": [
    "# Get BigQuery table IDs\n",
    "ACCOUNT_TABLE = f\"{PROJECT_ID}.{DATASET_ID}.Account\"\n",
    "ACCOUNT_TABLE_TEST = f\"{PROJECT_ID}.{DATASET_ID}.Account_test\"\n",
    "ACCOUNT_TABLE_STAGING = f\"{PROJECT_ID}.{DATASET_ID_STAGING}.Account_staging\"\n",
    "\n",
    "# TODO: Add all tables to dict of tables sharing the same keys in TABLE_COLUMNS\n",
    "# Order is BQ table ID, BQ staging table ID\n",
    "BIGQUERY_TABLE_IDS = {\n",
    "    \"account\": [f\"{PROJECT_ID}.{DATASET_ID}.Account\", f\"{PROJECT_ID}.{DATASET_ID_STAGING}.Account_staging\"]\n",
    "    # \"transaction\": [f\"{PROJECT_ID}.{DATASET_ID}.Transaction\", f\"{PROJECT_ID}.{DATASET_ID_STAGING}.Transaction_staging\"],\n",
    "}"
   ]
  },
  {
   "cell_type": "code",
   "execution_count": 5,
   "id": "4fd31edf-f859-4274-b327-885265c0b25a",
   "metadata": {},
   "outputs": [],
   "source": [
    "# NetSuite API Endpoint\n",
    "HTTP_METHOD = \"POST\"\n",
    "BASE_URL = f\"https://{NETSUITE_ACCOUNT_ID}.suitetalk.api.netsuite.com/services/rest/query/v1/suiteql\""
   ]
  },
  {
   "cell_type": "code",
   "execution_count": 6,
   "id": "5add39d2-e60c-40d0-8462-5aa46fc4f238",
   "metadata": {},
   "outputs": [],
   "source": [
    "\"\"\"\n",
    "Input params in the form of:\n",
    "params = {\n",
    "    \"limit\": \"5\",\n",
    "    \"offset\": \"0\"\n",
    "}\n",
    "\n",
    "Input SQL query in the form of:\n",
    "query_body = {\n",
    "    \"q\": \"SELECT acctnumber, fullname, generalrate, currency FROM account\"\n",
    "}\n",
    "\n",
    "\"\"\"\n",
    "def get_netsuite_data(params, query):\n",
    "    \n",
    "    # Encode parameters for URL\n",
    "    encoded_params = urllib.parse.urlencode(params)\n",
    "    \n",
    "    # Full URL with encoccquery params, used in post request\n",
    "    url = f\"{BASE_URL}?{encoded_params}\"\n",
    "    \n",
    "    # Generate OAuth Parameters\n",
    "    timestamp = str(int(time.time()))\n",
    "    nonce = ''.join(random.choices(string.ascii_letters + string.digits, k=11))\n",
    "    \n",
    "    oauth_params = {\n",
    "        \"oauth_consumer_key\": NETSUITE_CONSUMER_KEY,\n",
    "        \"oauth_token\": NETSUITE_TOKEN,\n",
    "        \"oauth_signature_method\": \"HMAC-SHA256\",\n",
    "        \"oauth_timestamp\": timestamp,\n",
    "        \"oauth_nonce\": nonce,\n",
    "        \"oauth_version\": \"1.0\"\n",
    "    }\n",
    "    \n",
    "    # Merge OAuth parameters with query parameters for signature\n",
    "    all_params = {**oauth_params, **params}\n",
    "    \n",
    "    # Sort all parameters alphabetically (important for signature)\n",
    "    sorted_params = sorted(all_params.items())\n",
    "    encoded_param_string = \"&\".join([f\"{urllib.parse.quote(k, safe='')}={urllib.parse.quote(v, safe='')}\" for k, v in sorted_params])\n",
    "    \n",
    "    # Construct the Signature Base String\n",
    "    base_string = f\"{HTTP_METHOD}&{urllib.parse.quote(BASE_URL, safe='')}&{urllib.parse.quote(encoded_param_string, safe='')}\"\n",
    "    \n",
    "    # Generate the HMAC-SHA256 Signature\n",
    "    signing_key = f\"{NETSUITE_CONSUMER_SECRET}&{NETSUITE_TOKEN_SECRET}\"\n",
    "    hashed = hmac.new(signing_key.encode(), base_string.encode(), hashlib.sha256)\n",
    "    signature = base64.b64encode(hashed.digest()).decode()\n",
    "    \n",
    "    # URL Encode Signature Before Sending\n",
    "    encoded_signature = urllib.parse.quote(signature, safe=\"\")\n",
    "    \n",
    "    # Construct OAuth Header\n",
    "    auth_header = (\n",
    "        f'OAuth realm=\"{NETSUITE_REALM}\", '\n",
    "        f'oauth_consumer_key=\"{NETSUITE_CONSUMER_KEY}\", '\n",
    "        f'oauth_token=\"{NETSUITE_TOKEN}\", '\n",
    "        f'oauth_signature_method=\"HMAC-SHA256\", '\n",
    "        f'oauth_timestamp=\"{timestamp}\", '\n",
    "        f'oauth_nonce=\"{nonce}\", '\n",
    "        f'oauth_version=\"1.0\", '\n",
    "        f'oauth_signature=\"{encoded_signature}\"'\n",
    "    )\n",
    "    \n",
    "    # Headers\n",
    "    headers = {\n",
    "        \"Authorization\": auth_header,\n",
    "        \"Content-Type\": \"application/json\",\n",
    "        \"Prefer\": \"transient\",\n",
    "        \"Cache-Control\": \"no-cache\",\n",
    "        \"Accept\": \"*/*\",\n",
    "        \"Accept-Encoding\": \"gzip, deflate, br\",\n",
    "        \"Connection\": \"keep-alive\",\n",
    "    }\n",
    "    \n",
    "    # Send Request\n",
    "    response = requests.post(url, json=query, headers=headers)\n",
    "\n",
    "    if response.status_code == 200:\n",
    "        # return response.json().get(\"links\", []), response.json().get(\"items\", [])\n",
    "        return response\n",
    "    # Handle response error\n",
    "    else:\n",
    "        raise Exception(f\"NetSuite API Error: {response.text}\")\n",
    "    \n",
    "    # Check the response\n",
    "    #print(\"\\n🔹 Response Status Code:\", response.status_code)\n",
    "    #print(\"\\n🔹 Response Body:\", response.json())"
   ]
  },
  {
   "cell_type": "code",
   "execution_count": 7,
   "id": "7f7e5e8b-729b-4bfd-a6bf-63557f227530",
   "metadata": {},
   "outputs": [],
   "source": [
    "LIMIT = 10"
   ]
  },
  {
   "cell_type": "code",
   "execution_count": 8,
   "id": "59d7b82d-dae8-4722-beb5-c9b16cc59d74",
   "metadata": {},
   "outputs": [],
   "source": [
    "def load_data_to_bq(query):\n",
    "    #TODO: remove noted lines, and instead stream to bigQuery after each batch\n",
    "    \n",
    "    \n",
    "    timestamp = time.time()\n",
    "    all_data = [] #REMOVE THIS\n",
    "\n",
    "    # Initial parameters for request\n",
    "    offset = 0\n",
    "    params = {\n",
    "        \"limit\": str(LIMIT),\n",
    "        \"offset\": str(offset)\n",
    "    }\n",
    "\n",
    "    # Stop requesting data when this is false, and table has been fully retreived\n",
    "    has_more = True\n",
    "    \n",
    "    while has_more:   \n",
    "        \n",
    "        response = get_netsuite_data(params, query)\n",
    "        response.raise_for_status() # Make sure request was successful\n",
    "        response_json = response.json()\n",
    "\n",
    "        # Reached end of data table\n",
    "        if response_json.get(\"hasMore\") == False:\n",
    "            has_more = False\n",
    "        # Table has more data, need to request new batch\n",
    "        else:\n",
    "            offset += LIMIT\n",
    "            params[\"offset\"] = str(offset)\n",
    "            \n",
    "\n",
    "        # Delete 'link' column for each record, which seems to be sent over empty no matter what\n",
    "        batch = response_json.get(\"items\", [])\n",
    "        for record in batch:\n",
    "            if 'links' in record:\n",
    "                del record['links']\n",
    "            record['updated_at'] = timestamp\n",
    "        \n",
    "        \n",
    "        all_data.extend(batch) # REMOVE THIS, replace with below line\n",
    "        # load_data_to_bigquery(DESTINATION_TABLE, batch)\n",
    "        \n",
    "        # Temporary testing cutoff\n",
    "        # if offset >= 20:\n",
    "        #     break\n",
    "\n",
    "    return all_data # REMOVE THIS"
   ]
  },
  {
   "cell_type": "code",
   "execution_count": null,
   "id": "6364be16-0913-45e8-b425-00c799fd751a",
   "metadata": {},
   "outputs": [],
   "source": []
  },
  {
   "cell_type": "code",
   "execution_count": 9,
   "id": "0ea1fa4b-0435-48fa-8b31-c844f98d13a4",
   "metadata": {},
   "outputs": [],
   "source": [
    "\"\"\"\n",
    "Inputs:\n",
    "    Name of table in netsuite: String\n",
    "    List of netsuite columns to retreive: List[String]\n",
    "\n",
    "Functionality:\n",
    "    Get LIMIT rows at a time, continuing until the entire table is retreived\n",
    "    Filter based on input columns\n",
    "\n",
    "Returns:\n",
    "    request object\n",
    "    \n",
    "\"\"\"\n",
    "def load_full_netsuite_table(table_name, columns):\n",
    "\n",
    "    # Build query from table_name and columns\n",
    "    query = {\n",
    "        \"q\": f\"SELECT {', '.join([item for item in columns])} FROM {table_name}\"\n",
    "    }\n",
    "    \n",
    "    return load_data_to_bq(query)\n",
    "\n"
   ]
  },
  {
   "cell_type": "code",
   "execution_count": 10,
   "id": "252f9a1c-3a66-41c1-827f-73897416a96f",
   "metadata": {},
   "outputs": [],
   "source": [
    "# Get NetSuite data from the last 2 days, based on lastmodifieddate\n",
    "# can maybe change this to 1 day\n",
    "def load_recent_netsuite_data(table_name, columns):\n",
    "\n",
    "    # Get the current date and format it in MM/DD/YYYY\n",
    "    current_date = datetime.now().strftime('%m/%d/%Y')\n",
    "\n",
    "    # Build query with recent data condition\n",
    "    query = {\n",
    "        \"q\": f\"\"\"\n",
    "        SELECT {', '.join([item for item in columns])} \n",
    "        FROM {table_name}\n",
    "        WHERE lastmodifieddate >= TO_DATE('{current_date}', 'MM/DD/YYYY') - 2\n",
    "        \"\"\"\n",
    "    }\n",
    "    \n",
    "    return load_data_to_bq(query)"
   ]
  },
  {
   "cell_type": "code",
   "execution_count": null,
   "id": "08a8dfa2-8a49-47b1-9e98-e4bf61b07473",
   "metadata": {},
   "outputs": [],
   "source": []
  },
  {
   "cell_type": "code",
   "execution_count": 11,
   "id": "e13dec04-8ac7-427d-a015-294b58936c19",
   "metadata": {},
   "outputs": [
    {
     "ename": "NameError",
     "evalue": "name 'column_names' is not defined",
     "output_type": "error",
     "traceback": [
      "\u001b[31m---------------------------------------------------------------------------\u001b[39m",
      "\u001b[31mNameError\u001b[39m                                 Traceback (most recent call last)",
      "\u001b[36mCell\u001b[39m\u001b[36m \u001b[39m\u001b[32mIn[11]\u001b[39m\u001b[32m, line 4\u001b[39m\n\u001b[32m      2\u001b[39m \u001b[38;5;66;03m# columns = [\"*\"]\u001b[39;00m\n\u001b[32m      3\u001b[39m table_name = \u001b[33m\"\u001b[39m\u001b[33mtransactionLine\u001b[39m\u001b[33m\"\u001b[39m\n\u001b[32m----> \u001b[39m\u001b[32m4\u001b[39m \u001b[43mcolumn_names\u001b[49m.remove(\u001b[33m\"\u001b[39m\u001b[33mupdated_at\u001b[39m\u001b[33m\"\u001b[39m)\n\u001b[32m      5\u001b[39m data = load_full_netsuite_table(table_name, column_names)\n",
      "\u001b[31mNameError\u001b[39m: name 'column_names' is not defined"
     ]
    }
   ],
   "source": [
    "columns = [\"acctnumber\", \"fullname\", \"generalrate\", \"currency\", \"lastmodifieddate\", \"id\"]\n",
    "# columns = [\"*\"]\n",
    "table_name = \"transactionLine\"\n",
    "column_names.remove(\"updated_at\")\n",
    "data = load_full_netsuite_table(table_name, column_names)"
   ]
  },
  {
   "cell_type": "raw",
   "id": "1758db46-72f7-44a2-9c81-0006e0c09c24",
   "metadata": {},
   "source": []
  },
  {
   "cell_type": "code",
   "execution_count": 12,
   "id": "ae76cbfa-bed3-4b87-90e4-f672f51f8ca8",
   "metadata": {},
   "outputs": [],
   "source": [
    "# Insert colleccted data into BigQuery\n",
    "# This is not a merge, and will send rows regarless of whether they are already in BigQuery\n",
    "def load_data_to_bigquery(TABLE_ID, data):\n",
    "    \"\"\"\n",
    "    Loads JSON data into BigQuery (staging table).\n",
    "    \n",
    "    Args:\n",
    "        table_id (str): The  table name where data will be inserted.\n",
    "        data (list): A list of dictionaries representing the records to load.\n",
    "    \"\"\"\n",
    "    \n",
    "    errors = client.insert_rows_json(TABLE_ID, data)\n",
    "    if not errors:\n",
    "        print(f\"✅ Successfully loaded {len(data)} rows into BigQuery.\")\n",
    "    else:\n",
    "        print(f\"❌ Failed to load data into BigQuery: {errors}\")"
   ]
  },
  {
   "cell_type": "code",
   "execution_count": null,
   "id": "edcc6c88-8ee0-4a9d-869c-a556e1164007",
   "metadata": {},
   "outputs": [],
   "source": [
    "load_data_to_bigquery(ACCOUNT_TABLE, data)"
   ]
  },
  {
   "cell_type": "code",
   "execution_count": null,
   "id": "ee14fc4c-8baa-4a5e-8bb1-d21d54f112ad",
   "metadata": {},
   "outputs": [],
   "source": []
  },
  {
   "cell_type": "code",
   "execution_count": null,
   "id": "bc85e549-42fb-400a-b836-d3ebccd00e1a",
   "metadata": {},
   "outputs": [],
   "source": []
  },
  {
   "cell_type": "code",
   "execution_count": null,
   "id": "df9ede1a-6822-43eb-93ce-f1b1cc73a5d6",
   "metadata": {},
   "outputs": [],
   "source": [
    "# LOAD TO STAGING TABLE"
   ]
  },
  {
   "cell_type": "code",
   "execution_count": null,
   "id": "ec553126-796a-4a05-9668-76a1084d4e70",
   "metadata": {},
   "outputs": [],
   "source": [
    "# Columns to merge in\n",
    "# columns = [\"acctnumber\", \"currency\", \"lastmodifieddate\", \"id\", \"accountsearchdisplayname\", \"accountsearchdisplaynamecopy\", \"isinactive\"]\n",
    "all_test_columns = [\"fullname\", \"acctnumber\", \"generalrate\", \"currency\", \"lastmodifieddate\", \"id\", \"accountsearchdisplayname\", \"accountsearchdisplaynamecopy\", \"isinactive\"]\n",
    "\n",
    "# columns = [\"*\"]\n",
    "table_name = \"account\"\n",
    "merge_data = load_full_netsuite_table(table_name, all_test_columns)\n"
   ]
  },
  {
   "cell_type": "code",
   "execution_count": null,
   "id": "c34ef7c8-f42a-486d-9df5-ef3a5b8a2d88",
   "metadata": {},
   "outputs": [],
   "source": [
    "load_data_to_bigquery(ACCOUNT_TABLE_STAGING, merge_data)"
   ]
  },
  {
   "cell_type": "code",
   "execution_count": 13,
   "id": "e7eeb2c7-89e1-4cd4-8af2-597344528c85",
   "metadata": {},
   "outputs": [],
   "source": [
    "# merge data into BigQuery, so that existing rows are not duplicated\n",
    "def merge_into_bigquery(target_table, staging_table, unique_key=\"id\"):\n",
    "    \"\"\"\n",
    "    Merges data from a staging table into the target table using BigQuery's MERGE statement.\n",
    "\n",
    "    Args:\n",
    "        target_table (str): The full target table name (e.g., \"your_project.your_dataset.target_table\").\n",
    "        staging_table (str): The full staging table name (e.g., \"your_project.your_dataset.staging_table\").\n",
    "        unique_key (str): The column that uniquely identifies a row (default is \"id\").\n",
    "    \"\"\"\n",
    "    \n",
    "    query = f\"\"\"\n",
    "        MERGE `{target_table}` AS T\n",
    "        USING `{staging_table}` AS S\n",
    "        ON T.{unique_key} = S.{unique_key}\n",
    "        \n",
    "        WHEN MATCHED THEN \n",
    "            UPDATE SET\n",
    "                T.fullname = S.fullname,\n",
    "                T.acctnumber = S.acctnumber,\n",
    "                T.generalrate = S.generalrate,\n",
    "                T.currency = S.currency,\n",
    "                T.lastmodifieddate = S.lastmodifieddate,\n",
    "                T.id = S.id,\n",
    "                T.accountsearchdisplayname = S.accountsearchdisplayname,\n",
    "                T.accountsearchdisplaynamecopy = S.accountsearchdisplaynamecopy,\n",
    "                T.isinactive = S.isinactive,\n",
    "                T.updated_at = S.updated_at\n",
    "    \n",
    "        WHEN NOT MATCHED THEN\n",
    "            INSERT (id, fullname, acctnumber, generalrate, currency, lastmodifieddate, \n",
    "                    accountsearchdisplayname, accountsearchdisplaynamecopy, isinactive, updated_at)\n",
    "            VALUES (S.id, S.fullname, S.acctnumber, S.generalrate, S.currency, S.lastmodifieddate, \n",
    "                    S.accountsearchdisplayname, S.accountsearchdisplaynamecopy, S.isinactive, S.updated_at)\n",
    "    \"\"\"\n",
    "\n",
    "    # Run the merge query\n",
    "    try:\n",
    "        job = client.query(query)\n",
    "        job.result()  # Wait for the query to complete\n",
    "        print(f\"✅ Successfully merged data into {target_table}.\")\n",
    "    except Exception as e:\n",
    "        print(f\"❌ Failed to merge data into {target_table}: {e}\")\n",
    "\n"
   ]
  },
  {
   "cell_type": "code",
   "execution_count": 14,
   "id": "ef1bc94c-ab25-4eee-83d2-3780e571c1f6",
   "metadata": {},
   "outputs": [],
   "source": [
    "# merge data into BigQuery, so that existing rows are not duplicated\n",
    "def merge_into_bigquery(target_table, staging_table, columns, unique_key=\"id\"):\n",
    "    \"\"\"\n",
    "    Merges data from a staging table into the target table using BigQuery's MERGE statement.\n",
    "\n",
    "    Args:\n",
    "        target_table (str): The full target table name (e.g., \"your_project.your_dataset.target_table\").\n",
    "        staging_table (str): The full staging table name (e.g., \"your_project.your_dataset.staging_table\").\n",
    "        columns (list): A list of column names to be merged.\n",
    "        unique_key (str): The column that uniquely identifies a row (default is \"id\").\n",
    "    \"\"\"\n",
    "\n",
    "    # Add our generated timestamp column to the list of merged columns\n",
    "    columns.append(\"updated_at\")\n",
    "    \n",
    "    # Construct update clause dynamically\n",
    "    update_clause = \",\\n                \".join([f\"T.{col} = S.{col}\" for col in columns])\n",
    "\n",
    "    # Construct insert clause dynamically\n",
    "    insert_columns = \", \".join(columns)\n",
    "    insert_values = \", \".join([f\"S.{col}\" for col in columns])\n",
    "\n",
    "    query = f\"\"\"\n",
    "        MERGE `{target_table}` AS T\n",
    "        USING `{staging_table}` AS S\n",
    "        ON T.{unique_key} = S.{unique_key}\n",
    "        \n",
    "        WHEN MATCHED THEN \n",
    "            UPDATE SET\n",
    "                {update_clause}\n",
    "    \n",
    "        WHEN NOT MATCHED THEN\n",
    "            INSERT ({insert_columns})\n",
    "            VALUES ({insert_values})\n",
    "    \"\"\"\n",
    "\n",
    "    # Run the merge query\n",
    "    try:\n",
    "        job = client.query(query)\n",
    "        job.result()  # Wait for the query to complete\n",
    "        print(f\"✅ Successfully merged data into {target_table}.\")\n",
    "    except Exception as e:\n",
    "        print(f\"❌ Failed to merge data into {target_table}: {e}\")"
   ]
  },
  {
   "cell_type": "code",
   "execution_count": null,
   "id": "f881de86-07aa-4353-9ee8-97d407d9dc1d",
   "metadata": {},
   "outputs": [],
   "source": [
    "# Merge the staging table into the main table\n",
    "all_test_columns = [\"fullname\", \"acctnumber\", \"generalrate\", \"currency\", \"lastmodifieddate\", \"id\", \"accountsearchdisplayname\", \"accountsearchdisplaynamecopy\", \"isinactive\"]\n",
    "merge_into_bigquery(ACCOUNT_TABLE, ACCOUNT_TABLE_STAGING, all_test_columns)"
   ]
  },
  {
   "cell_type": "code",
   "execution_count": null,
   "id": "c2c679d8-ef3b-4ee5-ab7c-9a64bdd6f515",
   "metadata": {},
   "outputs": [],
   "source": []
  },
  {
   "cell_type": "code",
   "execution_count": null,
   "id": "4ece1260-4a2b-4e1e-be6d-1616f92ea66e",
   "metadata": {},
   "outputs": [],
   "source": [
    "# Clear staging table after merge (to avoid duplicate processing)\n",
    "client.query(f\"DELETE FROM `{ACCOUNT_TABLE_STAGING}` WHERE TRUE\").result()\n",
    "print(\"✅ Staging table cleared.\")"
   ]
  },
  {
   "cell_type": "code",
   "execution_count": null,
   "id": "8818b845-be23-400a-a919-2ca6ee8b253e",
   "metadata": {},
   "outputs": [],
   "source": []
  },
  {
   "cell_type": "code",
   "execution_count": 15,
   "id": "e142190b-cabc-4db4-b06e-d57af04bcd59",
   "metadata": {},
   "outputs": [],
   "source": [
    "# Input full dataset ID, including project ID\n",
    "def create_dataset(dataset_id):\n",
    "    dataset = bigquery.Dataset(dataset_id)\n",
    "    dataset.location = \"US\"\n",
    "    client.create_dataset(dataset, exists_ok=True)\n",
    "    print(f\"✅ Dataset {dataset_id} created successfully.\")"
   ]
  },
  {
   "cell_type": "code",
   "execution_count": 16,
   "id": "ec880948-2208-4ac4-81e0-9fa7cd071082",
   "metadata": {},
   "outputs": [],
   "source": [
    "# Input full table ID, including dataset ID and project ID\n",
    "# Input table schema\n",
    "def create_table(table_id, schema):\n",
    "    table = bigquery.Table(table_id, schema=schema)\n",
    "    client.create_table(table, exists_ok=True)\n",
    "    print(f\"✅ Table {table_id} recreated successfully.\")\n",
    "    "
   ]
  },
  {
   "cell_type": "code",
   "execution_count": null,
   "id": "046025a9-14c2-4a83-9adb-e90f7dff2dfc",
   "metadata": {},
   "outputs": [],
   "source": [
    "ACCOUNT_TEST_SCHEMA = [\n",
    "    bigquery.SchemaField(\"fullname\", \"STRING\"),\n",
    "    bigquery.SchemaField(\"acctnumber\", \"STRING\"),\n",
    "    bigquery.SchemaField(\"generalrate\", \"STRING\"),\n",
    "    bigquery.SchemaField(\"currency\", \"STRING\"),\n",
    "    bigquery.SchemaField(\"lastmodifieddate\", \"STRING\"),\n",
    "    bigquery.SchemaField(\"id\", \"STRING\"),\n",
    "    bigquery.SchemaField(\"accountsearchdisplayname\", \"STRING\"),\n",
    "    bigquery.SchemaField(\"accountsearchdisplaynamecopy\", \"STRING\"),\n",
    "    bigquery.SchemaField(\"isinactive\", \"STRING\"),\n",
    "    bigquery.SchemaField(\"updated_at\", \"TIMESTAMP\"),\n",
    "]"
   ]
  },
  {
   "cell_type": "code",
   "execution_count": 17,
   "id": "71d869dd-419c-4b84-8352-8518eb827aff",
   "metadata": {},
   "outputs": [],
   "source": [
    "def drop_dataset(dataset_id):\n",
    "    client.delete_dataset(dataset_id, delete_contents=True, not_found_ok=True)\n",
    "    print(f\"✅ Dataset {dataset_id} dropped successfully.\")"
   ]
  },
  {
   "cell_type": "code",
   "execution_count": 18,
   "id": "dd67759f-72af-4e50-a115-0f129293b8d3",
   "metadata": {},
   "outputs": [],
   "source": [
    "def drop_table(table_id):    \n",
    "    # Drop table\n",
    "    client.delete_table(table_id, not_found_ok=True)\n",
    "    print(f\"✅ Table {table_id} dropped successfully.\")"
   ]
  },
  {
   "cell_type": "code",
   "execution_count": null,
   "id": "6a696c1d-afd2-4311-9cd0-f38e7a093688",
   "metadata": {},
   "outputs": [],
   "source": [
    "drop_table(ACCOUNT_TABLE_TEST)"
   ]
  },
  {
   "cell_type": "code",
   "execution_count": null,
   "id": "d614d4b9-4a34-4347-9f03-a65202ae73a5",
   "metadata": {},
   "outputs": [],
   "source": [
    "create_table(ACCOUNT_TABLE_TEST, ACCOUNT_TEST_SCHEMA)"
   ]
  },
  {
   "cell_type": "code",
   "execution_count": null,
   "id": "bf170db6-56ce-4952-a553-054434ba8350",
   "metadata": {},
   "outputs": [],
   "source": [
    "load_data_to_bigquery(ACCOUNT_TABLE_TEST, data)"
   ]
  },
  {
   "cell_type": "code",
   "execution_count": null,
   "id": "c6c82570-7a0e-4c25-9773-a3f6ede6db57",
   "metadata": {},
   "outputs": [],
   "source": []
  },
  {
   "cell_type": "code",
   "execution_count": null,
   "id": "fba8893b-7569-48cc-8235-fb6cf1f93f39",
   "metadata": {},
   "outputs": [],
   "source": [
    "drop_table(ACCOUNT_TABLE_STAGING)"
   ]
  },
  {
   "cell_type": "code",
   "execution_count": null,
   "id": "bcb5ebc7-c7c3-4ff7-8689-3f70fdec803f",
   "metadata": {},
   "outputs": [],
   "source": [
    "create_table(ACCOUNT_TABLE_STAGING, ACCOUNT_TEST_SCHEMA)"
   ]
  },
  {
   "cell_type": "code",
   "execution_count": null,
   "id": "4e4e20d8-5598-4a0b-a8aa-398edbc7079e",
   "metadata": {},
   "outputs": [],
   "source": [
    "load_data_to_bigquery(ACCOUNT_TABLE_STAGING, merge_data)"
   ]
  },
  {
   "cell_type": "code",
   "execution_count": null,
   "id": "a636a53a-a6fe-4dac-aba4-c2c702b9194a",
   "metadata": {},
   "outputs": [],
   "source": [
    "merge_into_bigquery(ACCOUNT_TABLE_TEST, ACCOUNT_TABLE_STAGING, all_test_columns)"
   ]
  },
  {
   "cell_type": "code",
   "execution_count": null,
   "id": "921a5b2d-8a4e-4df9-92d2-dc03de2558d8",
   "metadata": {},
   "outputs": [],
   "source": []
  },
  {
   "cell_type": "code",
   "execution_count": null,
   "id": "28feceb7-69b8-445f-beaa-18478653f10a",
   "metadata": {},
   "outputs": [],
   "source": []
  },
  {
   "cell_type": "code",
   "execution_count": null,
   "id": "19a37de7-113f-4669-93c6-087e00560633",
   "metadata": {},
   "outputs": [],
   "source": [
    "# columns = [\"acctnumber\", \"currency\", \"lastmodifieddate\", \"id\", \"accountsearchdisplayname\", \"accountsearchdisplaynamecopy\", \"isinactive\"]\n",
    "columns = [\"*\"]\n",
    "table_name = \"transaction\"\n",
    "\n",
    "load_recent_netsuite_data(table_name, columns)"
   ]
  },
  {
   "cell_type": "code",
   "execution_count": null,
   "id": "e1d2a66b-8623-4ee3-8639-d6f6bf3e3418",
   "metadata": {},
   "outputs": [],
   "source": []
  },
  {
   "cell_type": "code",
   "execution_count": null,
   "id": "61d49dac-ada1-409a-b7d8-7eabb24b7cac",
   "metadata": {},
   "outputs": [],
   "source": []
  },
  {
   "cell_type": "code",
   "execution_count": null,
   "id": "249255ad-a5e0-40a7-8b5c-c402d4692ee2",
   "metadata": {},
   "outputs": [],
   "source": []
  },
  {
   "cell_type": "code",
   "execution_count": null,
   "id": "b58fdd14-8382-490a-86f4-33d836bce783",
   "metadata": {},
   "outputs": [],
   "source": [
    "transactionLine_table_id = f\"{PROJECT_ID}.{DATASET_ID}.transactionLine\"\n",
    "transactionLine_table_staging = f\"{PROJECT_ID}.{DATASET_ID}.transactionLine_staging\""
   ]
  },
  {
   "cell_type": "code",
   "execution_count": null,
   "id": "948c0a0b-531c-471c-90e3-f3dc99a62603",
   "metadata": {},
   "outputs": [],
   "source": []
  },
  {
   "cell_type": "code",
   "execution_count": null,
   "id": "073db266-6776-4d66-ba85-94208b052f5c",
   "metadata": {},
   "outputs": [],
   "source": []
  },
  {
   "cell_type": "code",
   "execution_count": null,
   "id": "2c9da21e-1d6f-46ed-ba01-0bf4c0266b1b",
   "metadata": {},
   "outputs": [],
   "source": [
    "table = client.get_table(transaction_table_id)\n",
    "schema = table.schema  # Extract schema"
   ]
  },
  {
   "cell_type": "code",
   "execution_count": null,
   "id": "bafb7f80-8ff9-4b11-90d9-f97d25995e8d",
   "metadata": {},
   "outputs": [],
   "source": [
    "new_table = bigquery.Table(new_table_id, schema=schema)"
   ]
  },
  {
   "cell_type": "code",
   "execution_count": null,
   "id": "6f66c9d3-c2f5-44cb-9159-d838758aba6c",
   "metadata": {},
   "outputs": [],
   "source": [
    "client.create_table(new_table, exists_ok=True)"
   ]
  },
  {
   "cell_type": "raw",
   "id": "cdc1c30c-e1e3-4360-add0-ba872ea9e4be",
   "metadata": {},
   "source": []
  },
  {
   "cell_type": "code",
   "execution_count": null,
   "id": "cff8309e-041f-49b1-bf7c-31793ab081ff",
   "metadata": {},
   "outputs": [],
   "source": [
    "column_names = [field.name for field in schema]\n",
    "print(column_names)"
   ]
  },
  {
   "cell_type": "code",
   "execution_count": null,
   "id": "a6c5ba4e-08f7-4647-ac5a-6bc1e49079d1",
   "metadata": {},
   "outputs": [],
   "source": []
  },
  {
   "cell_type": "code",
   "execution_count": null,
   "id": "55287ff5-b628-40c5-8b48-20397a70cd8e",
   "metadata": {},
   "outputs": [],
   "source": [
    "create_table(ACCOUNT_TABLE_STAGING, ACCOUNT_TEST_SCHEMA)"
   ]
  },
  {
   "cell_type": "code",
   "execution_count": null,
   "id": "5e87e82a-aa06-482a-9257-b544405630f8",
   "metadata": {},
   "outputs": [],
   "source": []
  },
  {
   "cell_type": "code",
   "execution_count": null,
   "id": "25e93b80-d2d9-4d1b-a543-373f1c31a8a4",
   "metadata": {},
   "outputs": [],
   "source": [
    "current_time = time.localtime()"
   ]
  },
  {
   "cell_type": "raw",
   "id": "1f2cd8c1-6cf7-4706-8fef-fbcb294677f8",
   "metadata": {},
   "source": []
  },
  {
   "cell_type": "code",
   "execution_count": null,
   "id": "6b5e3275-b662-4ce3-a590-3db5621b62b1",
   "metadata": {},
   "outputs": [],
   "source": [
    "print(current_time)"
   ]
  },
  {
   "cell_type": "code",
   "execution_count": null,
   "id": "23c5f666-b2d9-44d8-9aa1-efe2f940e8ee",
   "metadata": {},
   "outputs": [],
   "source": [
    "print(schema)"
   ]
  },
  {
   "cell_type": "code",
   "execution_count": null,
   "id": "2481e330-fae2-47a9-975f-d9f1d484b405",
   "metadata": {},
   "outputs": [],
   "source": []
  },
  {
   "cell_type": "code",
   "execution_count": null,
   "id": "972f3a24-4b0d-4715-9dda-23aae57b678d",
   "metadata": {},
   "outputs": [],
   "source": []
  },
  {
   "cell_type": "code",
   "execution_count": 25,
   "id": "ca944935-8674-4d85-a21f-d3d4837ea259",
   "metadata": {},
   "outputs": [
    {
     "name": "stdout",
     "output_type": "stream",
     "text": [
      "{'links': [{'rel': 'self', 'href': 'https://3730751-sb1.suitetalk.api.netsuite.com/services/rest/query/v1/suiteql?limit=1&offset=0'}], 'count': 1, 'hasMore': False, 'items': [{'links': [], 'expr1': '66878'}], 'offset': 0, 'totalResults': 1}\n"
     ]
    }
   ],
   "source": [
    "query = {\n",
    "    \"q\":\"SELECT COUNT(*) FROM entity\"\n",
    "}         \n",
    "         \n",
    "params = {\n",
    "    \"offset\": \"0\",\n",
    "    \"limit\": \"1\"\n",
    "}\n",
    "count = get_netsuite_data(params, query).json()\n",
    "\n",
    "print(count)\n",
    "\n"
   ]
  },
  {
   "cell_type": "code",
   "execution_count": 24,
   "id": "6fb73bab-07a4-428c-b7cf-bd092d7bc952",
   "metadata": {},
   "outputs": [
    {
     "name": "stdout",
     "output_type": "stream",
     "text": [
      "{'links': [{'rel': 'self', 'href': 'https://3730751-sb1.suitetalk.api.netsuite.com/services/rest/query/v1/suiteql?limit=10&offset=0'}], 'count': 0, 'hasMore': False, 'items': [], 'offset': 0, 'totalResults': 0}\n"
     ]
    }
   ],
   "source": [
    "query = {\n",
    "    \"q\":f\"\"\"\n",
    "    SELECT\n",
    "      id\n",
    "    FROM\n",
    "      transaction\n",
    "    WHERE\n",
    "      id = 19835062\n",
    "    \"\"\"\n",
    "}\n",
    "\n",
    "params = {\n",
    "    \"offset\": \"0\",\n",
    "    \"limit\": \"10\"\n",
    "}\n",
    "data =  get_netsuite_data(params, query).json()\n",
    "print(data)"
   ]
  },
  {
   "cell_type": "code",
   "execution_count": null,
   "id": "2911e1b9-35fb-4113-9ceb-1a4d81f5e4f7",
   "metadata": {},
   "outputs": [],
   "source": [
    "query = {\n",
    "    \"q\":f\"\"\"\n",
    "    SELECT uniquekey\n",
    "    FROM transactionLine\n",
    "    WHERE uniquekey >= 500000 AND uniquekey < 505000\n",
    "    \"\"\"\n",
    "}\n",
    "\n",
    "params = {\n",
    "    \"offset\": \"0\",\n",
    "    \"limit\": \"10\"\n",
    "}\n",
    "startTime = int(time.time())\n",
    "\n",
    "data = get_netsuite_data(params, query).json()\n",
    "\n",
    "endTime = int(time.time())\n",
    "print(\"total time: \" + str(endTime - startTime))\n",
    "\n",
    "print(data)"
   ]
  },
  {
   "cell_type": "code",
   "execution_count": null,
   "id": "382700f9-c2b6-4115-ad3e-032f79d67a88",
   "metadata": {},
   "outputs": [],
   "source": []
  },
  {
   "cell_type": "code",
   "execution_count": null,
   "id": "35bd4a10-aaa1-4ee0-890f-1556cd824c00",
   "metadata": {},
   "outputs": [],
   "source": [
    "moore_giles_acct_table = f\"{PROJECT_ID}.MooreGiles2.account\"\n",
    "\n",
    "account_table = client.get_table(moore_giles_acct_table)\n",
    "\n",
    "account_schema = account_table.schema\n",
    "print(account_schema)"
   ]
  },
  {
   "cell_type": "code",
   "execution_count": null,
   "id": "8c9ff3ee-5c2d-449c-80e7-15082a06d44f",
   "metadata": {},
   "outputs": [],
   "source": [
    "ACCOUNT_TABLE = f\"{PROJECT_ID}.{DATASET_ID}.Account\"\n",
    "print(ACCOUNT_TABLE)"
   ]
  },
  {
   "cell_type": "code",
   "execution_count": null,
   "id": "98f8c4eb-34ab-4b0d-8724-090e79cc8d96",
   "metadata": {},
   "outputs": [],
   "source": [
    "drop_table(ACCOUNT_TABLE)"
   ]
  },
  {
   "cell_type": "code",
   "execution_count": null,
   "id": "c08357bb-df9a-44d9-ad8a-bf79f469d287",
   "metadata": {},
   "outputs": [],
   "source": [
    "ACCOUNT_SCHEMA = [\n",
    "    SchemaField('id', 'INTEGER', 'NULLABLE'),\n",
    "    SchemaField('accountsearchdisplayname', 'STRING', 'NULLABLE'),\n",
    "    SchemaField('accountsearchdisplaynamecopy', 'STRING', 'NULLABLE'),\n",
    "    SchemaField('acctnumber', 'STRING', 'NULLABLE'),\n",
    "    SchemaField('accttype', 'STRING', 'NULLABLE'),\n",
    "    SchemaField('cashflowrate', 'STRING', 'NULLABLE'),\n",
    "    SchemaField('category1099misc', 'INTEGER', 'NULLABLE'),\n",
    "    SchemaField('currency', 'INTEGER', 'NULLABLE'),\n",
    "    SchemaField('deferralacct', 'INTEGER', 'NULLABLE'),\n",
    "    SchemaField('description', 'STRING', 'NULLABLE'),\n",
    "    SchemaField('displaynamewithhierarchy', 'STRING', 'NULLABLE'),\n",
    "    SchemaField('eliminate', 'BOOLEAN', 'NULLABLE'),\n",
    "    SchemaField('externalid', 'STRING', 'NULLABLE'),\n",
    "    SchemaField('fullname', 'STRING', 'NULLABLE'),\n",
    "    SchemaField('generalrate', 'STRING', 'NULLABLE'),\n",
    "    SchemaField('includechildren', 'BOOLEAN', 'NULLABLE'),\n",
    "    SchemaField('inventory', 'BOOLEAN', 'NULLABLE'),\n",
    "    SchemaField('isinactive', 'BOOLEAN', 'NULLABLE'),\n",
    "    SchemaField('issummary', 'BOOLEAN', 'NULLABLE'),\n",
    "    SchemaField('lastmodifieddate', 'DATE', 'NULLABLE'),\n",
    "    SchemaField('parent', 'INTEGER', 'NULLABLE'),\n",
    "    SchemaField('reconcilewithmatching', 'BOOLEAN', 'NULLABLE'),\n",
    "    SchemaField('revalue', 'BOOLEAN', 'NULLABLE'),\n",
    "    SchemaField('sspecacct', 'STRING', 'NULLABLE'),\n",
    "    SchemaField('subsidiary', 'STRING', 'NULLABLE'),\n",
    "    SchemaField('custrecord_acct_bank_account_number', 'STRING', 'NULLABLE'),\n",
    "    SchemaField('custrecord_mg_default_department', 'INTEGER', 'NULLABLE'),\n",
    "    SchemaField('custrecord_mg_default_division', 'STRING', 'NULLABLE'),\n",
    "    SchemaField('custrecord_fam_account_showinfixedasset', 'STRING', 'NULLABLE'),\n",
    "    SchemaField('updated_at', 'TIMESTAMP', 'NULLABLE')\n",
    "]"
   ]
  },
  {
   "cell_type": "code",
   "execution_count": null,
   "id": "5735f28d-def8-4c72-aaaa-9bf57913a87e",
   "metadata": {},
   "outputs": [],
   "source": [
    "create_table(ACCOUNT_TABLE, ACCOUNT_SCHEMA)"
   ]
  },
  {
   "cell_type": "code",
   "execution_count": null,
   "id": "e57eb1bd-974e-4369-8e3d-22fc1b94c6bd",
   "metadata": {},
   "outputs": [],
   "source": []
  },
  {
   "cell_type": "code",
   "execution_count": 19,
   "id": "356229a8-f379-4e21-b9a3-c4bb8b547fb9",
   "metadata": {},
   "outputs": [],
   "source": [
    "def get_max_unique_key(ns_table):\n",
    "    \"\"\"\n",
    "    Returns the maximum uniqueKey value from a NetSuite table.\n",
    "    \"\"\"\n",
    "\n",
    "    params = {\n",
    "        \"limit\": \"1\"\n",
    "    }\n",
    "    query = {\n",
    "        \"q\": f\"SELECT uniqueKey FROM {ns_table} ORDER BY uniqueKey DESC\"\n",
    "    }\n",
    "\n",
    "    # We just need the first row since it's sorted in descending order\n",
    "    results = get_netsuite_data(params, query).json().get(\"items\", [])\n",
    "    if results and len(results) > 0:\n",
    "        return int(results[0]['uniquekey'])\n",
    "\n",
    "    raise Exception(f\"❌ Could not fetch max uniqueKey from {ns_table}\")"
   ]
  },
  {
   "cell_type": "code",
   "execution_count": null,
   "id": "073d33ec-aab8-4d54-92c8-17a8a9d4c97b",
   "metadata": {},
   "outputs": [],
   "source": [
    "print(str(get_max_unique_key(\"transactionLine\")))"
   ]
  },
  {
   "cell_type": "code",
   "execution_count": null,
   "id": "5238f393-57a1-41c4-b4fc-b052a4ef04da",
   "metadata": {},
   "outputs": [],
   "source": []
  },
  {
   "cell_type": "code",
   "execution_count": null,
   "id": "926f08db-93ea-459f-8e9e-c101c03f2b01",
   "metadata": {},
   "outputs": [],
   "source": [
    "SCOPES = [\"https://www.googleapis.com/auth/spreadsheets.readonly\"]\n",
    "creds = Credentials.from_service_account_file(os.getenv(\"GCP_KEY_PATH\"), scopes=SCOPES)\n",
    "gspread_client = gspread.authorize(creds)"
   ]
  },
  {
   "cell_type": "code",
   "execution_count": null,
   "id": "1fc8d78a-8f58-4bcf-8130-e40d97e3eacc",
   "metadata": {},
   "outputs": [],
   "source": [
    "spreadsheet = gspread_client.open_by_key(\"1J05aKxbxBhgV8l3Tj4NxlTNHhkyqmZgNlohgkB8a7KU\")\n",
    "worksheet = spreadsheet.get_worksheet(0)\n",
    "rows = worksheet.get_all_records()\n",
    "print(rows)\n"
   ]
  },
  {
   "cell_type": "code",
   "execution_count": 20,
   "id": "f4881049-ed37-40f5-98f7-29aa4e255e39",
   "metadata": {},
   "outputs": [],
   "source": [
    "# Method to grab rows from google sheets\n",
    "# Grab data from one sheet? or all sheets?\n",
    "# Perhaps this one grabs from one, and combines with below method\n",
    "# Need to find out how to index through gsheet without hitting end\n",
    "# look into google sheets API methods\n",
    "\n",
    "\n",
    "\n",
    "\n",
    "\n",
    "\n",
    "def create_schema_from_sheet(gsheet_rows):\n",
    "    schema = [\n",
    "        bigquery.SchemaField(\n",
    "            field['Column Name'],\n",
    "            field['Data Type'],\n",
    "            field['Nullable']\n",
    "        )\n",
    "        for field in gsheet_rows\n",
    "    ]\n",
    "\n",
    "    return schema"
   ]
  },
  {
   "cell_type": "code",
   "execution_count": null,
   "id": "9f437fb7-e407-4d56-9be1-26581152864e",
   "metadata": {},
   "outputs": [],
   "source": [
    "\n",
    "print(create_schema_from_sheet(rows))"
   ]
  },
  {
   "cell_type": "code",
   "execution_count": null,
   "id": "b096b1c4-93e4-4c4c-88eb-69e3269d5ca8",
   "metadata": {},
   "outputs": [],
   "source": [
    "sheets = spreadsheet.worksheets()\n",
    "print(sheets)"
   ]
  },
  {
   "cell_type": "code",
   "execution_count": null,
   "id": "63862062-6d6f-4d4c-9190-b6612645107a",
   "metadata": {},
   "outputs": [],
   "source": []
  },
  {
   "cell_type": "code",
   "execution_count": null,
   "id": "7ad5e275-6634-4da2-9396-94eb80e5b8a0",
   "metadata": {},
   "outputs": [],
   "source": [
    "table_id = f\"{PROJECT_ID}.MooreGiles2.AccountingPeriod\"\n",
    "\n",
    "table = client.get_table(table_id)\n",
    "\n",
    "schema = table.schema\n",
    "print(schema)"
   ]
  },
  {
   "cell_type": "code",
   "execution_count": null,
   "id": "2387cc0a-c4aa-4b3a-9169-25a3a8a8470f",
   "metadata": {},
   "outputs": [],
   "source": [
    "table_id = f\"{PROJECT_ID}.MooreGiles2.CUSTOMRECORD_360_COMMISSION_RULE\"\n",
    "\n",
    "table = client.get_table(table_id)\n",
    "\n",
    "schema = table.schema\n",
    "print(schema)"
   ]
  },
  {
   "cell_type": "code",
   "execution_count": null,
   "id": "68dd0603-80ba-4ada-aeb5-40b2ff5127c8",
   "metadata": {},
   "outputs": [],
   "source": [
    "table_id = f\"{PROJECT_ID}.MooreGiles2.CUSTOMRECORD_360_COMMISSION_TRACKING\"\n",
    "\n",
    "table = client.get_table(table_id)\n",
    "\n",
    "schema = table.schema\n",
    "print(schema)"
   ]
  },
  {
   "cell_type": "code",
   "execution_count": null,
   "id": "441fcae3-9b68-4dfc-bbd0-ceadfdcdfe76",
   "metadata": {},
   "outputs": [],
   "source": [
    "table_id = f\"{PROJECT_ID}.MooreGiles2.transactionSalesTeam\"\n",
    "\n",
    "table = client.get_table(table_id)\n",
    "\n",
    "schema = table.schema\n",
    "print(schema)"
   ]
  },
  {
   "cell_type": "code",
   "execution_count": null,
   "id": "91fb9fe9-ebcc-402e-b52a-dd4a43faec77",
   "metadata": {},
   "outputs": [],
   "source": []
  },
  {
   "cell_type": "code",
   "execution_count": null,
   "id": "c73956ee-64c2-406d-a0e6-0ac0f5f967d1",
   "metadata": {},
   "outputs": [],
   "source": [
    "query = {\n",
    "    \"q\":f\"\"\"\n",
    "    SELECT *\n",
    "    FROM Account\n",
    "    \"\"\"\n",
    "}\n",
    "\n",
    "params = {\n",
    "    \"offset\": \"100\",\n",
    "    \"limit\": \"10\"\n",
    "}\n",
    "\n",
    "data = get_netsuite_data(params, query).json().get('items')\n",
    "\n",
    "print(data)"
   ]
  },
  {
   "cell_type": "code",
   "execution_count": null,
   "id": "90b80790-1d47-4fee-9b4a-6d9cd729e3ec",
   "metadata": {},
   "outputs": [],
   "source": []
  },
  {
   "cell_type": "code",
   "execution_count": null,
   "id": "f0a097c1-7613-49c9-b0b8-2d963ccdb3a0",
   "metadata": {},
   "outputs": [],
   "source": []
  },
  {
   "cell_type": "code",
   "execution_count": null,
   "id": "6144d31d-15f6-47f1-8395-5386fc3063c7",
   "metadata": {},
   "outputs": [],
   "source": []
  },
  {
   "cell_type": "code",
   "execution_count": 21,
   "id": "5f38c5f6-2aaa-42d5-a2a1-e17dbaeb21cf",
   "metadata": {},
   "outputs": [],
   "source": [
    "import re\n",
    "from typing import List, Tuple\n",
    "\n",
    "\n",
    "def extract_field_names_and_types(schema_fields: List[SchemaField]) :\n",
    "    \"\"\"\n",
    "    Returns two lists:\n",
    "    - field_names: list of field names\n",
    "    - field_types: list of cleaned types (STRING(n) → STRING, NUMERIC(x, y) → FLOAT, etc.)\n",
    "    Skips fields with None or empty types.\n",
    "    \"\"\"\n",
    "    field_names = []\n",
    "    field_types = []\n",
    "\n",
    "    for field in schema_fields:\n",
    "        name = field.name\n",
    "        type_str = field.field_type\n",
    "\n",
    "        if not type_str or type_str in (\"()\", \"None\"):\n",
    "            continue\n",
    "\n",
    "        # Normalize types\n",
    "        if re.match(r'^STRING\\(\\d+\\)$', type_str):\n",
    "            converted_type = \"STRING\"\n",
    "        elif re.match(r'^NUMERIC\\(\\d+,\\s*\\d+\\)$', type_str):\n",
    "            converted_type = \"FLOAT\"\n",
    "        else:\n",
    "            converted_type = type_str\n",
    "\n",
    "        field_names.append(name)\n",
    "        field_types.append(converted_type)\n",
    "\n",
    "    for name in field_names:\n",
    "        print(name)\n",
    "    \n",
    "    print()\n",
    "    print()\n",
    "    for t in field_types:\n",
    "        print(t)\n",
    "\n"
   ]
  },
  {
   "cell_type": "code",
   "execution_count": null,
   "id": "36847b90-e114-4aa9-b333-bc542197fa09",
   "metadata": {},
   "outputs": [],
   "source": [
    "schema = [SchemaField('contribution', 'FLOAT', 'NULLABLE', None, None, (), None), SchemaField('employee', 'STRING(2000)', 'NULLABLE', None, None, (), None), SchemaField('isprimary', 'BOOLEAN', 'NULLABLE', None, None, (), None), SchemaField('salesrole', 'STRING(2000)', 'NULLABLE', None, None, (), None), SchemaField('id', 'STRING(2000)', 'NULLABLE', None, None, (), None), SchemaField('transaction', 'INTEGER', 'NULLABLE', None, None, (), None)]\n",
    "print(extract_field_names_and_types(schema))"
   ]
  },
  {
   "cell_type": "code",
   "execution_count": null,
   "id": "e504c3fc-f5d0-4f9c-9e38-380d577e7bf5",
   "metadata": {},
   "outputs": [],
   "source": []
  }
 ],
 "metadata": {
  "kernelspec": {
   "display_name": "Python 3.12.2 (Pyenv)",
   "language": "python",
   "name": "pyenv-3.12.2"
  },
  "language_info": {
   "codemirror_mode": {
    "name": "ipython",
    "version": 3
   },
   "file_extension": ".py",
   "mimetype": "text/x-python",
   "name": "python",
   "nbconvert_exporter": "python",
   "pygments_lexer": "ipython3",
   "version": "3.12.2"
  }
 },
 "nbformat": 4,
 "nbformat_minor": 5
}
